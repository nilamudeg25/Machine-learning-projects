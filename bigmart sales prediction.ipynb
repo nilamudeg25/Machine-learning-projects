{
 "cells": [
  {
   "cell_type": "markdown",
   "id": "b628d173",
   "metadata": {},
   "source": [
    "# Bigmart sales prediction"
   ]
  },
  {
   "cell_type": "markdown",
   "id": "5b817877",
   "metadata": {},
   "source": [
    "Aim: To build a predictive model and find out the sales of each product at a particular store."
   ]
  },
  {
   "cell_type": "markdown",
   "id": "f1eb2e0d",
   "metadata": {},
   "source": [
    "# Variable ->\tDescription\n",
    "\n",
    "Item_Identifier ->\tUnique product ID\n",
    "\n",
    "Item_Weight\t-> Weight of product\n",
    "\n",
    "Item_Fat_Content ->\tWhether the product is low fat or not\n",
    "\n",
    "Item_Visibility\t-> The % of total display area of all products in a store allocated to the particular product\n",
    "\n",
    "Item_Type -> The category to which the product belongs\n",
    "\n",
    "Item_MRP -> Maximum Retail Price (list price) of the product\n",
    "\n",
    "Outlet_Identifier -> Unique store ID\n",
    "\n",
    "Outlet_Establishment_Year -> The year in which store was established\n",
    "\n",
    "Outlet_Size\t-> The size of the store in terms of ground area covered\n",
    "\n",
    "Outlet_Location_Type ->\tThe type of city in which the store is located\n",
    "\n",
    "Outlet_Type\t-> Whether the outlet is just a grocery store or some sort of supermarket\n",
    "\n",
    "Item_Outlet_Sales -> Sales of the product in the particulat store. This is the outcome variable to be predicted."
   ]
  },
  {
   "cell_type": "code",
   "execution_count": 1,
   "id": "d780d81a",
   "metadata": {},
   "outputs": [],
   "source": [
    "import seaborn as sns\n",
    "import pandas as pd\n",
    "import numpy as np\n",
    "import matplotlib.pyplot as plt\n",
    "import warnings\n",
    "warnings.filterwarnings ('ignore')"
   ]
  },
  {
   "cell_type": "code",
   "execution_count": 2,
   "id": "2a86e678",
   "metadata": {},
   "outputs": [],
   "source": [
    "df=pd.read_csv('Train.csv')\n"
   ]
  },
  {
   "cell_type": "code",
   "execution_count": 3,
   "id": "d509990b",
   "metadata": {},
   "outputs": [
    {
     "name": "stdout",
     "output_type": "stream",
     "text": [
      "<class 'pandas.core.frame.DataFrame'>\n",
      "RangeIndex: 8523 entries, 0 to 8522\n",
      "Data columns (total 12 columns):\n",
      " #   Column                     Non-Null Count  Dtype  \n",
      "---  ------                     --------------  -----  \n",
      " 0   Item_Identifier            8523 non-null   object \n",
      " 1   Item_Weight                7060 non-null   float64\n",
      " 2   Item_Fat_Content           8523 non-null   object \n",
      " 3   Item_Visibility            8523 non-null   float64\n",
      " 4   Item_Type                  8523 non-null   object \n",
      " 5   Item_MRP                   8523 non-null   float64\n",
      " 6   Outlet_Identifier          8523 non-null   object \n",
      " 7   Outlet_Establishment_Year  8523 non-null   int64  \n",
      " 8   Outlet_Size                6113 non-null   object \n",
      " 9   Outlet_Location_Type       8523 non-null   object \n",
      " 10  Outlet_Type                8523 non-null   object \n",
      " 11  Item_Outlet_Sales          8523 non-null   float64\n",
      "dtypes: float64(4), int64(1), object(7)\n",
      "memory usage: 799.2+ KB\n"
     ]
    }
   ],
   "source": [
    "df.info()"
   ]
  },
  {
   "cell_type": "code",
   "execution_count": 4,
   "id": "c7748504",
   "metadata": {},
   "outputs": [
    {
     "data": {
      "text/html": [
       "<div>\n",
       "<style scoped>\n",
       "    .dataframe tbody tr th:only-of-type {\n",
       "        vertical-align: middle;\n",
       "    }\n",
       "\n",
       "    .dataframe tbody tr th {\n",
       "        vertical-align: top;\n",
       "    }\n",
       "\n",
       "    .dataframe thead th {\n",
       "        text-align: right;\n",
       "    }\n",
       "</style>\n",
       "<table border=\"1\" class=\"dataframe\">\n",
       "  <thead>\n",
       "    <tr style=\"text-align: right;\">\n",
       "      <th></th>\n",
       "      <th>Item_Weight</th>\n",
       "      <th>Item_Visibility</th>\n",
       "      <th>Item_MRP</th>\n",
       "      <th>Outlet_Establishment_Year</th>\n",
       "      <th>Item_Outlet_Sales</th>\n",
       "    </tr>\n",
       "  </thead>\n",
       "  <tbody>\n",
       "    <tr>\n",
       "      <th>count</th>\n",
       "      <td>7060.000000</td>\n",
       "      <td>8523.000000</td>\n",
       "      <td>8523.000000</td>\n",
       "      <td>8523.000000</td>\n",
       "      <td>8523.000000</td>\n",
       "    </tr>\n",
       "    <tr>\n",
       "      <th>mean</th>\n",
       "      <td>12.857645</td>\n",
       "      <td>0.066132</td>\n",
       "      <td>140.992782</td>\n",
       "      <td>1997.831867</td>\n",
       "      <td>2181.288914</td>\n",
       "    </tr>\n",
       "    <tr>\n",
       "      <th>std</th>\n",
       "      <td>4.643456</td>\n",
       "      <td>0.051598</td>\n",
       "      <td>62.275067</td>\n",
       "      <td>8.371760</td>\n",
       "      <td>1706.499616</td>\n",
       "    </tr>\n",
       "    <tr>\n",
       "      <th>min</th>\n",
       "      <td>4.555000</td>\n",
       "      <td>0.000000</td>\n",
       "      <td>31.290000</td>\n",
       "      <td>1985.000000</td>\n",
       "      <td>33.290000</td>\n",
       "    </tr>\n",
       "    <tr>\n",
       "      <th>25%</th>\n",
       "      <td>8.773750</td>\n",
       "      <td>0.026989</td>\n",
       "      <td>93.826500</td>\n",
       "      <td>1987.000000</td>\n",
       "      <td>834.247400</td>\n",
       "    </tr>\n",
       "    <tr>\n",
       "      <th>50%</th>\n",
       "      <td>12.600000</td>\n",
       "      <td>0.053931</td>\n",
       "      <td>143.012800</td>\n",
       "      <td>1999.000000</td>\n",
       "      <td>1794.331000</td>\n",
       "    </tr>\n",
       "    <tr>\n",
       "      <th>75%</th>\n",
       "      <td>16.850000</td>\n",
       "      <td>0.094585</td>\n",
       "      <td>185.643700</td>\n",
       "      <td>2004.000000</td>\n",
       "      <td>3101.296400</td>\n",
       "    </tr>\n",
       "    <tr>\n",
       "      <th>max</th>\n",
       "      <td>21.350000</td>\n",
       "      <td>0.328391</td>\n",
       "      <td>266.888400</td>\n",
       "      <td>2009.000000</td>\n",
       "      <td>13086.964800</td>\n",
       "    </tr>\n",
       "  </tbody>\n",
       "</table>\n",
       "</div>"
      ],
      "text/plain": [
       "       Item_Weight  Item_Visibility     Item_MRP  Outlet_Establishment_Year  \\\n",
       "count  7060.000000      8523.000000  8523.000000                8523.000000   \n",
       "mean     12.857645         0.066132   140.992782                1997.831867   \n",
       "std       4.643456         0.051598    62.275067                   8.371760   \n",
       "min       4.555000         0.000000    31.290000                1985.000000   \n",
       "25%       8.773750         0.026989    93.826500                1987.000000   \n",
       "50%      12.600000         0.053931   143.012800                1999.000000   \n",
       "75%      16.850000         0.094585   185.643700                2004.000000   \n",
       "max      21.350000         0.328391   266.888400                2009.000000   \n",
       "\n",
       "       Item_Outlet_Sales  \n",
       "count        8523.000000  \n",
       "mean         2181.288914  \n",
       "std          1706.499616  \n",
       "min            33.290000  \n",
       "25%           834.247400  \n",
       "50%          1794.331000  \n",
       "75%          3101.296400  \n",
       "max         13086.964800  "
      ]
     },
     "execution_count": 4,
     "metadata": {},
     "output_type": "execute_result"
    }
   ],
   "source": [
    "df.describe()"
   ]
  },
  {
   "cell_type": "code",
   "execution_count": 5,
   "id": "5a875bb6",
   "metadata": {},
   "outputs": [
    {
     "data": {
      "text/html": [
       "<div>\n",
       "<style scoped>\n",
       "    .dataframe tbody tr th:only-of-type {\n",
       "        vertical-align: middle;\n",
       "    }\n",
       "\n",
       "    .dataframe tbody tr th {\n",
       "        vertical-align: top;\n",
       "    }\n",
       "\n",
       "    .dataframe thead th {\n",
       "        text-align: right;\n",
       "    }\n",
       "</style>\n",
       "<table border=\"1\" class=\"dataframe\">\n",
       "  <thead>\n",
       "    <tr style=\"text-align: right;\">\n",
       "      <th></th>\n",
       "      <th>Item_Identifier</th>\n",
       "      <th>Item_Weight</th>\n",
       "      <th>Item_Fat_Content</th>\n",
       "      <th>Item_Visibility</th>\n",
       "      <th>Item_Type</th>\n",
       "      <th>Item_MRP</th>\n",
       "      <th>Outlet_Identifier</th>\n",
       "      <th>Outlet_Establishment_Year</th>\n",
       "      <th>Outlet_Size</th>\n",
       "      <th>Outlet_Location_Type</th>\n",
       "      <th>Outlet_Type</th>\n",
       "      <th>Item_Outlet_Sales</th>\n",
       "    </tr>\n",
       "  </thead>\n",
       "  <tbody>\n",
       "    <tr>\n",
       "      <th>0</th>\n",
       "      <td>FDA15</td>\n",
       "      <td>9.30</td>\n",
       "      <td>Low Fat</td>\n",
       "      <td>0.016047</td>\n",
       "      <td>Dairy</td>\n",
       "      <td>249.8092</td>\n",
       "      <td>OUT049</td>\n",
       "      <td>1999</td>\n",
       "      <td>Medium</td>\n",
       "      <td>Tier 1</td>\n",
       "      <td>Supermarket Type1</td>\n",
       "      <td>3735.1380</td>\n",
       "    </tr>\n",
       "    <tr>\n",
       "      <th>1</th>\n",
       "      <td>DRC01</td>\n",
       "      <td>5.92</td>\n",
       "      <td>Regular</td>\n",
       "      <td>0.019278</td>\n",
       "      <td>Soft Drinks</td>\n",
       "      <td>48.2692</td>\n",
       "      <td>OUT018</td>\n",
       "      <td>2009</td>\n",
       "      <td>Medium</td>\n",
       "      <td>Tier 3</td>\n",
       "      <td>Supermarket Type2</td>\n",
       "      <td>443.4228</td>\n",
       "    </tr>\n",
       "    <tr>\n",
       "      <th>2</th>\n",
       "      <td>FDN15</td>\n",
       "      <td>17.50</td>\n",
       "      <td>Low Fat</td>\n",
       "      <td>0.016760</td>\n",
       "      <td>Meat</td>\n",
       "      <td>141.6180</td>\n",
       "      <td>OUT049</td>\n",
       "      <td>1999</td>\n",
       "      <td>Medium</td>\n",
       "      <td>Tier 1</td>\n",
       "      <td>Supermarket Type1</td>\n",
       "      <td>2097.2700</td>\n",
       "    </tr>\n",
       "    <tr>\n",
       "      <th>3</th>\n",
       "      <td>FDX07</td>\n",
       "      <td>19.20</td>\n",
       "      <td>Regular</td>\n",
       "      <td>0.000000</td>\n",
       "      <td>Fruits and Vegetables</td>\n",
       "      <td>182.0950</td>\n",
       "      <td>OUT010</td>\n",
       "      <td>1998</td>\n",
       "      <td>NaN</td>\n",
       "      <td>Tier 3</td>\n",
       "      <td>Grocery Store</td>\n",
       "      <td>732.3800</td>\n",
       "    </tr>\n",
       "    <tr>\n",
       "      <th>4</th>\n",
       "      <td>NCD19</td>\n",
       "      <td>8.93</td>\n",
       "      <td>Low Fat</td>\n",
       "      <td>0.000000</td>\n",
       "      <td>Household</td>\n",
       "      <td>53.8614</td>\n",
       "      <td>OUT013</td>\n",
       "      <td>1987</td>\n",
       "      <td>High</td>\n",
       "      <td>Tier 3</td>\n",
       "      <td>Supermarket Type1</td>\n",
       "      <td>994.7052</td>\n",
       "    </tr>\n",
       "  </tbody>\n",
       "</table>\n",
       "</div>"
      ],
      "text/plain": [
       "  Item_Identifier  Item_Weight Item_Fat_Content  Item_Visibility  \\\n",
       "0           FDA15         9.30          Low Fat         0.016047   \n",
       "1           DRC01         5.92          Regular         0.019278   \n",
       "2           FDN15        17.50          Low Fat         0.016760   \n",
       "3           FDX07        19.20          Regular         0.000000   \n",
       "4           NCD19         8.93          Low Fat         0.000000   \n",
       "\n",
       "               Item_Type  Item_MRP Outlet_Identifier  \\\n",
       "0                  Dairy  249.8092            OUT049   \n",
       "1            Soft Drinks   48.2692            OUT018   \n",
       "2                   Meat  141.6180            OUT049   \n",
       "3  Fruits and Vegetables  182.0950            OUT010   \n",
       "4              Household   53.8614            OUT013   \n",
       "\n",
       "   Outlet_Establishment_Year Outlet_Size Outlet_Location_Type  \\\n",
       "0                       1999      Medium               Tier 1   \n",
       "1                       2009      Medium               Tier 3   \n",
       "2                       1999      Medium               Tier 1   \n",
       "3                       1998         NaN               Tier 3   \n",
       "4                       1987        High               Tier 3   \n",
       "\n",
       "         Outlet_Type  Item_Outlet_Sales  \n",
       "0  Supermarket Type1          3735.1380  \n",
       "1  Supermarket Type2           443.4228  \n",
       "2  Supermarket Type1          2097.2700  \n",
       "3      Grocery Store           732.3800  \n",
       "4  Supermarket Type1           994.7052  "
      ]
     },
     "execution_count": 5,
     "metadata": {},
     "output_type": "execute_result"
    }
   ],
   "source": [
    "df.head()"
   ]
  },
  {
   "cell_type": "code",
   "execution_count": 6,
   "id": "368700dd",
   "metadata": {
    "scrolled": false
   },
   "outputs": [
    {
     "data": {
      "text/plain": [
       "Index(['Item_Identifier', 'Item_Weight', 'Item_Fat_Content', 'Item_Visibility',\n",
       "       'Item_Type', 'Item_MRP', 'Outlet_Identifier',\n",
       "       'Outlet_Establishment_Year', 'Outlet_Size', 'Outlet_Location_Type',\n",
       "       'Outlet_Type', 'Item_Outlet_Sales'],\n",
       "      dtype='object')"
      ]
     },
     "execution_count": 6,
     "metadata": {},
     "output_type": "execute_result"
    }
   ],
   "source": [
    "df.columns"
   ]
  },
  {
   "cell_type": "markdown",
   "id": "d2efbac5",
   "metadata": {},
   "source": [
    "# Handling Missing Values"
   ]
  },
  {
   "cell_type": "code",
   "execution_count": 7,
   "id": "dc85d6fd",
   "metadata": {},
   "outputs": [
    {
     "data": {
      "text/plain": [
       "Item_Identifier                 0\n",
       "Item_Weight                  1463\n",
       "Item_Fat_Content                0\n",
       "Item_Visibility                 0\n",
       "Item_Type                       0\n",
       "Item_MRP                        0\n",
       "Outlet_Identifier               0\n",
       "Outlet_Establishment_Year       0\n",
       "Outlet_Size                  2410\n",
       "Outlet_Location_Type            0\n",
       "Outlet_Type                     0\n",
       "Item_Outlet_Sales               0\n",
       "dtype: int64"
      ]
     },
     "execution_count": 7,
     "metadata": {},
     "output_type": "execute_result"
    }
   ],
   "source": [
    "df.isnull().sum()"
   ]
  },
  {
   "cell_type": "code",
   "execution_count": 8,
   "id": "17cef131",
   "metadata": {},
   "outputs": [],
   "source": [
    "df.fillna('NaN',inplace=True)"
   ]
  },
  {
   "cell_type": "code",
   "execution_count": 9,
   "id": "98ad0b74",
   "metadata": {
    "scrolled": true
   },
   "outputs": [
    {
     "data": {
      "text/html": [
       "<div>\n",
       "<style scoped>\n",
       "    .dataframe tbody tr th:only-of-type {\n",
       "        vertical-align: middle;\n",
       "    }\n",
       "\n",
       "    .dataframe tbody tr th {\n",
       "        vertical-align: top;\n",
       "    }\n",
       "\n",
       "    .dataframe thead th {\n",
       "        text-align: right;\n",
       "    }\n",
       "</style>\n",
       "<table border=\"1\" class=\"dataframe\">\n",
       "  <thead>\n",
       "    <tr style=\"text-align: right;\">\n",
       "      <th></th>\n",
       "      <th>Item_Identifier</th>\n",
       "      <th>Item_Weight</th>\n",
       "      <th>Item_Fat_Content</th>\n",
       "      <th>Item_Visibility</th>\n",
       "      <th>Item_Type</th>\n",
       "      <th>Item_MRP</th>\n",
       "      <th>Outlet_Identifier</th>\n",
       "      <th>Outlet_Establishment_Year</th>\n",
       "      <th>Outlet_Size</th>\n",
       "      <th>Outlet_Location_Type</th>\n",
       "      <th>Outlet_Type</th>\n",
       "      <th>Item_Outlet_Sales</th>\n",
       "    </tr>\n",
       "  </thead>\n",
       "  <tbody>\n",
       "    <tr>\n",
       "      <th>0</th>\n",
       "      <td>FDA15</td>\n",
       "      <td>9.3</td>\n",
       "      <td>Low Fat</td>\n",
       "      <td>0.016047</td>\n",
       "      <td>Dairy</td>\n",
       "      <td>249.8092</td>\n",
       "      <td>OUT049</td>\n",
       "      <td>1999</td>\n",
       "      <td>Medium</td>\n",
       "      <td>Tier 1</td>\n",
       "      <td>Supermarket Type1</td>\n",
       "      <td>3735.1380</td>\n",
       "    </tr>\n",
       "    <tr>\n",
       "      <th>1</th>\n",
       "      <td>DRC01</td>\n",
       "      <td>5.92</td>\n",
       "      <td>Regular</td>\n",
       "      <td>0.019278</td>\n",
       "      <td>Soft Drinks</td>\n",
       "      <td>48.2692</td>\n",
       "      <td>OUT018</td>\n",
       "      <td>2009</td>\n",
       "      <td>Medium</td>\n",
       "      <td>Tier 3</td>\n",
       "      <td>Supermarket Type2</td>\n",
       "      <td>443.4228</td>\n",
       "    </tr>\n",
       "    <tr>\n",
       "      <th>2</th>\n",
       "      <td>FDN15</td>\n",
       "      <td>17.5</td>\n",
       "      <td>Low Fat</td>\n",
       "      <td>0.016760</td>\n",
       "      <td>Meat</td>\n",
       "      <td>141.6180</td>\n",
       "      <td>OUT049</td>\n",
       "      <td>1999</td>\n",
       "      <td>Medium</td>\n",
       "      <td>Tier 1</td>\n",
       "      <td>Supermarket Type1</td>\n",
       "      <td>2097.2700</td>\n",
       "    </tr>\n",
       "    <tr>\n",
       "      <th>3</th>\n",
       "      <td>FDX07</td>\n",
       "      <td>19.2</td>\n",
       "      <td>Regular</td>\n",
       "      <td>0.000000</td>\n",
       "      <td>Fruits and Vegetables</td>\n",
       "      <td>182.0950</td>\n",
       "      <td>OUT010</td>\n",
       "      <td>1998</td>\n",
       "      <td>NaN</td>\n",
       "      <td>Tier 3</td>\n",
       "      <td>Grocery Store</td>\n",
       "      <td>732.3800</td>\n",
       "    </tr>\n",
       "    <tr>\n",
       "      <th>4</th>\n",
       "      <td>NCD19</td>\n",
       "      <td>8.93</td>\n",
       "      <td>Low Fat</td>\n",
       "      <td>0.000000</td>\n",
       "      <td>Household</td>\n",
       "      <td>53.8614</td>\n",
       "      <td>OUT013</td>\n",
       "      <td>1987</td>\n",
       "      <td>High</td>\n",
       "      <td>Tier 3</td>\n",
       "      <td>Supermarket Type1</td>\n",
       "      <td>994.7052</td>\n",
       "    </tr>\n",
       "    <tr>\n",
       "      <th>5</th>\n",
       "      <td>FDP36</td>\n",
       "      <td>10.395</td>\n",
       "      <td>Regular</td>\n",
       "      <td>0.000000</td>\n",
       "      <td>Baking Goods</td>\n",
       "      <td>51.4008</td>\n",
       "      <td>OUT018</td>\n",
       "      <td>2009</td>\n",
       "      <td>Medium</td>\n",
       "      <td>Tier 3</td>\n",
       "      <td>Supermarket Type2</td>\n",
       "      <td>556.6088</td>\n",
       "    </tr>\n",
       "    <tr>\n",
       "      <th>6</th>\n",
       "      <td>FDO10</td>\n",
       "      <td>13.65</td>\n",
       "      <td>Regular</td>\n",
       "      <td>0.012741</td>\n",
       "      <td>Snack Foods</td>\n",
       "      <td>57.6588</td>\n",
       "      <td>OUT013</td>\n",
       "      <td>1987</td>\n",
       "      <td>High</td>\n",
       "      <td>Tier 3</td>\n",
       "      <td>Supermarket Type1</td>\n",
       "      <td>343.5528</td>\n",
       "    </tr>\n",
       "    <tr>\n",
       "      <th>7</th>\n",
       "      <td>FDP10</td>\n",
       "      <td>NaN</td>\n",
       "      <td>Low Fat</td>\n",
       "      <td>0.127470</td>\n",
       "      <td>Snack Foods</td>\n",
       "      <td>107.7622</td>\n",
       "      <td>OUT027</td>\n",
       "      <td>1985</td>\n",
       "      <td>Medium</td>\n",
       "      <td>Tier 3</td>\n",
       "      <td>Supermarket Type3</td>\n",
       "      <td>4022.7636</td>\n",
       "    </tr>\n",
       "    <tr>\n",
       "      <th>8</th>\n",
       "      <td>FDH17</td>\n",
       "      <td>16.2</td>\n",
       "      <td>Regular</td>\n",
       "      <td>0.016687</td>\n",
       "      <td>Frozen Foods</td>\n",
       "      <td>96.9726</td>\n",
       "      <td>OUT045</td>\n",
       "      <td>2002</td>\n",
       "      <td>NaN</td>\n",
       "      <td>Tier 2</td>\n",
       "      <td>Supermarket Type1</td>\n",
       "      <td>1076.5986</td>\n",
       "    </tr>\n",
       "    <tr>\n",
       "      <th>9</th>\n",
       "      <td>FDU28</td>\n",
       "      <td>19.2</td>\n",
       "      <td>Regular</td>\n",
       "      <td>0.094450</td>\n",
       "      <td>Frozen Foods</td>\n",
       "      <td>187.8214</td>\n",
       "      <td>OUT017</td>\n",
       "      <td>2007</td>\n",
       "      <td>NaN</td>\n",
       "      <td>Tier 2</td>\n",
       "      <td>Supermarket Type1</td>\n",
       "      <td>4710.5350</td>\n",
       "    </tr>\n",
       "  </tbody>\n",
       "</table>\n",
       "</div>"
      ],
      "text/plain": [
       "  Item_Identifier Item_Weight Item_Fat_Content  Item_Visibility  \\\n",
       "0           FDA15         9.3          Low Fat         0.016047   \n",
       "1           DRC01        5.92          Regular         0.019278   \n",
       "2           FDN15        17.5          Low Fat         0.016760   \n",
       "3           FDX07        19.2          Regular         0.000000   \n",
       "4           NCD19        8.93          Low Fat         0.000000   \n",
       "5           FDP36      10.395          Regular         0.000000   \n",
       "6           FDO10       13.65          Regular         0.012741   \n",
       "7           FDP10         NaN          Low Fat         0.127470   \n",
       "8           FDH17        16.2          Regular         0.016687   \n",
       "9           FDU28        19.2          Regular         0.094450   \n",
       "\n",
       "               Item_Type  Item_MRP Outlet_Identifier  \\\n",
       "0                  Dairy  249.8092            OUT049   \n",
       "1            Soft Drinks   48.2692            OUT018   \n",
       "2                   Meat  141.6180            OUT049   \n",
       "3  Fruits and Vegetables  182.0950            OUT010   \n",
       "4              Household   53.8614            OUT013   \n",
       "5           Baking Goods   51.4008            OUT018   \n",
       "6            Snack Foods   57.6588            OUT013   \n",
       "7            Snack Foods  107.7622            OUT027   \n",
       "8           Frozen Foods   96.9726            OUT045   \n",
       "9           Frozen Foods  187.8214            OUT017   \n",
       "\n",
       "   Outlet_Establishment_Year Outlet_Size Outlet_Location_Type  \\\n",
       "0                       1999      Medium               Tier 1   \n",
       "1                       2009      Medium               Tier 3   \n",
       "2                       1999      Medium               Tier 1   \n",
       "3                       1998         NaN               Tier 3   \n",
       "4                       1987        High               Tier 3   \n",
       "5                       2009      Medium               Tier 3   \n",
       "6                       1987        High               Tier 3   \n",
       "7                       1985      Medium               Tier 3   \n",
       "8                       2002         NaN               Tier 2   \n",
       "9                       2007         NaN               Tier 2   \n",
       "\n",
       "         Outlet_Type  Item_Outlet_Sales  \n",
       "0  Supermarket Type1          3735.1380  \n",
       "1  Supermarket Type2           443.4228  \n",
       "2  Supermarket Type1          2097.2700  \n",
       "3      Grocery Store           732.3800  \n",
       "4  Supermarket Type1           994.7052  \n",
       "5  Supermarket Type2           556.6088  \n",
       "6  Supermarket Type1           343.5528  \n",
       "7  Supermarket Type3          4022.7636  \n",
       "8  Supermarket Type1          1076.5986  \n",
       "9  Supermarket Type1          4710.5350  "
      ]
     },
     "execution_count": 9,
     "metadata": {},
     "output_type": "execute_result"
    }
   ],
   "source": [
    "df.head(10)"
   ]
  },
  {
   "cell_type": "code",
   "execution_count": 10,
   "id": "aa89251f",
   "metadata": {},
   "outputs": [
    {
     "data": {
      "text/plain": [
       "['Item_Identifier',\n",
       " 'Item_Weight',\n",
       " 'Item_Fat_Content',\n",
       " 'Item_Type',\n",
       " 'Outlet_Identifier',\n",
       " 'Outlet_Size',\n",
       " 'Outlet_Location_Type',\n",
       " 'Outlet_Type']"
      ]
     },
     "execution_count": 10,
     "metadata": {},
     "output_type": "execute_result"
    }
   ],
   "source": [
    "cat_col = []\n",
    "for x in df.dtypes.index:\n",
    "    if df.dtypes[x] == 'object':\n",
    "        cat_col.append(x)\n",
    "cat_col"
   ]
  },
  {
   "cell_type": "code",
   "execution_count": 11,
   "id": "ea8f6d6e",
   "metadata": {
    "scrolled": true
   },
   "outputs": [
    {
     "data": {
      "text/plain": [
       "['Item_Weight',\n",
       " 'Item_Fat_Content',\n",
       " 'Item_Type',\n",
       " 'Outlet_Size',\n",
       " 'Outlet_Location_Type',\n",
       " 'Outlet_Type']"
      ]
     },
     "execution_count": 11,
     "metadata": {},
     "output_type": "execute_result"
    }
   ],
   "source": [
    "cat_col.remove('Item_Identifier')\n",
    "cat_col.remove('Outlet_Identifier')\n",
    "cat_col"
   ]
  },
  {
   "cell_type": "code",
   "execution_count": 12,
   "id": "f59085c7",
   "metadata": {},
   "outputs": [
    {
     "name": "stdout",
     "output_type": "stream",
     "text": [
      "Item_Weight\n",
      "NaN      1463\n",
      "12.15      86\n",
      "17.6       82\n",
      "13.65      77\n",
      "11.8       76\n",
      "         ... \n",
      "8.67        2\n",
      "9.42        1\n",
      "6.52        1\n",
      "7.685       1\n",
      "5.4         1\n",
      "Name: Item_Weight, Length: 416, dtype: int64\n",
      "\n",
      "Item_Fat_Content\n",
      "Low Fat    5089\n",
      "Regular    2889\n",
      "LF          316\n",
      "reg         117\n",
      "low fat     112\n",
      "Name: Item_Fat_Content, dtype: int64\n",
      "\n",
      "Item_Type\n",
      "Fruits and Vegetables    1232\n",
      "Snack Foods              1200\n",
      "Household                 910\n",
      "Frozen Foods              856\n",
      "Dairy                     682\n",
      "Canned                    649\n",
      "Baking Goods              648\n",
      "Health and Hygiene        520\n",
      "Soft Drinks               445\n",
      "Meat                      425\n",
      "Breads                    251\n",
      "Hard Drinks               214\n",
      "Others                    169\n",
      "Starchy Foods             148\n",
      "Breakfast                 110\n",
      "Seafood                    64\n",
      "Name: Item_Type, dtype: int64\n",
      "\n",
      "Outlet_Size\n",
      "Medium    2793\n",
      "NaN       2410\n",
      "Small     2388\n",
      "High       932\n",
      "Name: Outlet_Size, dtype: int64\n",
      "\n",
      "Outlet_Location_Type\n",
      "Tier 3    3350\n",
      "Tier 2    2785\n",
      "Tier 1    2388\n",
      "Name: Outlet_Location_Type, dtype: int64\n",
      "\n",
      "Outlet_Type\n",
      "Supermarket Type1    5577\n",
      "Grocery Store        1083\n",
      "Supermarket Type3     935\n",
      "Supermarket Type2     928\n",
      "Name: Outlet_Type, dtype: int64\n",
      "\n"
     ]
    }
   ],
   "source": [
    "for col in cat_col:\n",
    "    print(col)\n",
    "    print(df[col].value_counts())\n",
    "    print()"
   ]
  },
  {
   "cell_type": "code",
   "execution_count": 13,
   "id": "f84c2340",
   "metadata": {
    "scrolled": false
   },
   "outputs": [
    {
     "data": {
      "text/plain": [
       "NaN      1463\n",
       "12.15      86\n",
       "17.6       82\n",
       "13.65      77\n",
       "11.8       76\n",
       "         ... \n",
       "8.67        2\n",
       "9.42        1\n",
       "6.52        1\n",
       "7.685       1\n",
       "5.4         1\n",
       "Name: Item_Weight, Length: 416, dtype: int64"
      ]
     },
     "execution_count": 13,
     "metadata": {},
     "output_type": "execute_result"
    }
   ],
   "source": [
    "df['Item_Weight'].value_counts()"
   ]
  },
  {
   "cell_type": "code",
   "execution_count": 14,
   "id": "7ab249cd",
   "metadata": {},
   "outputs": [],
   "source": [
    "df['Item_Weight']=df['Item_Weight'].astype('float')"
   ]
  },
  {
   "cell_type": "code",
   "execution_count": 15,
   "id": "e7e6a418",
   "metadata": {},
   "outputs": [
    {
     "name": "stdout",
     "output_type": "stream",
     "text": [
      "Mean of item weight: 12.857645184136183\n"
     ]
    },
    {
     "data": {
      "text/plain": [
       "12.857645    1463\n",
       "12.150000      86\n",
       "17.600000      82\n",
       "13.650000      77\n",
       "11.800000      76\n",
       "             ... \n",
       "5.735000        2\n",
       "7.685000        1\n",
       "9.420000        1\n",
       "5.400000        1\n",
       "6.520000        1\n",
       "Name: Item_Weight, Length: 416, dtype: int64"
      ]
     },
     "execution_count": 15,
     "metadata": {},
     "output_type": "execute_result"
    }
   ],
   "source": [
    "mean_weight=df['Item_Weight'].mean()\n",
    "print('Mean of item weight:',mean_weight)\n",
    "df['Item_Weight'].fillna(mean_weight,inplace=True)\n",
    "df['Item_Weight'].value_counts()"
   ]
  },
  {
   "cell_type": "code",
   "execution_count": 16,
   "id": "57df9d09",
   "metadata": {},
   "outputs": [
    {
     "data": {
      "text/plain": [
       "0"
      ]
     },
     "execution_count": 16,
     "metadata": {},
     "output_type": "execute_result"
    }
   ],
   "source": [
    "df['Item_Weight'].isnull().sum()"
   ]
  },
  {
   "cell_type": "code",
   "execution_count": 17,
   "id": "91c99e82",
   "metadata": {
    "scrolled": true
   },
   "outputs": [
    {
     "data": {
      "text/plain": [
       "0"
      ]
     },
     "execution_count": 17,
     "metadata": {},
     "output_type": "execute_result"
    }
   ],
   "source": [
    "df.duplicated().sum()"
   ]
  },
  {
   "cell_type": "code",
   "execution_count": 18,
   "id": "1ce743ff",
   "metadata": {},
   "outputs": [],
   "source": [
    "#df.drop(['Outlet_Location_Type','Item_Fat_Content'],axis=1,inplace=True)"
   ]
  },
  {
   "cell_type": "code",
   "execution_count": 19,
   "id": "428acebe",
   "metadata": {
    "scrolled": true
   },
   "outputs": [],
   "source": [
    "#df.drop(['Item_Visibility','Outlet_Size'],axis=1,inplace=True)"
   ]
  },
  {
   "cell_type": "code",
   "execution_count": 20,
   "id": "f1a4a52a",
   "metadata": {
    "scrolled": true
   },
   "outputs": [],
   "source": [
    "#df['Item_Type'].value_counts()"
   ]
  },
  {
   "cell_type": "code",
   "execution_count": 21,
   "id": "c993a645",
   "metadata": {
    "scrolled": true
   },
   "outputs": [
    {
     "data": {
      "text/plain": [
       "1985    1463\n",
       "1987     932\n",
       "2004     930\n",
       "1997     930\n",
       "1999     930\n",
       "2002     929\n",
       "2009     928\n",
       "2007     926\n",
       "1998     555\n",
       "Name: Outlet_Establishment_Year, dtype: int64"
      ]
     },
     "execution_count": 21,
     "metadata": {},
     "output_type": "execute_result"
    }
   ],
   "source": [
    "df['Outlet_Establishment_Year'].value_counts()"
   ]
  },
  {
   "cell_type": "code",
   "execution_count": 22,
   "id": "78a2802c",
   "metadata": {},
   "outputs": [],
   "source": [
    "#df['Outlet_Type'].value_counts()"
   ]
  },
  {
   "cell_type": "code",
   "execution_count": 23,
   "id": "39b3a23d",
   "metadata": {
    "scrolled": false
   },
   "outputs": [
    {
     "data": {
      "text/plain": [
       "OUT027    935\n",
       "OUT013    932\n",
       "OUT046    930\n",
       "OUT049    930\n",
       "OUT035    930\n",
       "OUT045    929\n",
       "OUT018    928\n",
       "OUT017    926\n",
       "OUT010    555\n",
       "OUT019    528\n",
       "Name: Outlet_Identifier, dtype: int64"
      ]
     },
     "execution_count": 23,
     "metadata": {},
     "output_type": "execute_result"
    }
   ],
   "source": [
    "df['Outlet_Identifier'].value_counts()"
   ]
  },
  {
   "cell_type": "code",
   "execution_count": 24,
   "id": "313e8609",
   "metadata": {},
   "outputs": [],
   "source": [
    "#df['Item_Fat_Content'].value_counts()"
   ]
  },
  {
   "cell_type": "code",
   "execution_count": 25,
   "id": "09289268",
   "metadata": {},
   "outputs": [
    {
     "data": {
      "text/plain": [
       "Low Fat    5517\n",
       "Regular    3006\n",
       "Name: Item_Fat_Content, dtype: int64"
      ]
     },
     "execution_count": 25,
     "metadata": {},
     "output_type": "execute_result"
    }
   ],
   "source": [
    "df['Item_Fat_Content']=df['Item_Fat_Content'].replace({'LF':'Low Fat','reg':'Regular','low fat':'Low Fat'})\n",
    "df['Item_Fat_Content'].value_counts()"
   ]
  },
  {
   "cell_type": "code",
   "execution_count": 26,
   "id": "6a2f178f",
   "metadata": {},
   "outputs": [
    {
     "data": {
      "text/plain": [
       "526"
      ]
     },
     "execution_count": 26,
     "metadata": {},
     "output_type": "execute_result"
    }
   ],
   "source": [
    "(df['Item_Visibility']==0).sum()"
   ]
  },
  {
   "cell_type": "code",
   "execution_count": 27,
   "id": "eb0d7fd7",
   "metadata": {},
   "outputs": [
    {
     "data": {
      "text/plain": [
       "0"
      ]
     },
     "execution_count": 27,
     "metadata": {},
     "output_type": "execute_result"
    }
   ],
   "source": [
    "df['Item_Visibility'].replace([0],[df['Item_Visibility'].mean()],inplace=True)\n",
    "(df['Item_Visibility']==0).sum()"
   ]
  },
  {
   "cell_type": "code",
   "execution_count": 28,
   "id": "9177baa3",
   "metadata": {},
   "outputs": [
    {
     "data": {
      "text/plain": [
       "0"
      ]
     },
     "execution_count": 28,
     "metadata": {},
     "output_type": "execute_result"
    }
   ],
   "source": [
    "df['Item_MRP'].isnull().sum()"
   ]
  },
  {
   "cell_type": "code",
   "execution_count": 29,
   "id": "dbbefaf9",
   "metadata": {
    "scrolled": true
   },
   "outputs": [
    {
     "data": {
      "text/plain": [
       "Medium    5203\n",
       "Small     2388\n",
       "High       932\n",
       "Name: Outlet_Size, dtype: int64"
      ]
     },
     "execution_count": 29,
     "metadata": {},
     "output_type": "execute_result"
    }
   ],
   "source": [
    "df['Outlet_Size'].replace('NaN','Medium',inplace=True)\n",
    "df['Outlet_Size'].value_counts()"
   ]
  },
  {
   "cell_type": "code",
   "execution_count": 30,
   "id": "a20dfca3",
   "metadata": {
    "scrolled": true
   },
   "outputs": [
    {
     "data": {
      "text/html": [
       "<div>\n",
       "<style scoped>\n",
       "    .dataframe tbody tr th:only-of-type {\n",
       "        vertical-align: middle;\n",
       "    }\n",
       "\n",
       "    .dataframe tbody tr th {\n",
       "        vertical-align: top;\n",
       "    }\n",
       "\n",
       "    .dataframe thead th {\n",
       "        text-align: right;\n",
       "    }\n",
       "</style>\n",
       "<table border=\"1\" class=\"dataframe\">\n",
       "  <thead>\n",
       "    <tr style=\"text-align: right;\">\n",
       "      <th></th>\n",
       "      <th>Item_Identifier</th>\n",
       "      <th>Item_Weight</th>\n",
       "      <th>Item_Fat_Content</th>\n",
       "      <th>Item_Visibility</th>\n",
       "      <th>Item_Type</th>\n",
       "      <th>Item_MRP</th>\n",
       "      <th>Outlet_Identifier</th>\n",
       "      <th>Outlet_Establishment_Year</th>\n",
       "      <th>Outlet_Size</th>\n",
       "      <th>Outlet_Location_Type</th>\n",
       "      <th>Outlet_Type</th>\n",
       "      <th>Item_Outlet_Sales</th>\n",
       "    </tr>\n",
       "  </thead>\n",
       "  <tbody>\n",
       "    <tr>\n",
       "      <th>0</th>\n",
       "      <td>FDA15</td>\n",
       "      <td>9.30</td>\n",
       "      <td>Low Fat</td>\n",
       "      <td>0.016047</td>\n",
       "      <td>Dairy</td>\n",
       "      <td>249.8092</td>\n",
       "      <td>OUT049</td>\n",
       "      <td>1999</td>\n",
       "      <td>Medium</td>\n",
       "      <td>Tier 1</td>\n",
       "      <td>Supermarket Type1</td>\n",
       "      <td>3735.1380</td>\n",
       "    </tr>\n",
       "    <tr>\n",
       "      <th>1</th>\n",
       "      <td>DRC01</td>\n",
       "      <td>5.92</td>\n",
       "      <td>Regular</td>\n",
       "      <td>0.019278</td>\n",
       "      <td>Soft Drinks</td>\n",
       "      <td>48.2692</td>\n",
       "      <td>OUT018</td>\n",
       "      <td>2009</td>\n",
       "      <td>Medium</td>\n",
       "      <td>Tier 3</td>\n",
       "      <td>Supermarket Type2</td>\n",
       "      <td>443.4228</td>\n",
       "    </tr>\n",
       "    <tr>\n",
       "      <th>2</th>\n",
       "      <td>FDN15</td>\n",
       "      <td>17.50</td>\n",
       "      <td>Low Fat</td>\n",
       "      <td>0.016760</td>\n",
       "      <td>Meat</td>\n",
       "      <td>141.6180</td>\n",
       "      <td>OUT049</td>\n",
       "      <td>1999</td>\n",
       "      <td>Medium</td>\n",
       "      <td>Tier 1</td>\n",
       "      <td>Supermarket Type1</td>\n",
       "      <td>2097.2700</td>\n",
       "    </tr>\n",
       "    <tr>\n",
       "      <th>3</th>\n",
       "      <td>FDX07</td>\n",
       "      <td>19.20</td>\n",
       "      <td>Regular</td>\n",
       "      <td>0.066132</td>\n",
       "      <td>Fruits and Vegetables</td>\n",
       "      <td>182.0950</td>\n",
       "      <td>OUT010</td>\n",
       "      <td>1998</td>\n",
       "      <td>Medium</td>\n",
       "      <td>Tier 3</td>\n",
       "      <td>Grocery Store</td>\n",
       "      <td>732.3800</td>\n",
       "    </tr>\n",
       "    <tr>\n",
       "      <th>4</th>\n",
       "      <td>NCD19</td>\n",
       "      <td>8.93</td>\n",
       "      <td>Low Fat</td>\n",
       "      <td>0.066132</td>\n",
       "      <td>Household</td>\n",
       "      <td>53.8614</td>\n",
       "      <td>OUT013</td>\n",
       "      <td>1987</td>\n",
       "      <td>High</td>\n",
       "      <td>Tier 3</td>\n",
       "      <td>Supermarket Type1</td>\n",
       "      <td>994.7052</td>\n",
       "    </tr>\n",
       "  </tbody>\n",
       "</table>\n",
       "</div>"
      ],
      "text/plain": [
       "  Item_Identifier  Item_Weight Item_Fat_Content  Item_Visibility  \\\n",
       "0           FDA15         9.30          Low Fat         0.016047   \n",
       "1           DRC01         5.92          Regular         0.019278   \n",
       "2           FDN15        17.50          Low Fat         0.016760   \n",
       "3           FDX07        19.20          Regular         0.066132   \n",
       "4           NCD19         8.93          Low Fat         0.066132   \n",
       "\n",
       "               Item_Type  Item_MRP Outlet_Identifier  \\\n",
       "0                  Dairy  249.8092            OUT049   \n",
       "1            Soft Drinks   48.2692            OUT018   \n",
       "2                   Meat  141.6180            OUT049   \n",
       "3  Fruits and Vegetables  182.0950            OUT010   \n",
       "4              Household   53.8614            OUT013   \n",
       "\n",
       "   Outlet_Establishment_Year Outlet_Size Outlet_Location_Type  \\\n",
       "0                       1999      Medium               Tier 1   \n",
       "1                       2009      Medium               Tier 3   \n",
       "2                       1999      Medium               Tier 1   \n",
       "3                       1998      Medium               Tier 3   \n",
       "4                       1987        High               Tier 3   \n",
       "\n",
       "         Outlet_Type  Item_Outlet_Sales  \n",
       "0  Supermarket Type1          3735.1380  \n",
       "1  Supermarket Type2           443.4228  \n",
       "2  Supermarket Type1          2097.2700  \n",
       "3      Grocery Store           732.3800  \n",
       "4  Supermarket Type1           994.7052  "
      ]
     },
     "execution_count": 30,
     "metadata": {},
     "output_type": "execute_result"
    }
   ],
   "source": [
    "df.head()"
   ]
  },
  {
   "cell_type": "code",
   "execution_count": 31,
   "id": "b14f0fdc",
   "metadata": {
    "scrolled": true
   },
   "outputs": [
    {
     "data": {
      "text/plain": [
       "0       FD\n",
       "1       DR\n",
       "2       FD\n",
       "3       FD\n",
       "4       NC\n",
       "        ..\n",
       "8518    FD\n",
       "8519    FD\n",
       "8520    NC\n",
       "8521    FD\n",
       "8522    DR\n",
       "Name: new_item_type, Length: 8523, dtype: object"
      ]
     },
     "execution_count": 31,
     "metadata": {},
     "output_type": "execute_result"
    }
   ],
   "source": [
    "df['new_item_type']=df['Item_Identifier'].apply(lambda x:x[:2])\n",
    "df['new_item_type']"
   ]
  },
  {
   "cell_type": "code",
   "execution_count": 32,
   "id": "ffd6a681",
   "metadata": {
    "scrolled": true
   },
   "outputs": [
    {
     "data": {
      "text/plain": [
       "Food              6125\n",
       "Non-Consumable    1599\n",
       "Drinks             799\n",
       "Name: new_item_type, dtype: int64"
      ]
     },
     "execution_count": 32,
     "metadata": {},
     "output_type": "execute_result"
    }
   ],
   "source": [
    "df['new_item_type']=df['new_item_type'].map({'FD':'Food','DR':'Drinks','NC':'Non-Consumable'})\n",
    "df['new_item_type'].value_counts()"
   ]
  },
  {
   "cell_type": "code",
   "execution_count": 33,
   "id": "c63362f0",
   "metadata": {},
   "outputs": [
    {
     "data": {
      "text/plain": [
       "1985    1463\n",
       "1987     932\n",
       "2004     930\n",
       "1997     930\n",
       "1999     930\n",
       "2002     929\n",
       "2009     928\n",
       "2007     926\n",
       "1998     555\n",
       "Name: Outlet_Establishment_Year, dtype: int64"
      ]
     },
     "execution_count": 33,
     "metadata": {},
     "output_type": "execute_result"
    }
   ],
   "source": [
    "df['Outlet_Establishment_Year'].value_counts()"
   ]
  },
  {
   "cell_type": "code",
   "execution_count": 34,
   "id": "2cf376bf",
   "metadata": {
    "scrolled": false
   },
   "outputs": [
    {
     "data": {
      "text/plain": [
       "37    1463\n",
       "35     932\n",
       "25     930\n",
       "18     930\n",
       "23     930\n",
       "20     929\n",
       "13     928\n",
       "15     926\n",
       "24     555\n",
       "Name: Outlet_year, dtype: int64"
      ]
     },
     "execution_count": 34,
     "metadata": {},
     "output_type": "execute_result"
    }
   ],
   "source": [
    "df['Outlet_year']=2022-df['Outlet_Establishment_Year']\n",
    "df['Outlet_year'].value_counts()"
   ]
  },
  {
   "cell_type": "code",
   "execution_count": 35,
   "id": "c11b2e93",
   "metadata": {
    "scrolled": true
   },
   "outputs": [
    {
     "data": {
      "text/html": [
       "<div>\n",
       "<style scoped>\n",
       "    .dataframe tbody tr th:only-of-type {\n",
       "        vertical-align: middle;\n",
       "    }\n",
       "\n",
       "    .dataframe tbody tr th {\n",
       "        vertical-align: top;\n",
       "    }\n",
       "\n",
       "    .dataframe thead th {\n",
       "        text-align: right;\n",
       "    }\n",
       "</style>\n",
       "<table border=\"1\" class=\"dataframe\">\n",
       "  <thead>\n",
       "    <tr style=\"text-align: right;\">\n",
       "      <th></th>\n",
       "      <th>Item_Identifier</th>\n",
       "      <th>Item_Weight</th>\n",
       "      <th>Item_Fat_Content</th>\n",
       "      <th>Item_Visibility</th>\n",
       "      <th>Item_Type</th>\n",
       "      <th>Item_MRP</th>\n",
       "      <th>Outlet_Identifier</th>\n",
       "      <th>Outlet_Establishment_Year</th>\n",
       "      <th>Outlet_Size</th>\n",
       "      <th>Outlet_Location_Type</th>\n",
       "      <th>Outlet_Type</th>\n",
       "      <th>Item_Outlet_Sales</th>\n",
       "      <th>new_item_type</th>\n",
       "      <th>Outlet_year</th>\n",
       "    </tr>\n",
       "  </thead>\n",
       "  <tbody>\n",
       "    <tr>\n",
       "      <th>0</th>\n",
       "      <td>FDA15</td>\n",
       "      <td>9.30</td>\n",
       "      <td>Low Fat</td>\n",
       "      <td>0.016047</td>\n",
       "      <td>Dairy</td>\n",
       "      <td>249.8092</td>\n",
       "      <td>OUT049</td>\n",
       "      <td>1999</td>\n",
       "      <td>Medium</td>\n",
       "      <td>Tier 1</td>\n",
       "      <td>Supermarket Type1</td>\n",
       "      <td>3735.1380</td>\n",
       "      <td>Food</td>\n",
       "      <td>23</td>\n",
       "    </tr>\n",
       "    <tr>\n",
       "      <th>1</th>\n",
       "      <td>DRC01</td>\n",
       "      <td>5.92</td>\n",
       "      <td>Regular</td>\n",
       "      <td>0.019278</td>\n",
       "      <td>Soft Drinks</td>\n",
       "      <td>48.2692</td>\n",
       "      <td>OUT018</td>\n",
       "      <td>2009</td>\n",
       "      <td>Medium</td>\n",
       "      <td>Tier 3</td>\n",
       "      <td>Supermarket Type2</td>\n",
       "      <td>443.4228</td>\n",
       "      <td>Drinks</td>\n",
       "      <td>13</td>\n",
       "    </tr>\n",
       "    <tr>\n",
       "      <th>2</th>\n",
       "      <td>FDN15</td>\n",
       "      <td>17.50</td>\n",
       "      <td>Low Fat</td>\n",
       "      <td>0.016760</td>\n",
       "      <td>Meat</td>\n",
       "      <td>141.6180</td>\n",
       "      <td>OUT049</td>\n",
       "      <td>1999</td>\n",
       "      <td>Medium</td>\n",
       "      <td>Tier 1</td>\n",
       "      <td>Supermarket Type1</td>\n",
       "      <td>2097.2700</td>\n",
       "      <td>Food</td>\n",
       "      <td>23</td>\n",
       "    </tr>\n",
       "    <tr>\n",
       "      <th>3</th>\n",
       "      <td>FDX07</td>\n",
       "      <td>19.20</td>\n",
       "      <td>Regular</td>\n",
       "      <td>0.066132</td>\n",
       "      <td>Fruits and Vegetables</td>\n",
       "      <td>182.0950</td>\n",
       "      <td>OUT010</td>\n",
       "      <td>1998</td>\n",
       "      <td>Medium</td>\n",
       "      <td>Tier 3</td>\n",
       "      <td>Grocery Store</td>\n",
       "      <td>732.3800</td>\n",
       "      <td>Food</td>\n",
       "      <td>24</td>\n",
       "    </tr>\n",
       "    <tr>\n",
       "      <th>4</th>\n",
       "      <td>NCD19</td>\n",
       "      <td>8.93</td>\n",
       "      <td>Low Fat</td>\n",
       "      <td>0.066132</td>\n",
       "      <td>Household</td>\n",
       "      <td>53.8614</td>\n",
       "      <td>OUT013</td>\n",
       "      <td>1987</td>\n",
       "      <td>High</td>\n",
       "      <td>Tier 3</td>\n",
       "      <td>Supermarket Type1</td>\n",
       "      <td>994.7052</td>\n",
       "      <td>Non-Consumable</td>\n",
       "      <td>35</td>\n",
       "    </tr>\n",
       "  </tbody>\n",
       "</table>\n",
       "</div>"
      ],
      "text/plain": [
       "  Item_Identifier  Item_Weight Item_Fat_Content  Item_Visibility  \\\n",
       "0           FDA15         9.30          Low Fat         0.016047   \n",
       "1           DRC01         5.92          Regular         0.019278   \n",
       "2           FDN15        17.50          Low Fat         0.016760   \n",
       "3           FDX07        19.20          Regular         0.066132   \n",
       "4           NCD19         8.93          Low Fat         0.066132   \n",
       "\n",
       "               Item_Type  Item_MRP Outlet_Identifier  \\\n",
       "0                  Dairy  249.8092            OUT049   \n",
       "1            Soft Drinks   48.2692            OUT018   \n",
       "2                   Meat  141.6180            OUT049   \n",
       "3  Fruits and Vegetables  182.0950            OUT010   \n",
       "4              Household   53.8614            OUT013   \n",
       "\n",
       "   Outlet_Establishment_Year Outlet_Size Outlet_Location_Type  \\\n",
       "0                       1999      Medium               Tier 1   \n",
       "1                       2009      Medium               Tier 3   \n",
       "2                       1999      Medium               Tier 1   \n",
       "3                       1998      Medium               Tier 3   \n",
       "4                       1987        High               Tier 3   \n",
       "\n",
       "         Outlet_Type  Item_Outlet_Sales   new_item_type  Outlet_year  \n",
       "0  Supermarket Type1          3735.1380            Food           23  \n",
       "1  Supermarket Type2           443.4228          Drinks           13  \n",
       "2  Supermarket Type1          2097.2700            Food           23  \n",
       "3      Grocery Store           732.3800            Food           24  \n",
       "4  Supermarket Type1           994.7052  Non-Consumable           35  "
      ]
     },
     "execution_count": 35,
     "metadata": {},
     "output_type": "execute_result"
    }
   ],
   "source": [
    "df.head()"
   ]
  },
  {
   "cell_type": "markdown",
   "id": "c49016b9",
   "metadata": {},
   "source": [
    "# Remove Outliers"
   ]
  },
  {
   "cell_type": "code",
   "execution_count": 36,
   "id": "1ef99d23",
   "metadata": {},
   "outputs": [],
   "source": [
    "import seaborn as sns\n"
   ]
  },
  {
   "cell_type": "code",
   "execution_count": 37,
   "id": "dc18b6f4",
   "metadata": {},
   "outputs": [
    {
     "data": {
      "image/png": "[encoded data removed]",
      "text/plain": [
       "<Figure size 720x864 with 1 Axes>"
      ]
     },
     "metadata": {
      "needs_background": "light"
     },
     "output_type": "display_data"
    }
   ],
   "source": [
    "plt.figure(figsize=(10,12))\n",
    "sns.boxplot(data=df,x='Item_Outlet_Sales',y='new_item_type')\n",
    "plt.show()"
   ]
  },
  {
   "cell_type": "code",
   "execution_count": 38,
   "id": "88f29b46",
   "metadata": {},
   "outputs": [
    {
     "data": {
      "text/html": [
       "<div>\n",
       "<style scoped>\n",
       "    .dataframe tbody tr th:only-of-type {\n",
       "        vertical-align: middle;\n",
       "    }\n",
       "\n",
       "    .dataframe tbody tr th {\n",
       "        vertical-align: top;\n",
       "    }\n",
       "\n",
       "    .dataframe thead th {\n",
       "        text-align: right;\n",
       "    }\n",
       "</style>\n",
       "<table border=\"1\" class=\"dataframe\">\n",
       "  <thead>\n",
       "    <tr style=\"text-align: right;\">\n",
       "      <th></th>\n",
       "      <th>Item_Identifier</th>\n",
       "      <th>Item_Weight</th>\n",
       "      <th>Item_Fat_Content</th>\n",
       "      <th>Item_Visibility</th>\n",
       "      <th>Item_Type</th>\n",
       "      <th>Item_MRP</th>\n",
       "      <th>Outlet_Identifier</th>\n",
       "      <th>Outlet_Establishment_Year</th>\n",
       "      <th>Outlet_Size</th>\n",
       "      <th>Outlet_Location_Type</th>\n",
       "      <th>Outlet_Type</th>\n",
       "      <th>Item_Outlet_Sales</th>\n",
       "      <th>new_item_type</th>\n",
       "      <th>Outlet_year</th>\n",
       "    </tr>\n",
       "  </thead>\n",
       "  <tbody>\n",
       "    <tr>\n",
       "      <th>132</th>\n",
       "      <td>NCR53</td>\n",
       "      <td>12.857645</td>\n",
       "      <td>Low Fat</td>\n",
       "      <td>0.144338</td>\n",
       "      <td>Health and Hygiene</td>\n",
       "      <td>224.4404</td>\n",
       "      <td>OUT027</td>\n",
       "      <td>1985</td>\n",
       "      <td>Medium</td>\n",
       "      <td>Tier 3</td>\n",
       "      <td>Supermarket Type3</td>\n",
       "      <td>6976.2524</td>\n",
       "      <td>Non-Consumable</td>\n",
       "      <td>37</td>\n",
       "    </tr>\n",
       "    <tr>\n",
       "      <th>240</th>\n",
       "      <td>NCR38</td>\n",
       "      <td>17.250000</td>\n",
       "      <td>Low Fat</td>\n",
       "      <td>0.113749</td>\n",
       "      <td>Household</td>\n",
       "      <td>251.3724</td>\n",
       "      <td>OUT045</td>\n",
       "      <td>2002</td>\n",
       "      <td>Medium</td>\n",
       "      <td>Tier 2</td>\n",
       "      <td>Supermarket Type1</td>\n",
       "      <td>6795.1548</td>\n",
       "      <td>Non-Consumable</td>\n",
       "      <td>20</td>\n",
       "    </tr>\n",
       "    <tr>\n",
       "      <th>424</th>\n",
       "      <td>NCU41</td>\n",
       "      <td>18.850000</td>\n",
       "      <td>Low Fat</td>\n",
       "      <td>0.052136</td>\n",
       "      <td>Health and Hygiene</td>\n",
       "      <td>190.1846</td>\n",
       "      <td>OUT049</td>\n",
       "      <td>1999</td>\n",
       "      <td>Medium</td>\n",
       "      <td>Tier 1</td>\n",
       "      <td>Supermarket Type1</td>\n",
       "      <td>6687.9610</td>\n",
       "      <td>Non-Consumable</td>\n",
       "      <td>23</td>\n",
       "    </tr>\n",
       "    <tr>\n",
       "      <th>1092</th>\n",
       "      <td>NCB43</td>\n",
       "      <td>12.857645</td>\n",
       "      <td>Low Fat</td>\n",
       "      <td>0.099428</td>\n",
       "      <td>Household</td>\n",
       "      <td>187.8898</td>\n",
       "      <td>OUT027</td>\n",
       "      <td>1985</td>\n",
       "      <td>Medium</td>\n",
       "      <td>Tier 3</td>\n",
       "      <td>Supermarket Type3</td>\n",
       "      <td>7296.5022</td>\n",
       "      <td>Non-Consumable</td>\n",
       "      <td>37</td>\n",
       "    </tr>\n",
       "    <tr>\n",
       "      <th>1127</th>\n",
       "      <td>NCM05</td>\n",
       "      <td>12.857645</td>\n",
       "      <td>Low Fat</td>\n",
       "      <td>0.059557</td>\n",
       "      <td>Health and Hygiene</td>\n",
       "      <td>263.7226</td>\n",
       "      <td>OUT027</td>\n",
       "      <td>1985</td>\n",
       "      <td>Medium</td>\n",
       "      <td>Tier 3</td>\n",
       "      <td>Supermarket Type3</td>\n",
       "      <td>6872.3876</td>\n",
       "      <td>Non-Consumable</td>\n",
       "      <td>37</td>\n",
       "    </tr>\n",
       "    <tr>\n",
       "      <th>1650</th>\n",
       "      <td>NCU54</td>\n",
       "      <td>8.880000</td>\n",
       "      <td>Low Fat</td>\n",
       "      <td>0.098776</td>\n",
       "      <td>Household</td>\n",
       "      <td>208.9270</td>\n",
       "      <td>OUT049</td>\n",
       "      <td>1999</td>\n",
       "      <td>Medium</td>\n",
       "      <td>Tier 1</td>\n",
       "      <td>Supermarket Type1</td>\n",
       "      <td>7130.7180</td>\n",
       "      <td>Non-Consumable</td>\n",
       "      <td>23</td>\n",
       "    </tr>\n",
       "    <tr>\n",
       "      <th>1835</th>\n",
       "      <td>NCL42</td>\n",
       "      <td>18.850000</td>\n",
       "      <td>Low Fat</td>\n",
       "      <td>0.040338</td>\n",
       "      <td>Household</td>\n",
       "      <td>246.7144</td>\n",
       "      <td>OUT013</td>\n",
       "      <td>1987</td>\n",
       "      <td>High</td>\n",
       "      <td>Tier 3</td>\n",
       "      <td>Supermarket Type1</td>\n",
       "      <td>6615.3888</td>\n",
       "      <td>Non-Consumable</td>\n",
       "      <td>35</td>\n",
       "    </tr>\n",
       "    <tr>\n",
       "      <th>1987</th>\n",
       "      <td>NCV06</td>\n",
       "      <td>12.857645</td>\n",
       "      <td>Low Fat</td>\n",
       "      <td>0.066358</td>\n",
       "      <td>Household</td>\n",
       "      <td>195.2478</td>\n",
       "      <td>OUT027</td>\n",
       "      <td>1985</td>\n",
       "      <td>Medium</td>\n",
       "      <td>Tier 3</td>\n",
       "      <td>Supermarket Type3</td>\n",
       "      <td>7168.6686</td>\n",
       "      <td>Non-Consumable</td>\n",
       "      <td>37</td>\n",
       "    </tr>\n",
       "    <tr>\n",
       "      <th>2282</th>\n",
       "      <td>NCX30</td>\n",
       "      <td>16.700000</td>\n",
       "      <td>Low Fat</td>\n",
       "      <td>0.026729</td>\n",
       "      <td>Household</td>\n",
       "      <td>248.4776</td>\n",
       "      <td>OUT018</td>\n",
       "      <td>2009</td>\n",
       "      <td>Medium</td>\n",
       "      <td>Tier 3</td>\n",
       "      <td>Supermarket Type2</td>\n",
       "      <td>6439.6176</td>\n",
       "      <td>Non-Consumable</td>\n",
       "      <td>13</td>\n",
       "    </tr>\n",
       "    <tr>\n",
       "      <th>2687</th>\n",
       "      <td>NCL53</td>\n",
       "      <td>12.857645</td>\n",
       "      <td>Low Fat</td>\n",
       "      <td>0.066132</td>\n",
       "      <td>Health and Hygiene</td>\n",
       "      <td>175.4028</td>\n",
       "      <td>OUT027</td>\n",
       "      <td>1985</td>\n",
       "      <td>Medium</td>\n",
       "      <td>Tier 3</td>\n",
       "      <td>Supermarket Type3</td>\n",
       "      <td>6729.9064</td>\n",
       "      <td>Non-Consumable</td>\n",
       "      <td>37</td>\n",
       "    </tr>\n",
       "    <tr>\n",
       "      <th>2830</th>\n",
       "      <td>NCV53</td>\n",
       "      <td>8.270000</td>\n",
       "      <td>Low Fat</td>\n",
       "      <td>0.018920</td>\n",
       "      <td>Health and Hygiene</td>\n",
       "      <td>238.0880</td>\n",
       "      <td>OUT017</td>\n",
       "      <td>2007</td>\n",
       "      <td>Medium</td>\n",
       "      <td>Tier 2</td>\n",
       "      <td>Supermarket Type1</td>\n",
       "      <td>6231.8880</td>\n",
       "      <td>Non-Consumable</td>\n",
       "      <td>15</td>\n",
       "    </tr>\n",
       "    <tr>\n",
       "      <th>2922</th>\n",
       "      <td>NCR05</td>\n",
       "      <td>12.857645</td>\n",
       "      <td>Low Fat</td>\n",
       "      <td>0.054366</td>\n",
       "      <td>Health and Hygiene</td>\n",
       "      <td>199.6084</td>\n",
       "      <td>OUT027</td>\n",
       "      <td>1985</td>\n",
       "      <td>Medium</td>\n",
       "      <td>Tier 3</td>\n",
       "      <td>Supermarket Type3</td>\n",
       "      <td>7142.7024</td>\n",
       "      <td>Non-Consumable</td>\n",
       "      <td>37</td>\n",
       "    </tr>\n",
       "    <tr>\n",
       "      <th>3234</th>\n",
       "      <td>NCR50</td>\n",
       "      <td>12.857645</td>\n",
       "      <td>Low Fat</td>\n",
       "      <td>0.011763</td>\n",
       "      <td>Household</td>\n",
       "      <td>153.5340</td>\n",
       "      <td>OUT027</td>\n",
       "      <td>1985</td>\n",
       "      <td>Medium</td>\n",
       "      <td>Tier 3</td>\n",
       "      <td>Supermarket Type3</td>\n",
       "      <td>7503.5660</td>\n",
       "      <td>Non-Consumable</td>\n",
       "      <td>37</td>\n",
       "    </tr>\n",
       "    <tr>\n",
       "      <th>3321</th>\n",
       "      <td>NCB06</td>\n",
       "      <td>12.857645</td>\n",
       "      <td>Low Fat</td>\n",
       "      <td>0.081933</td>\n",
       "      <td>Health and Hygiene</td>\n",
       "      <td>161.4920</td>\n",
       "      <td>OUT027</td>\n",
       "      <td>1985</td>\n",
       "      <td>Medium</td>\n",
       "      <td>Tier 3</td>\n",
       "      <td>Supermarket Type3</td>\n",
       "      <td>6391.6800</td>\n",
       "      <td>Non-Consumable</td>\n",
       "      <td>37</td>\n",
       "    </tr>\n",
       "    <tr>\n",
       "      <th>3407</th>\n",
       "      <td>NCK42</td>\n",
       "      <td>12.857645</td>\n",
       "      <td>Low Fat</td>\n",
       "      <td>0.013056</td>\n",
       "      <td>Household</td>\n",
       "      <td>215.9192</td>\n",
       "      <td>OUT027</td>\n",
       "      <td>1985</td>\n",
       "      <td>Medium</td>\n",
       "      <td>Tier 3</td>\n",
       "      <td>Supermarket Type3</td>\n",
       "      <td>7334.4528</td>\n",
       "      <td>Non-Consumable</td>\n",
       "      <td>37</td>\n",
       "    </tr>\n",
       "    <tr>\n",
       "      <th>3720</th>\n",
       "      <td>NCH42</td>\n",
       "      <td>12.857645</td>\n",
       "      <td>Low Fat</td>\n",
       "      <td>0.036360</td>\n",
       "      <td>Household</td>\n",
       "      <td>231.6010</td>\n",
       "      <td>OUT027</td>\n",
       "      <td>1985</td>\n",
       "      <td>Medium</td>\n",
       "      <td>Tier 3</td>\n",
       "      <td>Supermarket Type3</td>\n",
       "      <td>7580.1330</td>\n",
       "      <td>Non-Consumable</td>\n",
       "      <td>37</td>\n",
       "    </tr>\n",
       "    <tr>\n",
       "      <th>3863</th>\n",
       "      <td>NCZ18</td>\n",
       "      <td>7.825000</td>\n",
       "      <td>Low Fat</td>\n",
       "      <td>0.066132</td>\n",
       "      <td>Household</td>\n",
       "      <td>253.4698</td>\n",
       "      <td>OUT017</td>\n",
       "      <td>2007</td>\n",
       "      <td>Medium</td>\n",
       "      <td>Tier 2</td>\n",
       "      <td>Supermarket Type1</td>\n",
       "      <td>6849.0846</td>\n",
       "      <td>Non-Consumable</td>\n",
       "      <td>15</td>\n",
       "    </tr>\n",
       "    <tr>\n",
       "      <th>4289</th>\n",
       "      <td>NCM05</td>\n",
       "      <td>6.825000</td>\n",
       "      <td>Low Fat</td>\n",
       "      <td>0.059847</td>\n",
       "      <td>Health and Hygiene</td>\n",
       "      <td>262.5226</td>\n",
       "      <td>OUT046</td>\n",
       "      <td>1997</td>\n",
       "      <td>Small</td>\n",
       "      <td>Tier 1</td>\n",
       "      <td>Supermarket Type1</td>\n",
       "      <td>9779.9362</td>\n",
       "      <td>Non-Consumable</td>\n",
       "      <td>25</td>\n",
       "    </tr>\n",
       "    <tr>\n",
       "      <th>4568</th>\n",
       "      <td>NCH42</td>\n",
       "      <td>6.860000</td>\n",
       "      <td>Low Fat</td>\n",
       "      <td>0.036744</td>\n",
       "      <td>Household</td>\n",
       "      <td>231.2010</td>\n",
       "      <td>OUT017</td>\n",
       "      <td>2007</td>\n",
       "      <td>Medium</td>\n",
       "      <td>Tier 2</td>\n",
       "      <td>Supermarket Type1</td>\n",
       "      <td>6201.9270</td>\n",
       "      <td>Non-Consumable</td>\n",
       "      <td>15</td>\n",
       "    </tr>\n",
       "    <tr>\n",
       "      <th>4991</th>\n",
       "      <td>NCQ53</td>\n",
       "      <td>17.600000</td>\n",
       "      <td>Low Fat</td>\n",
       "      <td>0.018905</td>\n",
       "      <td>Health and Hygiene</td>\n",
       "      <td>234.6590</td>\n",
       "      <td>OUT046</td>\n",
       "      <td>1997</td>\n",
       "      <td>Small</td>\n",
       "      <td>Tier 1</td>\n",
       "      <td>Supermarket Type1</td>\n",
       "      <td>8508.9240</td>\n",
       "      <td>Non-Consumable</td>\n",
       "      <td>25</td>\n",
       "    </tr>\n",
       "    <tr>\n",
       "      <th>5351</th>\n",
       "      <td>NCS54</td>\n",
       "      <td>12.857645</td>\n",
       "      <td>Low Fat</td>\n",
       "      <td>0.009945</td>\n",
       "      <td>Household</td>\n",
       "      <td>177.8370</td>\n",
       "      <td>OUT027</td>\n",
       "      <td>1985</td>\n",
       "      <td>Medium</td>\n",
       "      <td>Tier 3</td>\n",
       "      <td>Supermarket Type3</td>\n",
       "      <td>6528.1690</td>\n",
       "      <td>Non-Consumable</td>\n",
       "      <td>37</td>\n",
       "    </tr>\n",
       "    <tr>\n",
       "      <th>5558</th>\n",
       "      <td>NCS29</td>\n",
       "      <td>9.000000</td>\n",
       "      <td>Low Fat</td>\n",
       "      <td>0.069532</td>\n",
       "      <td>Health and Hygiene</td>\n",
       "      <td>266.5884</td>\n",
       "      <td>OUT035</td>\n",
       "      <td>2004</td>\n",
       "      <td>Small</td>\n",
       "      <td>Tier 2</td>\n",
       "      <td>Supermarket Type1</td>\n",
       "      <td>6624.7100</td>\n",
       "      <td>Non-Consumable</td>\n",
       "      <td>18</td>\n",
       "    </tr>\n",
       "    <tr>\n",
       "      <th>5866</th>\n",
       "      <td>NCW18</td>\n",
       "      <td>15.100000</td>\n",
       "      <td>Low Fat</td>\n",
       "      <td>0.059275</td>\n",
       "      <td>Household</td>\n",
       "      <td>238.9248</td>\n",
       "      <td>OUT013</td>\n",
       "      <td>1987</td>\n",
       "      <td>High</td>\n",
       "      <td>Tier 3</td>\n",
       "      <td>Supermarket Type1</td>\n",
       "      <td>6636.6944</td>\n",
       "      <td>Non-Consumable</td>\n",
       "      <td>35</td>\n",
       "    </tr>\n",
       "    <tr>\n",
       "      <th>6050</th>\n",
       "      <td>NCY18</td>\n",
       "      <td>7.285000</td>\n",
       "      <td>Low Fat</td>\n",
       "      <td>0.031200</td>\n",
       "      <td>Household</td>\n",
       "      <td>174.7054</td>\n",
       "      <td>OUT049</td>\n",
       "      <td>1999</td>\n",
       "      <td>Medium</td>\n",
       "      <td>Tier 1</td>\n",
       "      <td>Supermarket Type1</td>\n",
       "      <td>6303.7944</td>\n",
       "      <td>Non-Consumable</td>\n",
       "      <td>23</td>\n",
       "    </tr>\n",
       "    <tr>\n",
       "      <th>6484</th>\n",
       "      <td>NCS06</td>\n",
       "      <td>12.857645</td>\n",
       "      <td>Low Fat</td>\n",
       "      <td>0.031583</td>\n",
       "      <td>Household</td>\n",
       "      <td>260.9910</td>\n",
       "      <td>OUT027</td>\n",
       "      <td>1985</td>\n",
       "      <td>Medium</td>\n",
       "      <td>Tier 3</td>\n",
       "      <td>Supermarket Type3</td>\n",
       "      <td>7100.7570</td>\n",
       "      <td>Non-Consumable</td>\n",
       "      <td>37</td>\n",
       "    </tr>\n",
       "    <tr>\n",
       "      <th>7016</th>\n",
       "      <td>NCD18</td>\n",
       "      <td>12.857645</td>\n",
       "      <td>Low Fat</td>\n",
       "      <td>0.072317</td>\n",
       "      <td>Household</td>\n",
       "      <td>230.2668</td>\n",
       "      <td>OUT027</td>\n",
       "      <td>1985</td>\n",
       "      <td>Medium</td>\n",
       "      <td>Tier 3</td>\n",
       "      <td>Supermarket Type3</td>\n",
       "      <td>8062.8380</td>\n",
       "      <td>Non-Consumable</td>\n",
       "      <td>37</td>\n",
       "    </tr>\n",
       "    <tr>\n",
       "      <th>7118</th>\n",
       "      <td>NCV53</td>\n",
       "      <td>8.270000</td>\n",
       "      <td>Low Fat</td>\n",
       "      <td>0.018814</td>\n",
       "      <td>Health and Hygiene</td>\n",
       "      <td>237.9880</td>\n",
       "      <td>OUT046</td>\n",
       "      <td>1997</td>\n",
       "      <td>Small</td>\n",
       "      <td>Tier 1</td>\n",
       "      <td>Supermarket Type1</td>\n",
       "      <td>7190.6400</td>\n",
       "      <td>Non-Consumable</td>\n",
       "      <td>25</td>\n",
       "    </tr>\n",
       "    <tr>\n",
       "      <th>7188</th>\n",
       "      <td>NCE42</td>\n",
       "      <td>12.857645</td>\n",
       "      <td>Low Fat</td>\n",
       "      <td>0.010551</td>\n",
       "      <td>Household</td>\n",
       "      <td>234.9958</td>\n",
       "      <td>OUT027</td>\n",
       "      <td>1985</td>\n",
       "      <td>Medium</td>\n",
       "      <td>Tier 3</td>\n",
       "      <td>Supermarket Type3</td>\n",
       "      <td>13086.9648</td>\n",
       "      <td>Non-Consumable</td>\n",
       "      <td>37</td>\n",
       "    </tr>\n",
       "    <tr>\n",
       "      <th>7191</th>\n",
       "      <td>NCH18</td>\n",
       "      <td>12.857645</td>\n",
       "      <td>Low Fat</td>\n",
       "      <td>0.044445</td>\n",
       "      <td>Household</td>\n",
       "      <td>245.2802</td>\n",
       "      <td>OUT027</td>\n",
       "      <td>1985</td>\n",
       "      <td>Medium</td>\n",
       "      <td>Tier 3</td>\n",
       "      <td>Supermarket Type3</td>\n",
       "      <td>10072.8882</td>\n",
       "      <td>Non-Consumable</td>\n",
       "      <td>37</td>\n",
       "    </tr>\n",
       "    <tr>\n",
       "      <th>7236</th>\n",
       "      <td>NCE55</td>\n",
       "      <td>12.857645</td>\n",
       "      <td>Low Fat</td>\n",
       "      <td>0.129299</td>\n",
       "      <td>Household</td>\n",
       "      <td>178.2370</td>\n",
       "      <td>OUT027</td>\n",
       "      <td>1985</td>\n",
       "      <td>Medium</td>\n",
       "      <td>Tier 3</td>\n",
       "      <td>Supermarket Type3</td>\n",
       "      <td>7939.6650</td>\n",
       "      <td>Non-Consumable</td>\n",
       "      <td>37</td>\n",
       "    </tr>\n",
       "    <tr>\n",
       "      <th>7595</th>\n",
       "      <td>NCO53</td>\n",
       "      <td>12.857645</td>\n",
       "      <td>Low Fat</td>\n",
       "      <td>0.174336</td>\n",
       "      <td>Health and Hygiene</td>\n",
       "      <td>184.0608</td>\n",
       "      <td>OUT027</td>\n",
       "      <td>1985</td>\n",
       "      <td>Medium</td>\n",
       "      <td>Tier 3</td>\n",
       "      <td>Supermarket Type3</td>\n",
       "      <td>6431.6280</td>\n",
       "      <td>Non-Consumable</td>\n",
       "      <td>37</td>\n",
       "    </tr>\n",
       "    <tr>\n",
       "      <th>7796</th>\n",
       "      <td>NCL30</td>\n",
       "      <td>12.857645</td>\n",
       "      <td>Low Fat</td>\n",
       "      <td>0.048703</td>\n",
       "      <td>Household</td>\n",
       "      <td>125.9336</td>\n",
       "      <td>OUT027</td>\n",
       "      <td>1985</td>\n",
       "      <td>Medium</td>\n",
       "      <td>Tier 3</td>\n",
       "      <td>Supermarket Type3</td>\n",
       "      <td>7158.6816</td>\n",
       "      <td>Non-Consumable</td>\n",
       "      <td>37</td>\n",
       "    </tr>\n",
       "    <tr>\n",
       "      <th>7926</th>\n",
       "      <td>NCZ54</td>\n",
       "      <td>14.650000</td>\n",
       "      <td>Low Fat</td>\n",
       "      <td>0.083489</td>\n",
       "      <td>Household</td>\n",
       "      <td>161.3552</td>\n",
       "      <td>OUT049</td>\n",
       "      <td>1999</td>\n",
       "      <td>Medium</td>\n",
       "      <td>Tier 1</td>\n",
       "      <td>Supermarket Type1</td>\n",
       "      <td>7148.0288</td>\n",
       "      <td>Non-Consumable</td>\n",
       "      <td>23</td>\n",
       "    </tr>\n",
       "    <tr>\n",
       "      <th>8329</th>\n",
       "      <td>NCQ06</td>\n",
       "      <td>12.857645</td>\n",
       "      <td>Low Fat</td>\n",
       "      <td>0.041622</td>\n",
       "      <td>Household</td>\n",
       "      <td>253.6014</td>\n",
       "      <td>OUT027</td>\n",
       "      <td>1985</td>\n",
       "      <td>Medium</td>\n",
       "      <td>Tier 3</td>\n",
       "      <td>Supermarket Type3</td>\n",
       "      <td>6630.0364</td>\n",
       "      <td>Non-Consumable</td>\n",
       "      <td>37</td>\n",
       "    </tr>\n",
       "    <tr>\n",
       "      <th>8350</th>\n",
       "      <td>NCE18</td>\n",
       "      <td>10.000000</td>\n",
       "      <td>Low Fat</td>\n",
       "      <td>0.021421</td>\n",
       "      <td>Household</td>\n",
       "      <td>248.3750</td>\n",
       "      <td>OUT035</td>\n",
       "      <td>2004</td>\n",
       "      <td>Small</td>\n",
       "      <td>Tier 2</td>\n",
       "      <td>Supermarket Type1</td>\n",
       "      <td>7240.5750</td>\n",
       "      <td>Non-Consumable</td>\n",
       "      <td>18</td>\n",
       "    </tr>\n",
       "  </tbody>\n",
       "</table>\n",
       "</div>"
      ],
      "text/plain": [
       "     Item_Identifier  Item_Weight Item_Fat_Content  Item_Visibility  \\\n",
       "132            NCR53    12.857645          Low Fat         0.144338   \n",
       "240            NCR38    17.250000          Low Fat         0.113749   \n",
       "424            NCU41    18.850000          Low Fat         0.052136   \n",
       "1092           NCB43    12.857645          Low Fat         0.099428   \n",
       "1127           NCM05    12.857645          Low Fat         0.059557   \n",
       "1650           NCU54     8.880000          Low Fat         0.098776   \n",
       "1835           NCL42    18.850000          Low Fat         0.040338   \n",
       "1987           NCV06    12.857645          Low Fat         0.066358   \n",
       "2282           NCX30    16.700000          Low Fat         0.026729   \n",
       "2687           NCL53    12.857645          Low Fat         0.066132   \n",
       "2830           NCV53     8.270000          Low Fat         0.018920   \n",
       "2922           NCR05    12.857645          Low Fat         0.054366   \n",
       "3234           NCR50    12.857645          Low Fat         0.011763   \n",
       "3321           NCB06    12.857645          Low Fat         0.081933   \n",
       "3407           NCK42    12.857645          Low Fat         0.013056   \n",
       "3720           NCH42    12.857645          Low Fat         0.036360   \n",
       "3863           NCZ18     7.825000          Low Fat         0.066132   \n",
       "4289           NCM05     6.825000          Low Fat         0.059847   \n",
       "4568           NCH42     6.860000          Low Fat         0.036744   \n",
       "4991           NCQ53    17.600000          Low Fat         0.018905   \n",
       "5351           NCS54    12.857645          Low Fat         0.009945   \n",
       "5558           NCS29     9.000000          Low Fat         0.069532   \n",
       "5866           NCW18    15.100000          Low Fat         0.059275   \n",
       "6050           NCY18     7.285000          Low Fat         0.031200   \n",
       "6484           NCS06    12.857645          Low Fat         0.031583   \n",
       "7016           NCD18    12.857645          Low Fat         0.072317   \n",
       "7118           NCV53     8.270000          Low Fat         0.018814   \n",
       "7188           NCE42    12.857645          Low Fat         0.010551   \n",
       "7191           NCH18    12.857645          Low Fat         0.044445   \n",
       "7236           NCE55    12.857645          Low Fat         0.129299   \n",
       "7595           NCO53    12.857645          Low Fat         0.174336   \n",
       "7796           NCL30    12.857645          Low Fat         0.048703   \n",
       "7926           NCZ54    14.650000          Low Fat         0.083489   \n",
       "8329           NCQ06    12.857645          Low Fat         0.041622   \n",
       "8350           NCE18    10.000000          Low Fat         0.021421   \n",
       "\n",
       "               Item_Type  Item_MRP Outlet_Identifier  \\\n",
       "132   Health and Hygiene  224.4404            OUT027   \n",
       "240            Household  251.3724            OUT045   \n",
       "424   Health and Hygiene  190.1846            OUT049   \n",
       "1092           Household  187.8898            OUT027   \n",
       "1127  Health and Hygiene  263.7226            OUT027   \n",
       "1650           Household  208.9270            OUT049   \n",
       "1835           Household  246.7144            OUT013   \n",
       "1987           Household  195.2478            OUT027   \n",
       "2282           Household  248.4776            OUT018   \n",
       "2687  Health and Hygiene  175.4028            OUT027   \n",
       "2830  Health and Hygiene  238.0880            OUT017   \n",
       "2922  Health and Hygiene  199.6084            OUT027   \n",
       "3234           Household  153.5340            OUT027   \n",
       "3321  Health and Hygiene  161.4920            OUT027   \n",
       "3407           Household  215.9192            OUT027   \n",
       "3720           Household  231.6010            OUT027   \n",
       "3863           Household  253.4698            OUT017   \n",
       "4289  Health and Hygiene  262.5226            OUT046   \n",
       "4568           Household  231.2010            OUT017   \n",
       "4991  Health and Hygiene  234.6590            OUT046   \n",
       "5351           Household  177.8370            OUT027   \n",
       "5558  Health and Hygiene  266.5884            OUT035   \n",
       "5866           Household  238.9248            OUT013   \n",
       "6050           Household  174.7054            OUT049   \n",
       "6484           Household  260.9910            OUT027   \n",
       "7016           Household  230.2668            OUT027   \n",
       "7118  Health and Hygiene  237.9880            OUT046   \n",
       "7188           Household  234.9958            OUT027   \n",
       "7191           Household  245.2802            OUT027   \n",
       "7236           Household  178.2370            OUT027   \n",
       "7595  Health and Hygiene  184.0608            OUT027   \n",
       "7796           Household  125.9336            OUT027   \n",
       "7926           Household  161.3552            OUT049   \n",
       "8329           Household  253.6014            OUT027   \n",
       "8350           Household  248.3750            OUT035   \n",
       "\n",
       "      Outlet_Establishment_Year Outlet_Size Outlet_Location_Type  \\\n",
       "132                        1985      Medium               Tier 3   \n",
       "240                        2002      Medium               Tier 2   \n",
       "424                        1999      Medium               Tier 1   \n",
       "1092                       1985      Medium               Tier 3   \n",
       "1127                       1985      Medium               Tier 3   \n",
       "1650                       1999      Medium               Tier 1   \n",
       "1835                       1987        High               Tier 3   \n",
       "1987                       1985      Medium               Tier 3   \n",
       "2282                       2009      Medium               Tier 3   \n",
       "2687                       1985      Medium               Tier 3   \n",
       "2830                       2007      Medium               Tier 2   \n",
       "2922                       1985      Medium               Tier 3   \n",
       "3234                       1985      Medium               Tier 3   \n",
       "3321                       1985      Medium               Tier 3   \n",
       "3407                       1985      Medium               Tier 3   \n",
       "3720                       1985      Medium               Tier 3   \n",
       "3863                       2007      Medium               Tier 2   \n",
       "4289                       1997       Small               Tier 1   \n",
       "4568                       2007      Medium               Tier 2   \n",
       "4991                       1997       Small               Tier 1   \n",
       "5351                       1985      Medium               Tier 3   \n",
       "5558                       2004       Small               Tier 2   \n",
       "5866                       1987        High               Tier 3   \n",
       "6050                       1999      Medium               Tier 1   \n",
       "6484                       1985      Medium               Tier 3   \n",
       "7016                       1985      Medium               Tier 3   \n",
       "7118                       1997       Small               Tier 1   \n",
       "7188                       1985      Medium               Tier 3   \n",
       "7191                       1985      Medium               Tier 3   \n",
       "7236                       1985      Medium               Tier 3   \n",
       "7595                       1985      Medium               Tier 3   \n",
       "7796                       1985      Medium               Tier 3   \n",
       "7926                       1999      Medium               Tier 1   \n",
       "8329                       1985      Medium               Tier 3   \n",
       "8350                       2004       Small               Tier 2   \n",
       "\n",
       "            Outlet_Type  Item_Outlet_Sales   new_item_type  Outlet_year  \n",
       "132   Supermarket Type3          6976.2524  Non-Consumable           37  \n",
       "240   Supermarket Type1          6795.1548  Non-Consumable           20  \n",
       "424   Supermarket Type1          6687.9610  Non-Consumable           23  \n",
       "1092  Supermarket Type3          7296.5022  Non-Consumable           37  \n",
       "1127  Supermarket Type3          6872.3876  Non-Consumable           37  \n",
       "1650  Supermarket Type1          7130.7180  Non-Consumable           23  \n",
       "1835  Supermarket Type1          6615.3888  Non-Consumable           35  \n",
       "1987  Supermarket Type3          7168.6686  Non-Consumable           37  \n",
       "2282  Supermarket Type2          6439.6176  Non-Consumable           13  \n",
       "2687  Supermarket Type3          6729.9064  Non-Consumable           37  \n",
       "2830  Supermarket Type1          6231.8880  Non-Consumable           15  \n",
       "2922  Supermarket Type3          7142.7024  Non-Consumable           37  \n",
       "3234  Supermarket Type3          7503.5660  Non-Consumable           37  \n",
       "3321  Supermarket Type3          6391.6800  Non-Consumable           37  \n",
       "3407  Supermarket Type3          7334.4528  Non-Consumable           37  \n",
       "3720  Supermarket Type3          7580.1330  Non-Consumable           37  \n",
       "3863  Supermarket Type1          6849.0846  Non-Consumable           15  \n",
       "4289  Supermarket Type1          9779.9362  Non-Consumable           25  \n",
       "4568  Supermarket Type1          6201.9270  Non-Consumable           15  \n",
       "4991  Supermarket Type1          8508.9240  Non-Consumable           25  \n",
       "5351  Supermarket Type3          6528.1690  Non-Consumable           37  \n",
       "5558  Supermarket Type1          6624.7100  Non-Consumable           18  \n",
       "5866  Supermarket Type1          6636.6944  Non-Consumable           35  \n",
       "6050  Supermarket Type1          6303.7944  Non-Consumable           23  \n",
       "6484  Supermarket Type3          7100.7570  Non-Consumable           37  \n",
       "7016  Supermarket Type3          8062.8380  Non-Consumable           37  \n",
       "7118  Supermarket Type1          7190.6400  Non-Consumable           25  \n",
       "7188  Supermarket Type3         13086.9648  Non-Consumable           37  \n",
       "7191  Supermarket Type3         10072.8882  Non-Consumable           37  \n",
       "7236  Supermarket Type3          7939.6650  Non-Consumable           37  \n",
       "7595  Supermarket Type3          6431.6280  Non-Consumable           37  \n",
       "7796  Supermarket Type3          7158.6816  Non-Consumable           37  \n",
       "7926  Supermarket Type1          7148.0288  Non-Consumable           23  \n",
       "8329  Supermarket Type3          6630.0364  Non-Consumable           37  \n",
       "8350  Supermarket Type1          7240.5750  Non-Consumable           18  "
      ]
     },
     "execution_count": 38,
     "metadata": {},
     "output_type": "execute_result"
    }
   ],
   "source": [
    "df[(df['new_item_type']=='Non-Consumable') & (df['Item_Outlet_Sales']>6200)]"
   ]
  },
  {
   "cell_type": "code",
   "execution_count": 39,
   "id": "e1a93197",
   "metadata": {},
   "outputs": [],
   "source": [
    "df.drop([132,240,424,1092,1127,1650,1835,1987,2282,2687,2830,2922,3234,3321,3407,3720,3863,4289,4568,4991,5351,5558,5866,6050,6484,7016,7118,7188,7191,7236,7595,7796,7926,8329,8350],inplace=True)"
   ]
  },
  {
   "cell_type": "code",
   "execution_count": 40,
   "id": "c568e5ab",
   "metadata": {},
   "outputs": [
    {
     "data": {
      "text/html": [
       "<div>\n",
       "<style scoped>\n",
       "    .dataframe tbody tr th:only-of-type {\n",
       "        vertical-align: middle;\n",
       "    }\n",
       "\n",
       "    .dataframe tbody tr th {\n",
       "        vertical-align: top;\n",
       "    }\n",
       "\n",
       "    .dataframe thead th {\n",
       "        text-align: right;\n",
       "    }\n",
       "</style>\n",
       "<table border=\"1\" class=\"dataframe\">\n",
       "  <thead>\n",
       "    <tr style=\"text-align: right;\">\n",
       "      <th></th>\n",
       "      <th>Item_Identifier</th>\n",
       "      <th>Item_Weight</th>\n",
       "      <th>Item_Fat_Content</th>\n",
       "      <th>Item_Visibility</th>\n",
       "      <th>Item_Type</th>\n",
       "      <th>Item_MRP</th>\n",
       "      <th>Outlet_Identifier</th>\n",
       "      <th>Outlet_Establishment_Year</th>\n",
       "      <th>Outlet_Size</th>\n",
       "      <th>Outlet_Location_Type</th>\n",
       "      <th>Outlet_Type</th>\n",
       "      <th>Item_Outlet_Sales</th>\n",
       "      <th>new_item_type</th>\n",
       "      <th>Outlet_year</th>\n",
       "    </tr>\n",
       "  </thead>\n",
       "  <tbody>\n",
       "    <tr>\n",
       "      <th>304</th>\n",
       "      <td>DRE60</td>\n",
       "      <td>9.395000</td>\n",
       "      <td>Low Fat</td>\n",
       "      <td>0.159658</td>\n",
       "      <td>Soft Drinks</td>\n",
       "      <td>224.9720</td>\n",
       "      <td>OUT045</td>\n",
       "      <td>2002</td>\n",
       "      <td>Medium</td>\n",
       "      <td>Tier 2</td>\n",
       "      <td>Supermarket Type1</td>\n",
       "      <td>7696.6480</td>\n",
       "      <td>Drinks</td>\n",
       "      <td>20</td>\n",
       "    </tr>\n",
       "    <tr>\n",
       "      <th>915</th>\n",
       "      <td>DRE60</td>\n",
       "      <td>9.395000</td>\n",
       "      <td>Low Fat</td>\n",
       "      <td>0.159582</td>\n",
       "      <td>Soft Drinks</td>\n",
       "      <td>224.7720</td>\n",
       "      <td>OUT049</td>\n",
       "      <td>1999</td>\n",
       "      <td>Medium</td>\n",
       "      <td>Tier 1</td>\n",
       "      <td>Supermarket Type1</td>\n",
       "      <td>7017.5320</td>\n",
       "      <td>Drinks</td>\n",
       "      <td>23</td>\n",
       "    </tr>\n",
       "    <tr>\n",
       "      <th>1043</th>\n",
       "      <td>DRF23</td>\n",
       "      <td>12.857645</td>\n",
       "      <td>Low Fat</td>\n",
       "      <td>0.122058</td>\n",
       "      <td>Hard Drinks</td>\n",
       "      <td>172.8396</td>\n",
       "      <td>OUT027</td>\n",
       "      <td>1985</td>\n",
       "      <td>Medium</td>\n",
       "      <td>Tier 3</td>\n",
       "      <td>Supermarket Type3</td>\n",
       "      <td>7152.0236</td>\n",
       "      <td>Drinks</td>\n",
       "      <td>37</td>\n",
       "    </tr>\n",
       "    <tr>\n",
       "      <th>1393</th>\n",
       "      <td>DRM37</td>\n",
       "      <td>12.857645</td>\n",
       "      <td>Low Fat</td>\n",
       "      <td>0.095931</td>\n",
       "      <td>Soft Drinks</td>\n",
       "      <td>198.5768</td>\n",
       "      <td>OUT027</td>\n",
       "      <td>1985</td>\n",
       "      <td>Medium</td>\n",
       "      <td>Tier 3</td>\n",
       "      <td>Supermarket Type3</td>\n",
       "      <td>6897.6880</td>\n",
       "      <td>Drinks</td>\n",
       "      <td>37</td>\n",
       "    </tr>\n",
       "    <tr>\n",
       "      <th>1879</th>\n",
       "      <td>DRG49</td>\n",
       "      <td>7.810000</td>\n",
       "      <td>Low Fat</td>\n",
       "      <td>0.067592</td>\n",
       "      <td>Soft Drinks</td>\n",
       "      <td>246.0486</td>\n",
       "      <td>OUT045</td>\n",
       "      <td>2002</td>\n",
       "      <td>Medium</td>\n",
       "      <td>Tier 2</td>\n",
       "      <td>Supermarket Type1</td>\n",
       "      <td>7086.1094</td>\n",
       "      <td>Drinks</td>\n",
       "      <td>20</td>\n",
       "    </tr>\n",
       "    <tr>\n",
       "      <th>1996</th>\n",
       "      <td>DRJ47</td>\n",
       "      <td>12.857645</td>\n",
       "      <td>Low Fat</td>\n",
       "      <td>0.044036</td>\n",
       "      <td>Hard Drinks</td>\n",
       "      <td>173.3080</td>\n",
       "      <td>OUT027</td>\n",
       "      <td>1985</td>\n",
       "      <td>Medium</td>\n",
       "      <td>Tier 3</td>\n",
       "      <td>Supermarket Type3</td>\n",
       "      <td>6751.2120</td>\n",
       "      <td>Drinks</td>\n",
       "      <td>37</td>\n",
       "    </tr>\n",
       "    <tr>\n",
       "      <th>2040</th>\n",
       "      <td>DRL01</td>\n",
       "      <td>19.500000</td>\n",
       "      <td>Regular</td>\n",
       "      <td>0.077292</td>\n",
       "      <td>Soft Drinks</td>\n",
       "      <td>235.3958</td>\n",
       "      <td>OUT049</td>\n",
       "      <td>1999</td>\n",
       "      <td>Medium</td>\n",
       "      <td>Tier 1</td>\n",
       "      <td>Supermarket Type1</td>\n",
       "      <td>6309.7866</td>\n",
       "      <td>Drinks</td>\n",
       "      <td>23</td>\n",
       "    </tr>\n",
       "    <tr>\n",
       "      <th>2891</th>\n",
       "      <td>DRM47</td>\n",
       "      <td>9.300000</td>\n",
       "      <td>Low Fat</td>\n",
       "      <td>0.043777</td>\n",
       "      <td>Hard Drinks</td>\n",
       "      <td>192.9846</td>\n",
       "      <td>OUT035</td>\n",
       "      <td>2004</td>\n",
       "      <td>Small</td>\n",
       "      <td>Tier 2</td>\n",
       "      <td>Supermarket Type1</td>\n",
       "      <td>6114.7072</td>\n",
       "      <td>Drinks</td>\n",
       "      <td>18</td>\n",
       "    </tr>\n",
       "    <tr>\n",
       "      <th>3087</th>\n",
       "      <td>DRK23</td>\n",
       "      <td>8.395000</td>\n",
       "      <td>Low Fat</td>\n",
       "      <td>0.071917</td>\n",
       "      <td>Hard Drinks</td>\n",
       "      <td>254.8040</td>\n",
       "      <td>OUT013</td>\n",
       "      <td>1987</td>\n",
       "      <td>High</td>\n",
       "      <td>Tier 3</td>\n",
       "      <td>Supermarket Type1</td>\n",
       "      <td>7843.1240</td>\n",
       "      <td>Drinks</td>\n",
       "      <td>35</td>\n",
       "    </tr>\n",
       "    <tr>\n",
       "      <th>4676</th>\n",
       "      <td>DRE49</td>\n",
       "      <td>12.857645</td>\n",
       "      <td>Low Fat</td>\n",
       "      <td>0.066132</td>\n",
       "      <td>Soft Drinks</td>\n",
       "      <td>153.8024</td>\n",
       "      <td>OUT027</td>\n",
       "      <td>1985</td>\n",
       "      <td>Medium</td>\n",
       "      <td>Tier 3</td>\n",
       "      <td>Supermarket Type3</td>\n",
       "      <td>7741.9224</td>\n",
       "      <td>Drinks</td>\n",
       "      <td>37</td>\n",
       "    </tr>\n",
       "    <tr>\n",
       "      <th>4772</th>\n",
       "      <td>DRL01</td>\n",
       "      <td>12.857645</td>\n",
       "      <td>Regular</td>\n",
       "      <td>0.076799</td>\n",
       "      <td>Soft Drinks</td>\n",
       "      <td>231.8958</td>\n",
       "      <td>OUT027</td>\n",
       "      <td>1985</td>\n",
       "      <td>Medium</td>\n",
       "      <td>Tier 3</td>\n",
       "      <td>Supermarket Type3</td>\n",
       "      <td>8413.0488</td>\n",
       "      <td>Drinks</td>\n",
       "      <td>37</td>\n",
       "    </tr>\n",
       "    <tr>\n",
       "      <th>5315</th>\n",
       "      <td>DRM37</td>\n",
       "      <td>15.350000</td>\n",
       "      <td>Low Fat</td>\n",
       "      <td>0.096943</td>\n",
       "      <td>Soft Drinks</td>\n",
       "      <td>196.5768</td>\n",
       "      <td>OUT017</td>\n",
       "      <td>2007</td>\n",
       "      <td>Medium</td>\n",
       "      <td>Tier 2</td>\n",
       "      <td>Supermarket Type1</td>\n",
       "      <td>7685.9952</td>\n",
       "      <td>Drinks</td>\n",
       "      <td>15</td>\n",
       "    </tr>\n",
       "    <tr>\n",
       "      <th>5444</th>\n",
       "      <td>DRM23</td>\n",
       "      <td>12.857645</td>\n",
       "      <td>Low Fat</td>\n",
       "      <td>0.066132</td>\n",
       "      <td>Hard Drinks</td>\n",
       "      <td>171.7422</td>\n",
       "      <td>OUT027</td>\n",
       "      <td>1985</td>\n",
       "      <td>Medium</td>\n",
       "      <td>Tier 3</td>\n",
       "      <td>Supermarket Type3</td>\n",
       "      <td>6207.9192</td>\n",
       "      <td>Drinks</td>\n",
       "      <td>37</td>\n",
       "    </tr>\n",
       "    <tr>\n",
       "      <th>5474</th>\n",
       "      <td>DRK23</td>\n",
       "      <td>8.395000</td>\n",
       "      <td>Low Fat</td>\n",
       "      <td>0.072384</td>\n",
       "      <td>Hard Drinks</td>\n",
       "      <td>251.5040</td>\n",
       "      <td>OUT017</td>\n",
       "      <td>2007</td>\n",
       "      <td>Medium</td>\n",
       "      <td>Tier 2</td>\n",
       "      <td>Supermarket Type1</td>\n",
       "      <td>7084.1120</td>\n",
       "      <td>Drinks</td>\n",
       "      <td>15</td>\n",
       "    </tr>\n",
       "    <tr>\n",
       "      <th>5550</th>\n",
       "      <td>DRJ51</td>\n",
       "      <td>14.100000</td>\n",
       "      <td>Low Fat</td>\n",
       "      <td>0.088492</td>\n",
       "      <td>Dairy</td>\n",
       "      <td>231.1668</td>\n",
       "      <td>OUT017</td>\n",
       "      <td>2007</td>\n",
       "      <td>Medium</td>\n",
       "      <td>Tier 2</td>\n",
       "      <td>Supermarket Type1</td>\n",
       "      <td>7602.1044</td>\n",
       "      <td>Drinks</td>\n",
       "      <td>15</td>\n",
       "    </tr>\n",
       "    <tr>\n",
       "      <th>5619</th>\n",
       "      <td>DRE48</td>\n",
       "      <td>12.857645</td>\n",
       "      <td>Low Fat</td>\n",
       "      <td>0.017242</td>\n",
       "      <td>Soft Drinks</td>\n",
       "      <td>197.0768</td>\n",
       "      <td>OUT027</td>\n",
       "      <td>1985</td>\n",
       "      <td>Medium</td>\n",
       "      <td>Tier 3</td>\n",
       "      <td>Supermarket Type3</td>\n",
       "      <td>8868.4560</td>\n",
       "      <td>Drinks</td>\n",
       "      <td>37</td>\n",
       "    </tr>\n",
       "    <tr>\n",
       "      <th>5969</th>\n",
       "      <td>DRG25</td>\n",
       "      <td>10.500000</td>\n",
       "      <td>Low Fat</td>\n",
       "      <td>0.019034</td>\n",
       "      <td>Soft Drinks</td>\n",
       "      <td>185.6240</td>\n",
       "      <td>OUT013</td>\n",
       "      <td>1987</td>\n",
       "      <td>High</td>\n",
       "      <td>Tier 3</td>\n",
       "      <td>Supermarket Type1</td>\n",
       "      <td>6897.6880</td>\n",
       "      <td>Drinks</td>\n",
       "      <td>35</td>\n",
       "    </tr>\n",
       "    <tr>\n",
       "      <th>6057</th>\n",
       "      <td>DRA59</td>\n",
       "      <td>12.857645</td>\n",
       "      <td>Regular</td>\n",
       "      <td>0.127308</td>\n",
       "      <td>Soft Drinks</td>\n",
       "      <td>186.6924</td>\n",
       "      <td>OUT027</td>\n",
       "      <td>1985</td>\n",
       "      <td>Medium</td>\n",
       "      <td>Tier 3</td>\n",
       "      <td>Supermarket Type3</td>\n",
       "      <td>7033.5112</td>\n",
       "      <td>Drinks</td>\n",
       "      <td>37</td>\n",
       "    </tr>\n",
       "    <tr>\n",
       "      <th>6606</th>\n",
       "      <td>DRF36</td>\n",
       "      <td>12.857645</td>\n",
       "      <td>Low Fat</td>\n",
       "      <td>0.023463</td>\n",
       "      <td>Soft Drinks</td>\n",
       "      <td>190.6846</td>\n",
       "      <td>OUT027</td>\n",
       "      <td>1985</td>\n",
       "      <td>Medium</td>\n",
       "      <td>Tier 3</td>\n",
       "      <td>Supermarket Type3</td>\n",
       "      <td>9554.2300</td>\n",
       "      <td>Drinks</td>\n",
       "      <td>37</td>\n",
       "    </tr>\n",
       "    <tr>\n",
       "      <th>6745</th>\n",
       "      <td>DRJ11</td>\n",
       "      <td>9.500000</td>\n",
       "      <td>Low Fat</td>\n",
       "      <td>0.085223</td>\n",
       "      <td>Hard Drinks</td>\n",
       "      <td>189.2872</td>\n",
       "      <td>OUT049</td>\n",
       "      <td>1999</td>\n",
       "      <td>Medium</td>\n",
       "      <td>Tier 1</td>\n",
       "      <td>Supermarket Type1</td>\n",
       "      <td>6050.7904</td>\n",
       "      <td>Drinks</td>\n",
       "      <td>23</td>\n",
       "    </tr>\n",
       "    <tr>\n",
       "      <th>6932</th>\n",
       "      <td>DRP47</td>\n",
       "      <td>15.750000</td>\n",
       "      <td>Low Fat</td>\n",
       "      <td>0.140603</td>\n",
       "      <td>Hard Drinks</td>\n",
       "      <td>252.8382</td>\n",
       "      <td>OUT046</td>\n",
       "      <td>1997</td>\n",
       "      <td>Small</td>\n",
       "      <td>Tier 1</td>\n",
       "      <td>Supermarket Type1</td>\n",
       "      <td>6308.4550</td>\n",
       "      <td>Drinks</td>\n",
       "      <td>25</td>\n",
       "    </tr>\n",
       "    <tr>\n",
       "      <th>7256</th>\n",
       "      <td>DRJ39</td>\n",
       "      <td>20.250000</td>\n",
       "      <td>Low Fat</td>\n",
       "      <td>0.036400</td>\n",
       "      <td>Dairy</td>\n",
       "      <td>219.3482</td>\n",
       "      <td>OUT045</td>\n",
       "      <td>2002</td>\n",
       "      <td>Medium</td>\n",
       "      <td>Tier 2</td>\n",
       "      <td>Supermarket Type1</td>\n",
       "      <td>8323.8316</td>\n",
       "      <td>Drinks</td>\n",
       "      <td>20</td>\n",
       "    </tr>\n",
       "    <tr>\n",
       "      <th>7459</th>\n",
       "      <td>DRF37</td>\n",
       "      <td>17.250000</td>\n",
       "      <td>Low Fat</td>\n",
       "      <td>0.084317</td>\n",
       "      <td>Soft Drinks</td>\n",
       "      <td>263.3910</td>\n",
       "      <td>OUT035</td>\n",
       "      <td>2004</td>\n",
       "      <td>Small</td>\n",
       "      <td>Tier 2</td>\n",
       "      <td>Supermarket Type1</td>\n",
       "      <td>6311.7840</td>\n",
       "      <td>Drinks</td>\n",
       "      <td>18</td>\n",
       "    </tr>\n",
       "    <tr>\n",
       "      <th>7620</th>\n",
       "      <td>DRI51</td>\n",
       "      <td>12.857645</td>\n",
       "      <td>Low Fat</td>\n",
       "      <td>0.042037</td>\n",
       "      <td>Dairy</td>\n",
       "      <td>172.6764</td>\n",
       "      <td>OUT027</td>\n",
       "      <td>1985</td>\n",
       "      <td>Medium</td>\n",
       "      <td>Tier 3</td>\n",
       "      <td>Supermarket Type3</td>\n",
       "      <td>6183.9504</td>\n",
       "      <td>Drinks</td>\n",
       "      <td>37</td>\n",
       "    </tr>\n",
       "    <tr>\n",
       "      <th>8485</th>\n",
       "      <td>DRK37</td>\n",
       "      <td>12.857645</td>\n",
       "      <td>Low Fat</td>\n",
       "      <td>0.043792</td>\n",
       "      <td>Soft Drinks</td>\n",
       "      <td>189.0530</td>\n",
       "      <td>OUT027</td>\n",
       "      <td>1985</td>\n",
       "      <td>Medium</td>\n",
       "      <td>Tier 3</td>\n",
       "      <td>Supermarket Type3</td>\n",
       "      <td>6261.8490</td>\n",
       "      <td>Drinks</td>\n",
       "      <td>37</td>\n",
       "    </tr>\n",
       "  </tbody>\n",
       "</table>\n",
       "</div>"
      ],
      "text/plain": [
       "     Item_Identifier  Item_Weight Item_Fat_Content  Item_Visibility  \\\n",
       "304            DRE60     9.395000          Low Fat         0.159658   \n",
       "915            DRE60     9.395000          Low Fat         0.159582   \n",
       "1043           DRF23    12.857645          Low Fat         0.122058   \n",
       "1393           DRM37    12.857645          Low Fat         0.095931   \n",
       "1879           DRG49     7.810000          Low Fat         0.067592   \n",
       "1996           DRJ47    12.857645          Low Fat         0.044036   \n",
       "2040           DRL01    19.500000          Regular         0.077292   \n",
       "2891           DRM47     9.300000          Low Fat         0.043777   \n",
       "3087           DRK23     8.395000          Low Fat         0.071917   \n",
       "4676           DRE49    12.857645          Low Fat         0.066132   \n",
       "4772           DRL01    12.857645          Regular         0.076799   \n",
       "5315           DRM37    15.350000          Low Fat         0.096943   \n",
       "5444           DRM23    12.857645          Low Fat         0.066132   \n",
       "5474           DRK23     8.395000          Low Fat         0.072384   \n",
       "5550           DRJ51    14.100000          Low Fat         0.088492   \n",
       "5619           DRE48    12.857645          Low Fat         0.017242   \n",
       "5969           DRG25    10.500000          Low Fat         0.019034   \n",
       "6057           DRA59    12.857645          Regular         0.127308   \n",
       "6606           DRF36    12.857645          Low Fat         0.023463   \n",
       "6745           DRJ11     9.500000          Low Fat         0.085223   \n",
       "6932           DRP47    15.750000          Low Fat         0.140603   \n",
       "7256           DRJ39    20.250000          Low Fat         0.036400   \n",
       "7459           DRF37    17.250000          Low Fat         0.084317   \n",
       "7620           DRI51    12.857645          Low Fat         0.042037   \n",
       "8485           DRK37    12.857645          Low Fat         0.043792   \n",
       "\n",
       "        Item_Type  Item_MRP Outlet_Identifier  Outlet_Establishment_Year  \\\n",
       "304   Soft Drinks  224.9720            OUT045                       2002   \n",
       "915   Soft Drinks  224.7720            OUT049                       1999   \n",
       "1043  Hard Drinks  172.8396            OUT027                       1985   \n",
       "1393  Soft Drinks  198.5768            OUT027                       1985   \n",
       "1879  Soft Drinks  246.0486            OUT045                       2002   \n",
       "1996  Hard Drinks  173.3080            OUT027                       1985   \n",
       "2040  Soft Drinks  235.3958            OUT049                       1999   \n",
       "2891  Hard Drinks  192.9846            OUT035                       2004   \n",
       "3087  Hard Drinks  254.8040            OUT013                       1987   \n",
       "4676  Soft Drinks  153.8024            OUT027                       1985   \n",
       "4772  Soft Drinks  231.8958            OUT027                       1985   \n",
       "5315  Soft Drinks  196.5768            OUT017                       2007   \n",
       "5444  Hard Drinks  171.7422            OUT027                       1985   \n",
       "5474  Hard Drinks  251.5040            OUT017                       2007   \n",
       "5550        Dairy  231.1668            OUT017                       2007   \n",
       "5619  Soft Drinks  197.0768            OUT027                       1985   \n",
       "5969  Soft Drinks  185.6240            OUT013                       1987   \n",
       "6057  Soft Drinks  186.6924            OUT027                       1985   \n",
       "6606  Soft Drinks  190.6846            OUT027                       1985   \n",
       "6745  Hard Drinks  189.2872            OUT049                       1999   \n",
       "6932  Hard Drinks  252.8382            OUT046                       1997   \n",
       "7256        Dairy  219.3482            OUT045                       2002   \n",
       "7459  Soft Drinks  263.3910            OUT035                       2004   \n",
       "7620        Dairy  172.6764            OUT027                       1985   \n",
       "8485  Soft Drinks  189.0530            OUT027                       1985   \n",
       "\n",
       "     Outlet_Size Outlet_Location_Type        Outlet_Type  Item_Outlet_Sales  \\\n",
       "304       Medium               Tier 2  Supermarket Type1          7696.6480   \n",
       "915       Medium               Tier 1  Supermarket Type1          7017.5320   \n",
       "1043      Medium               Tier 3  Supermarket Type3          7152.0236   \n",
       "1393      Medium               Tier 3  Supermarket Type3          6897.6880   \n",
       "1879      Medium               Tier 2  Supermarket Type1          7086.1094   \n",
       "1996      Medium               Tier 3  Supermarket Type3          6751.2120   \n",
       "2040      Medium               Tier 1  Supermarket Type1          6309.7866   \n",
       "2891       Small               Tier 2  Supermarket Type1          6114.7072   \n",
       "3087        High               Tier 3  Supermarket Type1          7843.1240   \n",
       "4676      Medium               Tier 3  Supermarket Type3          7741.9224   \n",
       "4772      Medium               Tier 3  Supermarket Type3          8413.0488   \n",
       "5315      Medium               Tier 2  Supermarket Type1          7685.9952   \n",
       "5444      Medium               Tier 3  Supermarket Type3          6207.9192   \n",
       "5474      Medium               Tier 2  Supermarket Type1          7084.1120   \n",
       "5550      Medium               Tier 2  Supermarket Type1          7602.1044   \n",
       "5619      Medium               Tier 3  Supermarket Type3          8868.4560   \n",
       "5969        High               Tier 3  Supermarket Type1          6897.6880   \n",
       "6057      Medium               Tier 3  Supermarket Type3          7033.5112   \n",
       "6606      Medium               Tier 3  Supermarket Type3          9554.2300   \n",
       "6745      Medium               Tier 1  Supermarket Type1          6050.7904   \n",
       "6932       Small               Tier 1  Supermarket Type1          6308.4550   \n",
       "7256      Medium               Tier 2  Supermarket Type1          8323.8316   \n",
       "7459       Small               Tier 2  Supermarket Type1          6311.7840   \n",
       "7620      Medium               Tier 3  Supermarket Type3          6183.9504   \n",
       "8485      Medium               Tier 3  Supermarket Type3          6261.8490   \n",
       "\n",
       "     new_item_type  Outlet_year  \n",
       "304         Drinks           20  \n",
       "915         Drinks           23  \n",
       "1043        Drinks           37  \n",
       "1393        Drinks           37  \n",
       "1879        Drinks           20  \n",
       "1996        Drinks           37  \n",
       "2040        Drinks           23  \n",
       "2891        Drinks           18  \n",
       "3087        Drinks           35  \n",
       "4676        Drinks           37  \n",
       "4772        Drinks           37  \n",
       "5315        Drinks           15  \n",
       "5444        Drinks           37  \n",
       "5474        Drinks           15  \n",
       "5550        Drinks           15  \n",
       "5619        Drinks           37  \n",
       "5969        Drinks           35  \n",
       "6057        Drinks           37  \n",
       "6606        Drinks           37  \n",
       "6745        Drinks           23  \n",
       "6932        Drinks           25  \n",
       "7256        Drinks           20  \n",
       "7459        Drinks           18  \n",
       "7620        Drinks           37  \n",
       "8485        Drinks           37  "
      ]
     },
     "execution_count": 40,
     "metadata": {},
     "output_type": "execute_result"
    }
   ],
   "source": [
    "df[(df['new_item_type']=='Drinks') & (df['Item_Outlet_Sales']>6000)]"
   ]
  },
  {
   "cell_type": "code",
   "execution_count": 41,
   "id": "823e5043",
   "metadata": {},
   "outputs": [],
   "source": [
    "df.drop([485,7620,7459,7256,6932,6745,6606,6057,5969,5619,5550,5474,5444,5315,4772,4676,3087,2891,2040,1996,1879,1393,1043,915,304],inplace=True)"
   ]
  },
  {
   "cell_type": "code",
   "execution_count": 42,
   "id": "29fe2e4e",
   "metadata": {
    "scrolled": true
   },
   "outputs": [
    {
     "data": {
      "text/html": [
       "<div>\n",
       "<style scoped>\n",
       "    .dataframe tbody tr th:only-of-type {\n",
       "        vertical-align: middle;\n",
       "    }\n",
       "\n",
       "    .dataframe tbody tr th {\n",
       "        vertical-align: top;\n",
       "    }\n",
       "\n",
       "    .dataframe thead th {\n",
       "        text-align: right;\n",
       "    }\n",
       "</style>\n",
       "<table border=\"1\" class=\"dataframe\">\n",
       "  <thead>\n",
       "    <tr style=\"text-align: right;\">\n",
       "      <th></th>\n",
       "      <th>Item_Identifier</th>\n",
       "      <th>Item_Weight</th>\n",
       "      <th>Item_Fat_Content</th>\n",
       "      <th>Item_Visibility</th>\n",
       "      <th>Item_Type</th>\n",
       "      <th>Item_MRP</th>\n",
       "      <th>Outlet_Identifier</th>\n",
       "      <th>Outlet_Establishment_Year</th>\n",
       "      <th>Outlet_Size</th>\n",
       "      <th>Outlet_Location_Type</th>\n",
       "      <th>Outlet_Type</th>\n",
       "      <th>Item_Outlet_Sales</th>\n",
       "      <th>new_item_type</th>\n",
       "      <th>Outlet_year</th>\n",
       "    </tr>\n",
       "  </thead>\n",
       "  <tbody>\n",
       "    <tr>\n",
       "      <th>43</th>\n",
       "      <td>FDC02</td>\n",
       "      <td>21.350000</td>\n",
       "      <td>Low Fat</td>\n",
       "      <td>0.069103</td>\n",
       "      <td>Canned</td>\n",
       "      <td>259.9278</td>\n",
       "      <td>OUT018</td>\n",
       "      <td>2009</td>\n",
       "      <td>Medium</td>\n",
       "      <td>Tier 3</td>\n",
       "      <td>Supermarket Type2</td>\n",
       "      <td>6768.5228</td>\n",
       "      <td>Food</td>\n",
       "      <td>13</td>\n",
       "    </tr>\n",
       "    <tr>\n",
       "      <th>130</th>\n",
       "      <td>FDY25</td>\n",
       "      <td>12.857645</td>\n",
       "      <td>Low Fat</td>\n",
       "      <td>0.033810</td>\n",
       "      <td>Canned</td>\n",
       "      <td>180.5976</td>\n",
       "      <td>OUT027</td>\n",
       "      <td>1985</td>\n",
       "      <td>Medium</td>\n",
       "      <td>Tier 3</td>\n",
       "      <td>Supermarket Type3</td>\n",
       "      <td>7968.2944</td>\n",
       "      <td>Food</td>\n",
       "      <td>37</td>\n",
       "    </tr>\n",
       "    <tr>\n",
       "      <th>145</th>\n",
       "      <td>FDP16</td>\n",
       "      <td>18.600000</td>\n",
       "      <td>Low Fat</td>\n",
       "      <td>0.039356</td>\n",
       "      <td>Frozen Foods</td>\n",
       "      <td>246.3802</td>\n",
       "      <td>OUT049</td>\n",
       "      <td>1999</td>\n",
       "      <td>Medium</td>\n",
       "      <td>Tier 1</td>\n",
       "      <td>Supermarket Type1</td>\n",
       "      <td>7370.4060</td>\n",
       "      <td>Food</td>\n",
       "      <td>23</td>\n",
       "    </tr>\n",
       "    <tr>\n",
       "      <th>146</th>\n",
       "      <td>FDB11</td>\n",
       "      <td>16.000000</td>\n",
       "      <td>Low Fat</td>\n",
       "      <td>0.060837</td>\n",
       "      <td>Starchy Foods</td>\n",
       "      <td>226.8404</td>\n",
       "      <td>OUT035</td>\n",
       "      <td>2004</td>\n",
       "      <td>Small</td>\n",
       "      <td>Tier 2</td>\n",
       "      <td>Supermarket Type1</td>\n",
       "      <td>6301.1312</td>\n",
       "      <td>Food</td>\n",
       "      <td>18</td>\n",
       "    </tr>\n",
       "    <tr>\n",
       "      <th>203</th>\n",
       "      <td>FDI24</td>\n",
       "      <td>12.857645</td>\n",
       "      <td>Low Fat</td>\n",
       "      <td>0.078362</td>\n",
       "      <td>Baking Goods</td>\n",
       "      <td>177.9370</td>\n",
       "      <td>OUT027</td>\n",
       "      <td>1985</td>\n",
       "      <td>Medium</td>\n",
       "      <td>Tier 3</td>\n",
       "      <td>Supermarket Type3</td>\n",
       "      <td>6704.6060</td>\n",
       "      <td>Food</td>\n",
       "      <td>37</td>\n",
       "    </tr>\n",
       "    <tr>\n",
       "      <th>...</th>\n",
       "      <td>...</td>\n",
       "      <td>...</td>\n",
       "      <td>...</td>\n",
       "      <td>...</td>\n",
       "      <td>...</td>\n",
       "      <td>...</td>\n",
       "      <td>...</td>\n",
       "      <td>...</td>\n",
       "      <td>...</td>\n",
       "      <td>...</td>\n",
       "      <td>...</td>\n",
       "      <td>...</td>\n",
       "      <td>...</td>\n",
       "      <td>...</td>\n",
       "    </tr>\n",
       "    <tr>\n",
       "      <th>8201</th>\n",
       "      <td>FDO03</td>\n",
       "      <td>12.857645</td>\n",
       "      <td>Regular</td>\n",
       "      <td>0.036704</td>\n",
       "      <td>Meat</td>\n",
       "      <td>228.1352</td>\n",
       "      <td>OUT027</td>\n",
       "      <td>1985</td>\n",
       "      <td>Medium</td>\n",
       "      <td>Tier 3</td>\n",
       "      <td>Supermarket Type3</td>\n",
       "      <td>9390.4432</td>\n",
       "      <td>Food</td>\n",
       "      <td>37</td>\n",
       "    </tr>\n",
       "    <tr>\n",
       "      <th>8208</th>\n",
       "      <td>FDM20</td>\n",
       "      <td>10.000000</td>\n",
       "      <td>Low Fat</td>\n",
       "      <td>0.038905</td>\n",
       "      <td>Fruits and Vegetables</td>\n",
       "      <td>245.4144</td>\n",
       "      <td>OUT017</td>\n",
       "      <td>2007</td>\n",
       "      <td>Medium</td>\n",
       "      <td>Tier 2</td>\n",
       "      <td>Supermarket Type1</td>\n",
       "      <td>6615.3888</td>\n",
       "      <td>Food</td>\n",
       "      <td>15</td>\n",
       "    </tr>\n",
       "    <tr>\n",
       "      <th>8245</th>\n",
       "      <td>FDU55</td>\n",
       "      <td>16.200000</td>\n",
       "      <td>Low Fat</td>\n",
       "      <td>0.035967</td>\n",
       "      <td>Fruits and Vegetables</td>\n",
       "      <td>260.3278</td>\n",
       "      <td>OUT049</td>\n",
       "      <td>1999</td>\n",
       "      <td>Medium</td>\n",
       "      <td>Tier 1</td>\n",
       "      <td>Supermarket Type1</td>\n",
       "      <td>7549.5062</td>\n",
       "      <td>Food</td>\n",
       "      <td>23</td>\n",
       "    </tr>\n",
       "    <tr>\n",
       "      <th>8447</th>\n",
       "      <td>FDS26</td>\n",
       "      <td>20.350000</td>\n",
       "      <td>Low Fat</td>\n",
       "      <td>0.089975</td>\n",
       "      <td>Dairy</td>\n",
       "      <td>261.6594</td>\n",
       "      <td>OUT017</td>\n",
       "      <td>2007</td>\n",
       "      <td>Medium</td>\n",
       "      <td>Tier 2</td>\n",
       "      <td>Supermarket Type1</td>\n",
       "      <td>7588.1226</td>\n",
       "      <td>Food</td>\n",
       "      <td>15</td>\n",
       "    </tr>\n",
       "    <tr>\n",
       "      <th>8510</th>\n",
       "      <td>FDN58</td>\n",
       "      <td>13.800000</td>\n",
       "      <td>Regular</td>\n",
       "      <td>0.056862</td>\n",
       "      <td>Snack Foods</td>\n",
       "      <td>231.5984</td>\n",
       "      <td>OUT035</td>\n",
       "      <td>2004</td>\n",
       "      <td>Small</td>\n",
       "      <td>Tier 2</td>\n",
       "      <td>Supermarket Type1</td>\n",
       "      <td>7182.6504</td>\n",
       "      <td>Food</td>\n",
       "      <td>18</td>\n",
       "    </tr>\n",
       "  </tbody>\n",
       "</table>\n",
       "<p>170 rows × 14 columns</p>\n",
       "</div>"
      ],
      "text/plain": [
       "     Item_Identifier  Item_Weight Item_Fat_Content  Item_Visibility  \\\n",
       "43             FDC02    21.350000          Low Fat         0.069103   \n",
       "130            FDY25    12.857645          Low Fat         0.033810   \n",
       "145            FDP16    18.600000          Low Fat         0.039356   \n",
       "146            FDB11    16.000000          Low Fat         0.060837   \n",
       "203            FDI24    12.857645          Low Fat         0.078362   \n",
       "...              ...          ...              ...              ...   \n",
       "8201           FDO03    12.857645          Regular         0.036704   \n",
       "8208           FDM20    10.000000          Low Fat         0.038905   \n",
       "8245           FDU55    16.200000          Low Fat         0.035967   \n",
       "8447           FDS26    20.350000          Low Fat         0.089975   \n",
       "8510           FDN58    13.800000          Regular         0.056862   \n",
       "\n",
       "                  Item_Type  Item_MRP Outlet_Identifier  \\\n",
       "43                   Canned  259.9278            OUT018   \n",
       "130                  Canned  180.5976            OUT027   \n",
       "145            Frozen Foods  246.3802            OUT049   \n",
       "146           Starchy Foods  226.8404            OUT035   \n",
       "203            Baking Goods  177.9370            OUT027   \n",
       "...                     ...       ...               ...   \n",
       "8201                   Meat  228.1352            OUT027   \n",
       "8208  Fruits and Vegetables  245.4144            OUT017   \n",
       "8245  Fruits and Vegetables  260.3278            OUT049   \n",
       "8447                  Dairy  261.6594            OUT017   \n",
       "8510            Snack Foods  231.5984            OUT035   \n",
       "\n",
       "      Outlet_Establishment_Year Outlet_Size Outlet_Location_Type  \\\n",
       "43                         2009      Medium               Tier 3   \n",
       "130                        1985      Medium               Tier 3   \n",
       "145                        1999      Medium               Tier 1   \n",
       "146                        2004       Small               Tier 2   \n",
       "203                        1985      Medium               Tier 3   \n",
       "...                         ...         ...                  ...   \n",
       "8201                       1985      Medium               Tier 3   \n",
       "8208                       2007      Medium               Tier 2   \n",
       "8245                       1999      Medium               Tier 1   \n",
       "8447                       2007      Medium               Tier 2   \n",
       "8510                       2004       Small               Tier 2   \n",
       "\n",
       "            Outlet_Type  Item_Outlet_Sales new_item_type  Outlet_year  \n",
       "43    Supermarket Type2          6768.5228          Food           13  \n",
       "130   Supermarket Type3          7968.2944          Food           37  \n",
       "145   Supermarket Type1          7370.4060          Food           23  \n",
       "146   Supermarket Type1          6301.1312          Food           18  \n",
       "203   Supermarket Type3          6704.6060          Food           37  \n",
       "...                 ...                ...           ...          ...  \n",
       "8201  Supermarket Type3          9390.4432          Food           37  \n",
       "8208  Supermarket Type1          6615.3888          Food           15  \n",
       "8245  Supermarket Type1          7549.5062          Food           23  \n",
       "8447  Supermarket Type1          7588.1226          Food           15  \n",
       "8510  Supermarket Type1          7182.6504          Food           18  \n",
       "\n",
       "[170 rows x 14 columns]"
      ]
     },
     "execution_count": 42,
     "metadata": {},
     "output_type": "execute_result"
    }
   ],
   "source": [
    "df[(df['new_item_type']=='Food') & (df['Item_Outlet_Sales']>6300)]"
   ]
  },
  {
   "cell_type": "code",
   "execution_count": 43,
   "id": "852ac032",
   "metadata": {},
   "outputs": [],
   "source": [
    "df.drop([43,130,145,146,203,8201,8208,8245,8447,8510],inplace=True)"
   ]
  },
  {
   "cell_type": "code",
   "execution_count": 44,
   "id": "34d51bd9",
   "metadata": {},
   "outputs": [
    {
     "data": {
      "text/html": [
       "<div>\n",
       "<style scoped>\n",
       "    .dataframe tbody tr th:only-of-type {\n",
       "        vertical-align: middle;\n",
       "    }\n",
       "\n",
       "    .dataframe tbody tr th {\n",
       "        vertical-align: top;\n",
       "    }\n",
       "\n",
       "    .dataframe thead th {\n",
       "        text-align: right;\n",
       "    }\n",
       "</style>\n",
       "<table border=\"1\" class=\"dataframe\">\n",
       "  <thead>\n",
       "    <tr style=\"text-align: right;\">\n",
       "      <th></th>\n",
       "      <th>Item_Identifier</th>\n",
       "      <th>Item_Weight</th>\n",
       "      <th>Item_Fat_Content</th>\n",
       "      <th>Item_Visibility</th>\n",
       "      <th>Item_Type</th>\n",
       "      <th>Item_MRP</th>\n",
       "      <th>Outlet_Identifier</th>\n",
       "      <th>Outlet_Establishment_Year</th>\n",
       "      <th>Outlet_Size</th>\n",
       "      <th>Outlet_Location_Type</th>\n",
       "      <th>Outlet_Type</th>\n",
       "      <th>Item_Outlet_Sales</th>\n",
       "      <th>new_item_type</th>\n",
       "      <th>Outlet_year</th>\n",
       "    </tr>\n",
       "  </thead>\n",
       "  <tbody>\n",
       "    <tr>\n",
       "      <th>243</th>\n",
       "      <td>FDY56</td>\n",
       "      <td>16.350000</td>\n",
       "      <td>Regular</td>\n",
       "      <td>0.062764</td>\n",
       "      <td>Fruits and Vegetables</td>\n",
       "      <td>227.6062</td>\n",
       "      <td>OUT017</td>\n",
       "      <td>2007</td>\n",
       "      <td>Medium</td>\n",
       "      <td>Tier 2</td>\n",
       "      <td>Supermarket Type1</td>\n",
       "      <td>7222.5984</td>\n",
       "      <td>Food</td>\n",
       "      <td>15</td>\n",
       "    </tr>\n",
       "    <tr>\n",
       "      <th>275</th>\n",
       "      <td>FDH19</td>\n",
       "      <td>12.857645</td>\n",
       "      <td>Low Fat</td>\n",
       "      <td>0.032928</td>\n",
       "      <td>Meat</td>\n",
       "      <td>173.1738</td>\n",
       "      <td>OUT027</td>\n",
       "      <td>1985</td>\n",
       "      <td>Medium</td>\n",
       "      <td>Tier 3</td>\n",
       "      <td>Supermarket Type3</td>\n",
       "      <td>7298.4996</td>\n",
       "      <td>Food</td>\n",
       "      <td>37</td>\n",
       "    </tr>\n",
       "    <tr>\n",
       "      <th>276</th>\n",
       "      <td>FDY55</td>\n",
       "      <td>16.750000</td>\n",
       "      <td>Low Fat</td>\n",
       "      <td>0.081253</td>\n",
       "      <td>Fruits and Vegetables</td>\n",
       "      <td>256.4988</td>\n",
       "      <td>OUT013</td>\n",
       "      <td>1987</td>\n",
       "      <td>High</td>\n",
       "      <td>Tier 3</td>\n",
       "      <td>Supermarket Type1</td>\n",
       "      <td>7452.9652</td>\n",
       "      <td>Food</td>\n",
       "      <td>35</td>\n",
       "    </tr>\n",
       "    <tr>\n",
       "      <th>333</th>\n",
       "      <td>FDN58</td>\n",
       "      <td>12.857645</td>\n",
       "      <td>Regular</td>\n",
       "      <td>0.056597</td>\n",
       "      <td>Snack Foods</td>\n",
       "      <td>230.9984</td>\n",
       "      <td>OUT027</td>\n",
       "      <td>1985</td>\n",
       "      <td>Medium</td>\n",
       "      <td>Tier 3</td>\n",
       "      <td>Supermarket Type3</td>\n",
       "      <td>9267.9360</td>\n",
       "      <td>Food</td>\n",
       "      <td>37</td>\n",
       "    </tr>\n",
       "    <tr>\n",
       "      <th>337</th>\n",
       "      <td>FDQ07</td>\n",
       "      <td>15.100000</td>\n",
       "      <td>Regular</td>\n",
       "      <td>0.087584</td>\n",
       "      <td>Fruits and Vegetables</td>\n",
       "      <td>221.7456</td>\n",
       "      <td>OUT045</td>\n",
       "      <td>2002</td>\n",
       "      <td>Medium</td>\n",
       "      <td>Tier 2</td>\n",
       "      <td>Supermarket Type1</td>\n",
       "      <td>6410.3224</td>\n",
       "      <td>Food</td>\n",
       "      <td>20</td>\n",
       "    </tr>\n",
       "    <tr>\n",
       "      <th>...</th>\n",
       "      <td>...</td>\n",
       "      <td>...</td>\n",
       "      <td>...</td>\n",
       "      <td>...</td>\n",
       "      <td>...</td>\n",
       "      <td>...</td>\n",
       "      <td>...</td>\n",
       "      <td>...</td>\n",
       "      <td>...</td>\n",
       "      <td>...</td>\n",
       "      <td>...</td>\n",
       "      <td>...</td>\n",
       "      <td>...</td>\n",
       "      <td>...</td>\n",
       "    </tr>\n",
       "    <tr>\n",
       "      <th>7956</th>\n",
       "      <td>FDQ24</td>\n",
       "      <td>15.700000</td>\n",
       "      <td>Low Fat</td>\n",
       "      <td>0.074083</td>\n",
       "      <td>Baking Goods</td>\n",
       "      <td>253.3724</td>\n",
       "      <td>OUT017</td>\n",
       "      <td>2007</td>\n",
       "      <td>Medium</td>\n",
       "      <td>Tier 2</td>\n",
       "      <td>Supermarket Type1</td>\n",
       "      <td>6795.1548</td>\n",
       "      <td>Food</td>\n",
       "      <td>15</td>\n",
       "    </tr>\n",
       "    <tr>\n",
       "      <th>7967</th>\n",
       "      <td>FDR16</td>\n",
       "      <td>5.845000</td>\n",
       "      <td>Regular</td>\n",
       "      <td>0.104998</td>\n",
       "      <td>Frozen Foods</td>\n",
       "      <td>213.2218</td>\n",
       "      <td>OUT035</td>\n",
       "      <td>2004</td>\n",
       "      <td>Small</td>\n",
       "      <td>Tier 2</td>\n",
       "      <td>Supermarket Type1</td>\n",
       "      <td>7266.5412</td>\n",
       "      <td>Food</td>\n",
       "      <td>18</td>\n",
       "    </tr>\n",
       "    <tr>\n",
       "      <th>7981</th>\n",
       "      <td>FDY34</td>\n",
       "      <td>12.857645</td>\n",
       "      <td>Regular</td>\n",
       "      <td>0.010929</td>\n",
       "      <td>Snack Foods</td>\n",
       "      <td>167.0842</td>\n",
       "      <td>OUT027</td>\n",
       "      <td>1985</td>\n",
       "      <td>Medium</td>\n",
       "      <td>Tier 3</td>\n",
       "      <td>Supermarket Type3</td>\n",
       "      <td>6465.5838</td>\n",
       "      <td>Food</td>\n",
       "      <td>37</td>\n",
       "    </tr>\n",
       "    <tr>\n",
       "      <th>8039</th>\n",
       "      <td>FDY55</td>\n",
       "      <td>16.750000</td>\n",
       "      <td>Low Fat</td>\n",
       "      <td>0.081485</td>\n",
       "      <td>Fruits and Vegetables</td>\n",
       "      <td>258.0988</td>\n",
       "      <td>OUT045</td>\n",
       "      <td>2002</td>\n",
       "      <td>Medium</td>\n",
       "      <td>Tier 2</td>\n",
       "      <td>Supermarket Type1</td>\n",
       "      <td>8994.9580</td>\n",
       "      <td>Food</td>\n",
       "      <td>20</td>\n",
       "    </tr>\n",
       "    <tr>\n",
       "      <th>8113</th>\n",
       "      <td>FDN09</td>\n",
       "      <td>14.150000</td>\n",
       "      <td>Low Fat</td>\n",
       "      <td>0.034868</td>\n",
       "      <td>Snack Foods</td>\n",
       "      <td>243.7828</td>\n",
       "      <td>OUT035</td>\n",
       "      <td>2004</td>\n",
       "      <td>Small</td>\n",
       "      <td>Tier 2</td>\n",
       "      <td>Supermarket Type1</td>\n",
       "      <td>6579.4356</td>\n",
       "      <td>Food</td>\n",
       "      <td>18</td>\n",
       "    </tr>\n",
       "  </tbody>\n",
       "</table>\n",
       "<p>160 rows × 14 columns</p>\n",
       "</div>"
      ],
      "text/plain": [
       "     Item_Identifier  Item_Weight Item_Fat_Content  Item_Visibility  \\\n",
       "243            FDY56    16.350000          Regular         0.062764   \n",
       "275            FDH19    12.857645          Low Fat         0.032928   \n",
       "276            FDY55    16.750000          Low Fat         0.081253   \n",
       "333            FDN58    12.857645          Regular         0.056597   \n",
       "337            FDQ07    15.100000          Regular         0.087584   \n",
       "...              ...          ...              ...              ...   \n",
       "7956           FDQ24    15.700000          Low Fat         0.074083   \n",
       "7967           FDR16     5.845000          Regular         0.104998   \n",
       "7981           FDY34    12.857645          Regular         0.010929   \n",
       "8039           FDY55    16.750000          Low Fat         0.081485   \n",
       "8113           FDN09    14.150000          Low Fat         0.034868   \n",
       "\n",
       "                  Item_Type  Item_MRP Outlet_Identifier  \\\n",
       "243   Fruits and Vegetables  227.6062            OUT017   \n",
       "275                    Meat  173.1738            OUT027   \n",
       "276   Fruits and Vegetables  256.4988            OUT013   \n",
       "333             Snack Foods  230.9984            OUT027   \n",
       "337   Fruits and Vegetables  221.7456            OUT045   \n",
       "...                     ...       ...               ...   \n",
       "7956           Baking Goods  253.3724            OUT017   \n",
       "7967           Frozen Foods  213.2218            OUT035   \n",
       "7981            Snack Foods  167.0842            OUT027   \n",
       "8039  Fruits and Vegetables  258.0988            OUT045   \n",
       "8113            Snack Foods  243.7828            OUT035   \n",
       "\n",
       "      Outlet_Establishment_Year Outlet_Size Outlet_Location_Type  \\\n",
       "243                        2007      Medium               Tier 2   \n",
       "275                        1985      Medium               Tier 3   \n",
       "276                        1987        High               Tier 3   \n",
       "333                        1985      Medium               Tier 3   \n",
       "337                        2002      Medium               Tier 2   \n",
       "...                         ...         ...                  ...   \n",
       "7956                       2007      Medium               Tier 2   \n",
       "7967                       2004       Small               Tier 2   \n",
       "7981                       1985      Medium               Tier 3   \n",
       "8039                       2002      Medium               Tier 2   \n",
       "8113                       2004       Small               Tier 2   \n",
       "\n",
       "            Outlet_Type  Item_Outlet_Sales new_item_type  Outlet_year  \n",
       "243   Supermarket Type1          7222.5984          Food           15  \n",
       "275   Supermarket Type3          7298.4996          Food           37  \n",
       "276   Supermarket Type1          7452.9652          Food           35  \n",
       "333   Supermarket Type3          9267.9360          Food           37  \n",
       "337   Supermarket Type1          6410.3224          Food           20  \n",
       "...                 ...                ...           ...          ...  \n",
       "7956  Supermarket Type1          6795.1548          Food           15  \n",
       "7967  Supermarket Type1          7266.5412          Food           18  \n",
       "7981  Supermarket Type3          6465.5838          Food           37  \n",
       "8039  Supermarket Type1          8994.9580          Food           20  \n",
       "8113  Supermarket Type1          6579.4356          Food           18  \n",
       "\n",
       "[160 rows x 14 columns]"
      ]
     },
     "execution_count": 44,
     "metadata": {},
     "output_type": "execute_result"
    }
   ],
   "source": [
    "df[(df['new_item_type']=='Food') & (df['Item_Outlet_Sales']>6300)]\n"
   ]
  },
  {
   "cell_type": "code",
   "execution_count": 45,
   "id": "a81eb2e0",
   "metadata": {},
   "outputs": [],
   "source": [
    "df.drop([243,275,276,333,337,7956,7967,7981,8039,8113],inplace=True)"
   ]
  },
  {
   "cell_type": "code",
   "execution_count": 46,
   "id": "138565d1",
   "metadata": {},
   "outputs": [
    {
     "data": {
      "text/html": [
       "<div>\n",
       "<style scoped>\n",
       "    .dataframe tbody tr th:only-of-type {\n",
       "        vertical-align: middle;\n",
       "    }\n",
       "\n",
       "    .dataframe tbody tr th {\n",
       "        vertical-align: top;\n",
       "    }\n",
       "\n",
       "    .dataframe thead th {\n",
       "        text-align: right;\n",
       "    }\n",
       "</style>\n",
       "<table border=\"1\" class=\"dataframe\">\n",
       "  <thead>\n",
       "    <tr style=\"text-align: right;\">\n",
       "      <th></th>\n",
       "      <th>Item_Identifier</th>\n",
       "      <th>Item_Weight</th>\n",
       "      <th>Item_Fat_Content</th>\n",
       "      <th>Item_Visibility</th>\n",
       "      <th>Item_Type</th>\n",
       "      <th>Item_MRP</th>\n",
       "      <th>Outlet_Identifier</th>\n",
       "      <th>Outlet_Establishment_Year</th>\n",
       "      <th>Outlet_Size</th>\n",
       "      <th>Outlet_Location_Type</th>\n",
       "      <th>Outlet_Type</th>\n",
       "      <th>Item_Outlet_Sales</th>\n",
       "      <th>new_item_type</th>\n",
       "      <th>Outlet_year</th>\n",
       "    </tr>\n",
       "  </thead>\n",
       "  <tbody>\n",
       "    <tr>\n",
       "      <th>373</th>\n",
       "      <td>FDX09</td>\n",
       "      <td>9.000000</td>\n",
       "      <td>Low Fat</td>\n",
       "      <td>0.065237</td>\n",
       "      <td>Snack Foods</td>\n",
       "      <td>176.4370</td>\n",
       "      <td>OUT035</td>\n",
       "      <td>2004</td>\n",
       "      <td>Small</td>\n",
       "      <td>Tier 2</td>\n",
       "      <td>Supermarket Type1</td>\n",
       "      <td>7763.2280</td>\n",
       "      <td>Food</td>\n",
       "      <td>18</td>\n",
       "    </tr>\n",
       "    <tr>\n",
       "      <th>402</th>\n",
       "      <td>FDT59</td>\n",
       "      <td>13.650000</td>\n",
       "      <td>Low Fat</td>\n",
       "      <td>0.015908</td>\n",
       "      <td>Breads</td>\n",
       "      <td>231.1668</td>\n",
       "      <td>OUT035</td>\n",
       "      <td>2004</td>\n",
       "      <td>Small</td>\n",
       "      <td>Tier 2</td>\n",
       "      <td>Supermarket Type1</td>\n",
       "      <td>6911.0040</td>\n",
       "      <td>Food</td>\n",
       "      <td>18</td>\n",
       "    </tr>\n",
       "    <tr>\n",
       "      <th>456</th>\n",
       "      <td>FDS26</td>\n",
       "      <td>12.857645</td>\n",
       "      <td>Low Fat</td>\n",
       "      <td>0.089036</td>\n",
       "      <td>Dairy</td>\n",
       "      <td>260.5594</td>\n",
       "      <td>OUT027</td>\n",
       "      <td>1985</td>\n",
       "      <td>Medium</td>\n",
       "      <td>Tier 3</td>\n",
       "      <td>Supermarket Type3</td>\n",
       "      <td>9158.0790</td>\n",
       "      <td>Food</td>\n",
       "      <td>37</td>\n",
       "    </tr>\n",
       "    <tr>\n",
       "      <th>472</th>\n",
       "      <td>FDU56</td>\n",
       "      <td>12.857645</td>\n",
       "      <td>Low Fat</td>\n",
       "      <td>0.066132</td>\n",
       "      <td>Fruits and Vegetables</td>\n",
       "      <td>184.7266</td>\n",
       "      <td>OUT027</td>\n",
       "      <td>1985</td>\n",
       "      <td>Medium</td>\n",
       "      <td>Tier 3</td>\n",
       "      <td>Supermarket Type3</td>\n",
       "      <td>8114.7704</td>\n",
       "      <td>Food</td>\n",
       "      <td>37</td>\n",
       "    </tr>\n",
       "    <tr>\n",
       "      <th>497</th>\n",
       "      <td>FDR56</td>\n",
       "      <td>12.857645</td>\n",
       "      <td>Regular</td>\n",
       "      <td>0.100278</td>\n",
       "      <td>Fruits and Vegetables</td>\n",
       "      <td>196.8768</td>\n",
       "      <td>OUT027</td>\n",
       "      <td>1985</td>\n",
       "      <td>Medium</td>\n",
       "      <td>Tier 3</td>\n",
       "      <td>Supermarket Type3</td>\n",
       "      <td>7094.7648</td>\n",
       "      <td>Food</td>\n",
       "      <td>37</td>\n",
       "    </tr>\n",
       "    <tr>\n",
       "      <th>...</th>\n",
       "      <td>...</td>\n",
       "      <td>...</td>\n",
       "      <td>...</td>\n",
       "      <td>...</td>\n",
       "      <td>...</td>\n",
       "      <td>...</td>\n",
       "      <td>...</td>\n",
       "      <td>...</td>\n",
       "      <td>...</td>\n",
       "      <td>...</td>\n",
       "      <td>...</td>\n",
       "      <td>...</td>\n",
       "      <td>...</td>\n",
       "      <td>...</td>\n",
       "    </tr>\n",
       "    <tr>\n",
       "      <th>7752</th>\n",
       "      <td>FDC17</td>\n",
       "      <td>12.857645</td>\n",
       "      <td>Low Fat</td>\n",
       "      <td>0.015386</td>\n",
       "      <td>Frozen Foods</td>\n",
       "      <td>208.9928</td>\n",
       "      <td>OUT027</td>\n",
       "      <td>1985</td>\n",
       "      <td>Medium</td>\n",
       "      <td>Tier 3</td>\n",
       "      <td>Supermarket Type3</td>\n",
       "      <td>9678.0688</td>\n",
       "      <td>Food</td>\n",
       "      <td>37</td>\n",
       "    </tr>\n",
       "    <tr>\n",
       "      <th>7816</th>\n",
       "      <td>FDV45</td>\n",
       "      <td>12.857645</td>\n",
       "      <td>Low Fat</td>\n",
       "      <td>0.044829</td>\n",
       "      <td>Snack Foods</td>\n",
       "      <td>187.4556</td>\n",
       "      <td>OUT027</td>\n",
       "      <td>1985</td>\n",
       "      <td>Medium</td>\n",
       "      <td>Tier 3</td>\n",
       "      <td>Supermarket Type3</td>\n",
       "      <td>7510.2240</td>\n",
       "      <td>Food</td>\n",
       "      <td>37</td>\n",
       "    </tr>\n",
       "    <tr>\n",
       "      <th>7826</th>\n",
       "      <td>FDM39</td>\n",
       "      <td>12.857645</td>\n",
       "      <td>Low Fat</td>\n",
       "      <td>0.053212</td>\n",
       "      <td>Dairy</td>\n",
       "      <td>177.6002</td>\n",
       "      <td>OUT027</td>\n",
       "      <td>1985</td>\n",
       "      <td>Medium</td>\n",
       "      <td>Tier 3</td>\n",
       "      <td>Supermarket Type3</td>\n",
       "      <td>8417.7094</td>\n",
       "      <td>Food</td>\n",
       "      <td>37</td>\n",
       "    </tr>\n",
       "    <tr>\n",
       "      <th>7864</th>\n",
       "      <td>FDV57</td>\n",
       "      <td>15.250000</td>\n",
       "      <td>Regular</td>\n",
       "      <td>0.066269</td>\n",
       "      <td>Snack Foods</td>\n",
       "      <td>179.6660</td>\n",
       "      <td>OUT017</td>\n",
       "      <td>2007</td>\n",
       "      <td>Medium</td>\n",
       "      <td>Tier 2</td>\n",
       "      <td>Supermarket Type1</td>\n",
       "      <td>6471.5760</td>\n",
       "      <td>Food</td>\n",
       "      <td>15</td>\n",
       "    </tr>\n",
       "    <tr>\n",
       "      <th>7930</th>\n",
       "      <td>FDP15</td>\n",
       "      <td>12.857645</td>\n",
       "      <td>Low Fat</td>\n",
       "      <td>0.083536</td>\n",
       "      <td>Meat</td>\n",
       "      <td>255.4330</td>\n",
       "      <td>OUT027</td>\n",
       "      <td>1985</td>\n",
       "      <td>Medium</td>\n",
       "      <td>Tier 3</td>\n",
       "      <td>Supermarket Type3</td>\n",
       "      <td>9227.9880</td>\n",
       "      <td>Food</td>\n",
       "      <td>37</td>\n",
       "    </tr>\n",
       "  </tbody>\n",
       "</table>\n",
       "<p>150 rows × 14 columns</p>\n",
       "</div>"
      ],
      "text/plain": [
       "     Item_Identifier  Item_Weight Item_Fat_Content  Item_Visibility  \\\n",
       "373            FDX09     9.000000          Low Fat         0.065237   \n",
       "402            FDT59    13.650000          Low Fat         0.015908   \n",
       "456            FDS26    12.857645          Low Fat         0.089036   \n",
       "472            FDU56    12.857645          Low Fat         0.066132   \n",
       "497            FDR56    12.857645          Regular         0.100278   \n",
       "...              ...          ...              ...              ...   \n",
       "7752           FDC17    12.857645          Low Fat         0.015386   \n",
       "7816           FDV45    12.857645          Low Fat         0.044829   \n",
       "7826           FDM39    12.857645          Low Fat         0.053212   \n",
       "7864           FDV57    15.250000          Regular         0.066269   \n",
       "7930           FDP15    12.857645          Low Fat         0.083536   \n",
       "\n",
       "                  Item_Type  Item_MRP Outlet_Identifier  \\\n",
       "373             Snack Foods  176.4370            OUT035   \n",
       "402                  Breads  231.1668            OUT035   \n",
       "456                   Dairy  260.5594            OUT027   \n",
       "472   Fruits and Vegetables  184.7266            OUT027   \n",
       "497   Fruits and Vegetables  196.8768            OUT027   \n",
       "...                     ...       ...               ...   \n",
       "7752           Frozen Foods  208.9928            OUT027   \n",
       "7816            Snack Foods  187.4556            OUT027   \n",
       "7826                  Dairy  177.6002            OUT027   \n",
       "7864            Snack Foods  179.6660            OUT017   \n",
       "7930                   Meat  255.4330            OUT027   \n",
       "\n",
       "      Outlet_Establishment_Year Outlet_Size Outlet_Location_Type  \\\n",
       "373                        2004       Small               Tier 2   \n",
       "402                        2004       Small               Tier 2   \n",
       "456                        1985      Medium               Tier 3   \n",
       "472                        1985      Medium               Tier 3   \n",
       "497                        1985      Medium               Tier 3   \n",
       "...                         ...         ...                  ...   \n",
       "7752                       1985      Medium               Tier 3   \n",
       "7816                       1985      Medium               Tier 3   \n",
       "7826                       1985      Medium               Tier 3   \n",
       "7864                       2007      Medium               Tier 2   \n",
       "7930                       1985      Medium               Tier 3   \n",
       "\n",
       "            Outlet_Type  Item_Outlet_Sales new_item_type  Outlet_year  \n",
       "373   Supermarket Type1          7763.2280          Food           18  \n",
       "402   Supermarket Type1          6911.0040          Food           18  \n",
       "456   Supermarket Type3          9158.0790          Food           37  \n",
       "472   Supermarket Type3          8114.7704          Food           37  \n",
       "497   Supermarket Type3          7094.7648          Food           37  \n",
       "...                 ...                ...           ...          ...  \n",
       "7752  Supermarket Type3          9678.0688          Food           37  \n",
       "7816  Supermarket Type3          7510.2240          Food           37  \n",
       "7826  Supermarket Type3          8417.7094          Food           37  \n",
       "7864  Supermarket Type1          6471.5760          Food           15  \n",
       "7930  Supermarket Type3          9227.9880          Food           37  \n",
       "\n",
       "[150 rows x 14 columns]"
      ]
     },
     "execution_count": 46,
     "metadata": {},
     "output_type": "execute_result"
    }
   ],
   "source": [
    "df[(df['new_item_type']=='Food') & (df['Item_Outlet_Sales']>6300)]\n"
   ]
  },
  {
   "cell_type": "code",
   "execution_count": 47,
   "id": "b41ab1ce",
   "metadata": {},
   "outputs": [],
   "source": [
    "df.drop([373,402,456,472,497,640,641,661,694,753,809,844,903,935,991,997,1009,1012,1040,1113,1138,1254,\n",
    "         1348,1450,1506,1565,1601,1611,1627,1658,1700,1705,1709,1710,1751,1821,1859,1998,2109,2216,2238,\n",
    "        2293,2516,2528,2535,2549,2589,2599,2615,2648,2680,2776,2803,2887,3033,3073,3083,3098,3154,3208,3213,3255,\n",
    "        3286,3400,3494,3498,3584,3590,3636,3667,3670,3709,3757,3848,3869,3894,3903,3979,3999,4094,4150,4305,4346,4349,4378,4410,\n",
    "        4468,4598,4681,4683,4699,4888,4891,4913,4915,4961,5065,5177,5185,5223,5225,5236,5292,5413,5416,5463,5494,5500,5752,5775,\n",
    "        5799,5800,5812,5920,5977,6000,6092,6134,6169,6189,6334,6409,6513,6537,6541,6568,6569,6696,6765,6796,6886,6906,6993,\n",
    "         7014,7076,7149,7164,7302,7343,7539,7560,7562,7609,7690,7737,7752,7816,7826,7864,7930],inplace=True)"
   ]
  },
  {
   "cell_type": "code",
   "execution_count": 48,
   "id": "33be6ca6",
   "metadata": {},
   "outputs": [
    {
     "data": {
      "image/png": "[encoded data removed]",
      "text/plain": [
       "<Figure size 720x864 with 1 Axes>"
      ]
     },
     "metadata": {
      "needs_background": "light"
     },
     "output_type": "display_data"
    }
   ],
   "source": [
    "plt.figure(figsize=(10,12))\n",
    "sns.boxplot(data=df,x='Item_Outlet_Sales',y='new_item_type')\n",
    "plt.show()"
   ]
  },
  {
   "cell_type": "code",
   "execution_count": 49,
   "id": "ee07f51e",
   "metadata": {},
   "outputs": [
    {
     "data": {
      "text/html": [
       "<div>\n",
       "<style scoped>\n",
       "    .dataframe tbody tr th:only-of-type {\n",
       "        vertical-align: middle;\n",
       "    }\n",
       "\n",
       "    .dataframe tbody tr th {\n",
       "        vertical-align: top;\n",
       "    }\n",
       "\n",
       "    .dataframe thead th {\n",
       "        text-align: right;\n",
       "    }\n",
       "</style>\n",
       "<table border=\"1\" class=\"dataframe\">\n",
       "  <thead>\n",
       "    <tr style=\"text-align: right;\">\n",
       "      <th></th>\n",
       "      <th>Item_Identifier</th>\n",
       "      <th>Item_Weight</th>\n",
       "      <th>Item_Fat_Content</th>\n",
       "      <th>Item_Visibility</th>\n",
       "      <th>Item_Type</th>\n",
       "      <th>Item_MRP</th>\n",
       "      <th>Outlet_Identifier</th>\n",
       "      <th>Outlet_Establishment_Year</th>\n",
       "      <th>Outlet_Size</th>\n",
       "      <th>Outlet_Location_Type</th>\n",
       "      <th>Outlet_Type</th>\n",
       "      <th>Item_Outlet_Sales</th>\n",
       "      <th>new_item_type</th>\n",
       "      <th>Outlet_year</th>\n",
       "    </tr>\n",
       "  </thead>\n",
       "  <tbody>\n",
       "    <tr>\n",
       "      <th>165</th>\n",
       "      <td>DRL01</td>\n",
       "      <td>19.500000</td>\n",
       "      <td>Regular</td>\n",
       "      <td>0.077609</td>\n",
       "      <td>Soft Drinks</td>\n",
       "      <td>233.4958</td>\n",
       "      <td>OUT017</td>\n",
       "      <td>2007</td>\n",
       "      <td>Medium</td>\n",
       "      <td>Tier 2</td>\n",
       "      <td>Supermarket Type1</td>\n",
       "      <td>5375.0034</td>\n",
       "      <td>Drinks</td>\n",
       "      <td>15</td>\n",
       "    </tr>\n",
       "    <tr>\n",
       "      <th>211</th>\n",
       "      <td>DRC27</td>\n",
       "      <td>13.800000</td>\n",
       "      <td>Low Fat</td>\n",
       "      <td>0.058091</td>\n",
       "      <td>Dairy</td>\n",
       "      <td>245.1802</td>\n",
       "      <td>OUT035</td>\n",
       "      <td>2004</td>\n",
       "      <td>Small</td>\n",
       "      <td>Tier 2</td>\n",
       "      <td>Supermarket Type1</td>\n",
       "      <td>5650.6446</td>\n",
       "      <td>Drinks</td>\n",
       "      <td>18</td>\n",
       "    </tr>\n",
       "    <tr>\n",
       "      <th>320</th>\n",
       "      <td>DRQ35</td>\n",
       "      <td>12.857645</td>\n",
       "      <td>Low Fat</td>\n",
       "      <td>0.042087</td>\n",
       "      <td>Hard Drinks</td>\n",
       "      <td>122.4388</td>\n",
       "      <td>OUT027</td>\n",
       "      <td>1985</td>\n",
       "      <td>Medium</td>\n",
       "      <td>Tier 3</td>\n",
       "      <td>Supermarket Type3</td>\n",
       "      <td>5448.9072</td>\n",
       "      <td>Drinks</td>\n",
       "      <td>37</td>\n",
       "    </tr>\n",
       "    <tr>\n",
       "      <th>599</th>\n",
       "      <td>DRK37</td>\n",
       "      <td>5.000000</td>\n",
       "      <td>Low Fat</td>\n",
       "      <td>0.044005</td>\n",
       "      <td>Soft Drinks</td>\n",
       "      <td>188.8530</td>\n",
       "      <td>OUT046</td>\n",
       "      <td>1997</td>\n",
       "      <td>Small</td>\n",
       "      <td>Tier 1</td>\n",
       "      <td>Supermarket Type1</td>\n",
       "      <td>5502.8370</td>\n",
       "      <td>Drinks</td>\n",
       "      <td>25</td>\n",
       "    </tr>\n",
       "    <tr>\n",
       "      <th>829</th>\n",
       "      <td>DRJ24</td>\n",
       "      <td>11.800000</td>\n",
       "      <td>Low Fat</td>\n",
       "      <td>0.113235</td>\n",
       "      <td>Soft Drinks</td>\n",
       "      <td>186.3924</td>\n",
       "      <td>OUT013</td>\n",
       "      <td>1987</td>\n",
       "      <td>High</td>\n",
       "      <td>Tier 3</td>\n",
       "      <td>Supermarket Type1</td>\n",
       "      <td>5367.6796</td>\n",
       "      <td>Drinks</td>\n",
       "      <td>35</td>\n",
       "    </tr>\n",
       "    <tr>\n",
       "      <th>1084</th>\n",
       "      <td>DRC36</td>\n",
       "      <td>12.857645</td>\n",
       "      <td>Regular</td>\n",
       "      <td>0.044767</td>\n",
       "      <td>Soft Drinks</td>\n",
       "      <td>173.7054</td>\n",
       "      <td>OUT027</td>\n",
       "      <td>1985</td>\n",
       "      <td>Medium</td>\n",
       "      <td>Tier 3</td>\n",
       "      <td>Supermarket Type3</td>\n",
       "      <td>5778.4782</td>\n",
       "      <td>Drinks</td>\n",
       "      <td>37</td>\n",
       "    </tr>\n",
       "    <tr>\n",
       "      <th>1103</th>\n",
       "      <td>DRF36</td>\n",
       "      <td>16.100000</td>\n",
       "      <td>Low Fat</td>\n",
       "      <td>0.023673</td>\n",
       "      <td>Soft Drinks</td>\n",
       "      <td>189.0846</td>\n",
       "      <td>OUT018</td>\n",
       "      <td>2009</td>\n",
       "      <td>Medium</td>\n",
       "      <td>Tier 3</td>\n",
       "      <td>Supermarket Type2</td>\n",
       "      <td>5350.3688</td>\n",
       "      <td>Drinks</td>\n",
       "      <td>13</td>\n",
       "    </tr>\n",
       "    <tr>\n",
       "      <th>1373</th>\n",
       "      <td>DRI13</td>\n",
       "      <td>15.350000</td>\n",
       "      <td>Low Fat</td>\n",
       "      <td>0.020442</td>\n",
       "      <td>Soft Drinks</td>\n",
       "      <td>216.4508</td>\n",
       "      <td>OUT017</td>\n",
       "      <td>2007</td>\n",
       "      <td>Medium</td>\n",
       "      <td>Tier 2</td>\n",
       "      <td>Supermarket Type1</td>\n",
       "      <td>5426.2700</td>\n",
       "      <td>Drinks</td>\n",
       "      <td>15</td>\n",
       "    </tr>\n",
       "    <tr>\n",
       "      <th>1667</th>\n",
       "      <td>DRL01</td>\n",
       "      <td>19.500000</td>\n",
       "      <td>Regular</td>\n",
       "      <td>0.077108</td>\n",
       "      <td>Soft Drinks</td>\n",
       "      <td>232.8958</td>\n",
       "      <td>OUT013</td>\n",
       "      <td>1987</td>\n",
       "      <td>High</td>\n",
       "      <td>Tier 3</td>\n",
       "      <td>Supermarket Type1</td>\n",
       "      <td>5608.6992</td>\n",
       "      <td>Drinks</td>\n",
       "      <td>35</td>\n",
       "    </tr>\n",
       "    <tr>\n",
       "      <th>1960</th>\n",
       "      <td>DRF36</td>\n",
       "      <td>16.100000</td>\n",
       "      <td>Low Fat</td>\n",
       "      <td>0.023614</td>\n",
       "      <td>Soft Drinks</td>\n",
       "      <td>192.8846</td>\n",
       "      <td>OUT049</td>\n",
       "      <td>1999</td>\n",
       "      <td>Medium</td>\n",
       "      <td>Tier 1</td>\n",
       "      <td>Supermarket Type1</td>\n",
       "      <td>5350.3688</td>\n",
       "      <td>Drinks</td>\n",
       "      <td>23</td>\n",
       "    </tr>\n",
       "    <tr>\n",
       "      <th>3009</th>\n",
       "      <td>DRJ39</td>\n",
       "      <td>12.857645</td>\n",
       "      <td>Low Fat</td>\n",
       "      <td>0.036150</td>\n",
       "      <td>Dairy</td>\n",
       "      <td>219.5482</td>\n",
       "      <td>OUT027</td>\n",
       "      <td>1985</td>\n",
       "      <td>Medium</td>\n",
       "      <td>Tier 3</td>\n",
       "      <td>Supermarket Type3</td>\n",
       "      <td>5695.2532</td>\n",
       "      <td>Drinks</td>\n",
       "      <td>37</td>\n",
       "    </tr>\n",
       "    <tr>\n",
       "      <th>3027</th>\n",
       "      <td>DRG13</td>\n",
       "      <td>17.250000</td>\n",
       "      <td>Low Fat</td>\n",
       "      <td>0.037179</td>\n",
       "      <td>Soft Drinks</td>\n",
       "      <td>162.5526</td>\n",
       "      <td>OUT035</td>\n",
       "      <td>2004</td>\n",
       "      <td>Small</td>\n",
       "      <td>Tier 2</td>\n",
       "      <td>Supermarket Type1</td>\n",
       "      <td>5920.2936</td>\n",
       "      <td>Drinks</td>\n",
       "      <td>18</td>\n",
       "    </tr>\n",
       "    <tr>\n",
       "      <th>3595</th>\n",
       "      <td>DRE01</td>\n",
       "      <td>10.100000</td>\n",
       "      <td>Low Fat</td>\n",
       "      <td>0.167155</td>\n",
       "      <td>Soft Drinks</td>\n",
       "      <td>241.7512</td>\n",
       "      <td>OUT046</td>\n",
       "      <td>1997</td>\n",
       "      <td>Small</td>\n",
       "      <td>Tier 1</td>\n",
       "      <td>Supermarket Type1</td>\n",
       "      <td>5331.7264</td>\n",
       "      <td>Drinks</td>\n",
       "      <td>25</td>\n",
       "    </tr>\n",
       "    <tr>\n",
       "      <th>4481</th>\n",
       "      <td>DRI01</td>\n",
       "      <td>7.970000</td>\n",
       "      <td>Low Fat</td>\n",
       "      <td>0.066132</td>\n",
       "      <td>Soft Drinks</td>\n",
       "      <td>172.0422</td>\n",
       "      <td>OUT018</td>\n",
       "      <td>2009</td>\n",
       "      <td>Medium</td>\n",
       "      <td>Tier 3</td>\n",
       "      <td>Supermarket Type2</td>\n",
       "      <td>5690.5926</td>\n",
       "      <td>Drinks</td>\n",
       "      <td>13</td>\n",
       "    </tr>\n",
       "    <tr>\n",
       "      <th>4730</th>\n",
       "      <td>DRC27</td>\n",
       "      <td>13.800000</td>\n",
       "      <td>Low Fat</td>\n",
       "      <td>0.058193</td>\n",
       "      <td>Dairy</td>\n",
       "      <td>246.9802</td>\n",
       "      <td>OUT049</td>\n",
       "      <td>1999</td>\n",
       "      <td>Medium</td>\n",
       "      <td>Tier 1</td>\n",
       "      <td>Supermarket Type1</td>\n",
       "      <td>5896.3248</td>\n",
       "      <td>Drinks</td>\n",
       "      <td>23</td>\n",
       "    </tr>\n",
       "    <tr>\n",
       "      <th>4933</th>\n",
       "      <td>DRM35</td>\n",
       "      <td>9.695000</td>\n",
       "      <td>Low Fat</td>\n",
       "      <td>0.070587</td>\n",
       "      <td>Hard Drinks</td>\n",
       "      <td>176.9344</td>\n",
       "      <td>OUT045</td>\n",
       "      <td>2002</td>\n",
       "      <td>Medium</td>\n",
       "      <td>Tier 2</td>\n",
       "      <td>Supermarket Type1</td>\n",
       "      <td>5888.3352</td>\n",
       "      <td>Drinks</td>\n",
       "      <td>20</td>\n",
       "    </tr>\n",
       "    <tr>\n",
       "      <th>6688</th>\n",
       "      <td>DRM35</td>\n",
       "      <td>12.857645</td>\n",
       "      <td>Low Fat</td>\n",
       "      <td>0.070103</td>\n",
       "      <td>Hard Drinks</td>\n",
       "      <td>179.4344</td>\n",
       "      <td>OUT027</td>\n",
       "      <td>1985</td>\n",
       "      <td>Medium</td>\n",
       "      <td>Tier 3</td>\n",
       "      <td>Supermarket Type3</td>\n",
       "      <td>5888.3352</td>\n",
       "      <td>Drinks</td>\n",
       "      <td>37</td>\n",
       "    </tr>\n",
       "    <tr>\n",
       "      <th>6931</th>\n",
       "      <td>DRD60</td>\n",
       "      <td>15.700000</td>\n",
       "      <td>Low Fat</td>\n",
       "      <td>0.037232</td>\n",
       "      <td>Soft Drinks</td>\n",
       "      <td>183.1634</td>\n",
       "      <td>OUT046</td>\n",
       "      <td>1997</td>\n",
       "      <td>Small</td>\n",
       "      <td>Tier 1</td>\n",
       "      <td>Supermarket Type1</td>\n",
       "      <td>5634.6654</td>\n",
       "      <td>Drinks</td>\n",
       "      <td>25</td>\n",
       "    </tr>\n",
       "    <tr>\n",
       "      <th>7261</th>\n",
       "      <td>DRG49</td>\n",
       "      <td>7.810000</td>\n",
       "      <td>Low Fat</td>\n",
       "      <td>0.067837</td>\n",
       "      <td>Soft Drinks</td>\n",
       "      <td>246.1486</td>\n",
       "      <td>OUT017</td>\n",
       "      <td>2007</td>\n",
       "      <td>Medium</td>\n",
       "      <td>Tier 2</td>\n",
       "      <td>Supermarket Type1</td>\n",
       "      <td>5375.6692</td>\n",
       "      <td>Drinks</td>\n",
       "      <td>15</td>\n",
       "    </tr>\n",
       "    <tr>\n",
       "      <th>8485</th>\n",
       "      <td>DRK37</td>\n",
       "      <td>12.857645</td>\n",
       "      <td>Low Fat</td>\n",
       "      <td>0.043792</td>\n",
       "      <td>Soft Drinks</td>\n",
       "      <td>189.0530</td>\n",
       "      <td>OUT027</td>\n",
       "      <td>1985</td>\n",
       "      <td>Medium</td>\n",
       "      <td>Tier 3</td>\n",
       "      <td>Supermarket Type3</td>\n",
       "      <td>6261.8490</td>\n",
       "      <td>Drinks</td>\n",
       "      <td>37</td>\n",
       "    </tr>\n",
       "  </tbody>\n",
       "</table>\n",
       "</div>"
      ],
      "text/plain": [
       "     Item_Identifier  Item_Weight Item_Fat_Content  Item_Visibility  \\\n",
       "165            DRL01    19.500000          Regular         0.077609   \n",
       "211            DRC27    13.800000          Low Fat         0.058091   \n",
       "320            DRQ35    12.857645          Low Fat         0.042087   \n",
       "599            DRK37     5.000000          Low Fat         0.044005   \n",
       "829            DRJ24    11.800000          Low Fat         0.113235   \n",
       "1084           DRC36    12.857645          Regular         0.044767   \n",
       "1103           DRF36    16.100000          Low Fat         0.023673   \n",
       "1373           DRI13    15.350000          Low Fat         0.020442   \n",
       "1667           DRL01    19.500000          Regular         0.077108   \n",
       "1960           DRF36    16.100000          Low Fat         0.023614   \n",
       "3009           DRJ39    12.857645          Low Fat         0.036150   \n",
       "3027           DRG13    17.250000          Low Fat         0.037179   \n",
       "3595           DRE01    10.100000          Low Fat         0.167155   \n",
       "4481           DRI01     7.970000          Low Fat         0.066132   \n",
       "4730           DRC27    13.800000          Low Fat         0.058193   \n",
       "4933           DRM35     9.695000          Low Fat         0.070587   \n",
       "6688           DRM35    12.857645          Low Fat         0.070103   \n",
       "6931           DRD60    15.700000          Low Fat         0.037232   \n",
       "7261           DRG49     7.810000          Low Fat         0.067837   \n",
       "8485           DRK37    12.857645          Low Fat         0.043792   \n",
       "\n",
       "        Item_Type  Item_MRP Outlet_Identifier  Outlet_Establishment_Year  \\\n",
       "165   Soft Drinks  233.4958            OUT017                       2007   \n",
       "211         Dairy  245.1802            OUT035                       2004   \n",
       "320   Hard Drinks  122.4388            OUT027                       1985   \n",
       "599   Soft Drinks  188.8530            OUT046                       1997   \n",
       "829   Soft Drinks  186.3924            OUT013                       1987   \n",
       "1084  Soft Drinks  173.7054            OUT027                       1985   \n",
       "1103  Soft Drinks  189.0846            OUT018                       2009   \n",
       "1373  Soft Drinks  216.4508            OUT017                       2007   \n",
       "1667  Soft Drinks  232.8958            OUT013                       1987   \n",
       "1960  Soft Drinks  192.8846            OUT049                       1999   \n",
       "3009        Dairy  219.5482            OUT027                       1985   \n",
       "3027  Soft Drinks  162.5526            OUT035                       2004   \n",
       "3595  Soft Drinks  241.7512            OUT046                       1997   \n",
       "4481  Soft Drinks  172.0422            OUT018                       2009   \n",
       "4730        Dairy  246.9802            OUT049                       1999   \n",
       "4933  Hard Drinks  176.9344            OUT045                       2002   \n",
       "6688  Hard Drinks  179.4344            OUT027                       1985   \n",
       "6931  Soft Drinks  183.1634            OUT046                       1997   \n",
       "7261  Soft Drinks  246.1486            OUT017                       2007   \n",
       "8485  Soft Drinks  189.0530            OUT027                       1985   \n",
       "\n",
       "     Outlet_Size Outlet_Location_Type        Outlet_Type  Item_Outlet_Sales  \\\n",
       "165       Medium               Tier 2  Supermarket Type1          5375.0034   \n",
       "211        Small               Tier 2  Supermarket Type1          5650.6446   \n",
       "320       Medium               Tier 3  Supermarket Type3          5448.9072   \n",
       "599        Small               Tier 1  Supermarket Type1          5502.8370   \n",
       "829         High               Tier 3  Supermarket Type1          5367.6796   \n",
       "1084      Medium               Tier 3  Supermarket Type3          5778.4782   \n",
       "1103      Medium               Tier 3  Supermarket Type2          5350.3688   \n",
       "1373      Medium               Tier 2  Supermarket Type1          5426.2700   \n",
       "1667        High               Tier 3  Supermarket Type1          5608.6992   \n",
       "1960      Medium               Tier 1  Supermarket Type1          5350.3688   \n",
       "3009      Medium               Tier 3  Supermarket Type3          5695.2532   \n",
       "3027       Small               Tier 2  Supermarket Type1          5920.2936   \n",
       "3595       Small               Tier 1  Supermarket Type1          5331.7264   \n",
       "4481      Medium               Tier 3  Supermarket Type2          5690.5926   \n",
       "4730      Medium               Tier 1  Supermarket Type1          5896.3248   \n",
       "4933      Medium               Tier 2  Supermarket Type1          5888.3352   \n",
       "6688      Medium               Tier 3  Supermarket Type3          5888.3352   \n",
       "6931       Small               Tier 1  Supermarket Type1          5634.6654   \n",
       "7261      Medium               Tier 2  Supermarket Type1          5375.6692   \n",
       "8485      Medium               Tier 3  Supermarket Type3          6261.8490   \n",
       "\n",
       "     new_item_type  Outlet_year  \n",
       "165         Drinks           15  \n",
       "211         Drinks           18  \n",
       "320         Drinks           37  \n",
       "599         Drinks           25  \n",
       "829         Drinks           35  \n",
       "1084        Drinks           37  \n",
       "1103        Drinks           13  \n",
       "1373        Drinks           15  \n",
       "1667        Drinks           35  \n",
       "1960        Drinks           23  \n",
       "3009        Drinks           37  \n",
       "3027        Drinks           18  \n",
       "3595        Drinks           25  \n",
       "4481        Drinks           13  \n",
       "4730        Drinks           23  \n",
       "4933        Drinks           20  \n",
       "6688        Drinks           37  \n",
       "6931        Drinks           25  \n",
       "7261        Drinks           15  \n",
       "8485        Drinks           37  "
      ]
     },
     "execution_count": 49,
     "metadata": {},
     "output_type": "execute_result"
    }
   ],
   "source": [
    "df[(df['new_item_type']=='Drinks') & (df['Item_Outlet_Sales']>5300)]"
   ]
  },
  {
   "cell_type": "code",
   "execution_count": 50,
   "id": "8b1d0dde",
   "metadata": {},
   "outputs": [
    {
     "data": {
      "text/plain": [
       "(None,)"
      ]
     },
     "execution_count": 50,
     "metadata": {},
     "output_type": "execute_result"
    }
   ],
   "source": [
    "df.drop([165,211,320,599,829,1084,1103,1373,1667,1960,3009,3027,3595,4481,4730,6688,6931,7261,8485],inplace=True),"
   ]
  },
  {
   "cell_type": "code",
   "execution_count": 51,
   "id": "7ec2ac89",
   "metadata": {},
   "outputs": [
    {
     "data": {
      "image/png": "[encoded data removed]",
      "text/plain": [
       "<Figure size 720x864 with 1 Axes>"
      ]
     },
     "metadata": {
      "needs_background": "light"
     },
     "output_type": "display_data"
    }
   ],
   "source": [
    "plt.figure(figsize=(10,12))\n",
    "sns.boxplot(data=df,x='Item_Outlet_Sales',y='new_item_type')\n",
    "plt.show()"
   ]
  },
  {
   "cell_type": "markdown",
   "id": "381ec62e",
   "metadata": {},
   "source": [
    "# Skewness"
   ]
  },
  {
   "cell_type": "code",
   "execution_count": 52,
   "id": "4090904d",
   "metadata": {},
   "outputs": [
    {
     "data": {
      "text/plain": [
       "0.7449239064633996"
      ]
     },
     "execution_count": 52,
     "metadata": {},
     "output_type": "execute_result"
    },
    {
     "data": {
      "image/png": "[encoded data removed]",
      "text/plain": [
       "<Figure size 432x288 with 1 Axes>"
      ]
     },
     "metadata": {
      "needs_background": "light"
     },
     "output_type": "display_data"
    }
   ],
   "source": [
    "from scipy.stats import skew\n",
    "sns.distplot(df['Item_Outlet_Sales'])\n",
    "skew(df['Item_Outlet_Sales'])"
   ]
  },
  {
   "cell_type": "code",
   "execution_count": 53,
   "id": "b94c8e3d",
   "metadata": {},
   "outputs": [
    {
     "data": {
      "text/plain": [
       "1.281313558186972"
      ]
     },
     "execution_count": 53,
     "metadata": {},
     "output_type": "execute_result"
    },
    {
     "data": {
      "image/png": "[encoded data removed]",
      "text/plain": [
       "<Figure size 432x288 with 1 Axes>"
      ]
     },
     "metadata": {
      "needs_background": "light"
     },
     "output_type": "display_data"
    }
   ],
   "source": [
    "sns.distplot(df['Item_Visibility'])\n",
    "skew(df['Item_Visibility'])"
   ]
  },
  {
   "cell_type": "code",
   "execution_count": 54,
   "id": "85094197",
   "metadata": {
    "scrolled": true
   },
   "outputs": [
    {
     "data": {
      "text/plain": [
       "0.15737868017874962"
      ]
     },
     "execution_count": 54,
     "metadata": {},
     "output_type": "execute_result"
    },
    {
     "data": {
      "image/png": "[encoded data removed]",
      "text/plain": [
       "<Figure size 432x288 with 1 Axes>"
      ]
     },
     "metadata": {
      "needs_background": "light"
     },
     "output_type": "display_data"
    }
   ],
   "source": [
    "sns.distplot(df['Item_MRP'])\n",
    "skew(df['Item_MRP'])"
   ]
  },
  {
   "cell_type": "code",
   "execution_count": 55,
   "id": "ed111614",
   "metadata": {},
   "outputs": [
    {
     "data": {
      "text/plain": [
       "0.09071071240417392"
      ]
     },
     "execution_count": 55,
     "metadata": {},
     "output_type": "execute_result"
    },
    {
     "data": {
      "image/png": "[encoded data removed]",
      "text/plain": [
       "<Figure size 432x288 with 1 Axes>"
      ]
     },
     "metadata": {
      "needs_background": "light"
     },
     "output_type": "display_data"
    }
   ],
   "source": [
    "sns.distplot(df['Item_Weight'])\n",
    "skew(df['Item_Weight'])"
   ]
  },
  {
   "cell_type": "code",
   "execution_count": 56,
   "id": "5dc6ff38",
   "metadata": {
    "scrolled": false
   },
   "outputs": [],
   "source": [
    "#log transformation\n",
    "#df_num['Item_Outlet_Sales'] = np.log(1+df_num['Item_Outlet_Sales'])\n",
    "#df_num['Item_Outlet_Sales']"
   ]
  },
  {
   "cell_type": "code",
   "execution_count": 57,
   "id": "f53ca011",
   "metadata": {},
   "outputs": [
    {
     "data": {
      "text/plain": [
       "0.03918594909426352"
      ]
     },
     "execution_count": 57,
     "metadata": {},
     "output_type": "execute_result"
    }
   ],
   "source": [
    "from scipy.stats import skew\n",
    "df['Item_Outlet_Sales'] = np.sqrt(df['Item_Outlet_Sales'])\n",
    "skew(df['Item_Outlet_Sales'])"
   ]
  },
  {
   "cell_type": "code",
   "execution_count": 58,
   "id": "d496fd68",
   "metadata": {
    "scrolled": true
   },
   "outputs": [
    {
     "data": {
      "text/plain": [
       "<AxesSubplot:xlabel='Item_Outlet_Sales', ylabel='Density'>"
      ]
     },
     "execution_count": 58,
     "metadata": {},
     "output_type": "execute_result"
    },
    {
     "data": {
      "image/png": "[encoded data removed]",
      "text/plain": [
       "<Figure size 432x288 with 1 Axes>"
      ]
     },
     "metadata": {
      "needs_background": "light"
     },
     "output_type": "display_data"
    }
   ],
   "source": [
    "sns.distplot(df['Item_Outlet_Sales'])"
   ]
  },
  {
   "cell_type": "code",
   "execution_count": 59,
   "id": "2f35dc43",
   "metadata": {},
   "outputs": [],
   "source": [
    "df['Item_Visibility'] = np.sqrt(df['Item_Visibility'])"
   ]
  },
  {
   "cell_type": "code",
   "execution_count": 60,
   "id": "fc49a344",
   "metadata": {},
   "outputs": [
    {
     "data": {
      "text/plain": [
       "0.40377612678252595"
      ]
     },
     "execution_count": 60,
     "metadata": {},
     "output_type": "execute_result"
    }
   ],
   "source": [
    "skew(df['Item_Visibility'])"
   ]
  },
  {
   "cell_type": "code",
   "execution_count": 61,
   "id": "8b8f09fb",
   "metadata": {
    "scrolled": true
   },
   "outputs": [],
   "source": [
    "#df_num['Item_Visibility'] = np.log(1+df_num['Item_Visibility'])\n",
    "#df_num['Item_Visibility']"
   ]
  },
  {
   "cell_type": "code",
   "execution_count": 62,
   "id": "a091edc1",
   "metadata": {},
   "outputs": [
    {
     "data": {
      "text/plain": [
       "<AxesSubplot:xlabel='Item_Visibility', ylabel='Density'>"
      ]
     },
     "execution_count": 62,
     "metadata": {},
     "output_type": "execute_result"
    },
    {
     "data": {
      "image/png": "[encoded data removed]",
      "text/plain": [
       "<Figure size 432x288 with 1 Axes>"
      ]
     },
     "metadata": {
      "needs_background": "light"
     },
     "output_type": "display_data"
    }
   ],
   "source": [
    "sns.distplot(df['Item_Visibility'])"
   ]
  },
  {
   "cell_type": "code",
   "execution_count": 63,
   "id": "be82c613",
   "metadata": {},
   "outputs": [
    {
     "data": {
      "text/plain": [
       "<AxesSubplot:xlabel='Item_Fat_Content', ylabel='count'>"
      ]
     },
     "execution_count": 63,
     "metadata": {},
     "output_type": "execute_result"
    },
    {
     "data": {
      "image/png": "[encoded data removed]",
      "text/plain": [
       "<Figure size 432x288 with 1 Axes>"
      ]
     },
     "metadata": {
      "needs_background": "light"
     },
     "output_type": "display_data"
    }
   ],
   "source": [
    "sns.countplot(df[\"Item_Fat_Content\"])"
   ]
  },
  {
   "cell_type": "markdown",
   "id": "1e7995ad",
   "metadata": {},
   "source": [
    "most items are low fat content"
   ]
  },
  {
   "cell_type": "code",
   "execution_count": 64,
   "id": "209ec94f",
   "metadata": {},
   "outputs": [
    {
     "data": {
      "text/plain": [
       "[Text(0, 0, 'Dairy'),\n",
       " Text(1, 0, 'Soft Drinks'),\n",
       " Text(2, 0, 'Meat'),\n",
       " Text(3, 0, 'Fruits and Vegetables'),\n",
       " Text(4, 0, 'Household'),\n",
       " Text(5, 0, 'Baking Goods'),\n",
       " Text(6, 0, 'Snack Foods'),\n",
       " Text(7, 0, 'Frozen Foods'),\n",
       " Text(8, 0, 'Breakfast'),\n",
       " Text(9, 0, 'Health and Hygiene'),\n",
       " Text(10, 0, 'Hard Drinks'),\n",
       " Text(11, 0, 'Canned'),\n",
       " Text(12, 0, 'Breads'),\n",
       " Text(13, 0, 'Starchy Foods'),\n",
       " Text(14, 0, 'Others'),\n",
       " Text(15, 0, 'Seafood')]"
      ]
     },
     "execution_count": 64,
     "metadata": {},
     "output_type": "execute_result"
    },
    {
     "data": {
      "image/png": "[encoded data removed]",
      "text/plain": [
       "<Figure size 720x864 with 1 Axes>"
      ]
     },
     "metadata": {
      "needs_background": "light"
     },
     "output_type": "display_data"
    }
   ],
   "source": [
    "plt.figure(figsize=(10,12))\n",
    "l1= list(df['Item_Type'].unique())\n",
    "chart = sns.countplot(df[\"Item_Type\"])\n",
    "chart.set_xticklabels(labels=l1, rotation=90)"
   ]
  },
  {
   "cell_type": "code",
   "execution_count": 65,
   "id": "9139dd4c",
   "metadata": {},
   "outputs": [
    {
     "data": {
      "text/plain": [
       "<AxesSubplot:xlabel='Outlet_Establishment_Year', ylabel='count'>"
      ]
     },
     "execution_count": 65,
     "metadata": {},
     "output_type": "execute_result"
    },
    {
     "data": {
      "image/png": "[encoded data removed]",
      "text/plain": [
       "<Figure size 432x288 with 1 Axes>"
      ]
     },
     "metadata": {
      "needs_background": "light"
     },
     "output_type": "display_data"
    }
   ],
   "source": [
    "sns.countplot(df['Outlet_Establishment_Year'])"
   ]
  },
  {
   "cell_type": "markdown",
   "id": "9f00857b",
   "metadata": {},
   "source": [
    "most outlets are established in an equal distribution."
   ]
  },
  {
   "cell_type": "code",
   "execution_count": 66,
   "id": "70874ada",
   "metadata": {},
   "outputs": [
    {
     "data": {
      "text/plain": [
       "<AxesSubplot:xlabel='Outlet_Size', ylabel='count'>"
      ]
     },
     "execution_count": 66,
     "metadata": {},
     "output_type": "execute_result"
    },
    {
     "data": {
      "image/png": "[encoded data removed]",
      "text/plain": [
       "<Figure size 432x288 with 1 Axes>"
      ]
     },
     "metadata": {
      "needs_background": "light"
     },
     "output_type": "display_data"
    }
   ],
   "source": [
    "sns.countplot(df['Outlet_Size'])"
   ]
  },
  {
   "cell_type": "code",
   "execution_count": 67,
   "id": "90063fb9",
   "metadata": {},
   "outputs": [
    {
     "data": {
      "text/plain": [
       "<AxesSubplot:xlabel='Outlet_Location_Type', ylabel='count'>"
      ]
     },
     "execution_count": 67,
     "metadata": {},
     "output_type": "execute_result"
    },
    {
     "data": {
      "image/png": "[encoded data removed]",
      "text/plain": [
       "<Figure size 432x288 with 1 Axes>"
      ]
     },
     "metadata": {
      "needs_background": "light"
     },
     "output_type": "display_data"
    }
   ],
   "source": [
    "sns.countplot(df['Outlet_Location_Type'])"
   ]
  },
  {
   "cell_type": "code",
   "execution_count": 68,
   "id": "b70e5aa2",
   "metadata": {},
   "outputs": [
    {
     "data": {
      "text/plain": [
       "[Text(0, 0, 'Supermarket Type1'),\n",
       " Text(1, 0, 'Supermarket Type2'),\n",
       " Text(2, 0, 'Grocery Store'),\n",
       " Text(3, 0, 'Supermarket Type3')]"
      ]
     },
     "execution_count": 68,
     "metadata": {},
     "output_type": "execute_result"
    },
    {
     "data": {
      "image/png": "[encoded data removed]",
      "text/plain": [
       "<Figure size 432x288 with 1 Axes>"
      ]
     },
     "metadata": {
      "needs_background": "light"
     },
     "output_type": "display_data"
    }
   ],
   "source": [
    "l2= list(df['Outlet_Type'].unique())\n",
    "chart=sns.countplot(df['Outlet_Type'])\n",
    "chart.set_xticklabels(labels=l2, rotation=90)\n"
   ]
  },
  {
   "cell_type": "code",
   "execution_count": 69,
   "id": "9151cb87",
   "metadata": {},
   "outputs": [
    {
     "data": {
      "text/html": [
       "<div>\n",
       "<style scoped>\n",
       "    .dataframe tbody tr th:only-of-type {\n",
       "        vertical-align: middle;\n",
       "    }\n",
       "\n",
       "    .dataframe tbody tr th {\n",
       "        vertical-align: top;\n",
       "    }\n",
       "\n",
       "    .dataframe thead th {\n",
       "        text-align: right;\n",
       "    }\n",
       "</style>\n",
       "<table border=\"1\" class=\"dataframe\">\n",
       "  <thead>\n",
       "    <tr style=\"text-align: right;\">\n",
       "      <th></th>\n",
       "      <th>Item_Identifier</th>\n",
       "      <th>Item_Weight</th>\n",
       "      <th>Item_Fat_Content</th>\n",
       "      <th>Item_Visibility</th>\n",
       "      <th>Item_Type</th>\n",
       "      <th>Item_MRP</th>\n",
       "      <th>Outlet_Identifier</th>\n",
       "      <th>Outlet_Establishment_Year</th>\n",
       "      <th>Outlet_Size</th>\n",
       "      <th>Outlet_Location_Type</th>\n",
       "      <th>Outlet_Type</th>\n",
       "      <th>Item_Outlet_Sales</th>\n",
       "      <th>new_item_type</th>\n",
       "      <th>Outlet_year</th>\n",
       "    </tr>\n",
       "  </thead>\n",
       "  <tbody>\n",
       "    <tr>\n",
       "      <th>0</th>\n",
       "      <td>FDA15</td>\n",
       "      <td>9.30</td>\n",
       "      <td>Low Fat</td>\n",
       "      <td>0.126678</td>\n",
       "      <td>Dairy</td>\n",
       "      <td>249.8092</td>\n",
       "      <td>OUT049</td>\n",
       "      <td>1999</td>\n",
       "      <td>Medium</td>\n",
       "      <td>Tier 1</td>\n",
       "      <td>Supermarket Type1</td>\n",
       "      <td>61.115775</td>\n",
       "      <td>Food</td>\n",
       "      <td>23</td>\n",
       "    </tr>\n",
       "    <tr>\n",
       "      <th>1</th>\n",
       "      <td>DRC01</td>\n",
       "      <td>5.92</td>\n",
       "      <td>Regular</td>\n",
       "      <td>0.138846</td>\n",
       "      <td>Soft Drinks</td>\n",
       "      <td>48.2692</td>\n",
       "      <td>OUT018</td>\n",
       "      <td>2009</td>\n",
       "      <td>Medium</td>\n",
       "      <td>Tier 3</td>\n",
       "      <td>Supermarket Type2</td>\n",
       "      <td>21.057607</td>\n",
       "      <td>Drinks</td>\n",
       "      <td>13</td>\n",
       "    </tr>\n",
       "    <tr>\n",
       "      <th>2</th>\n",
       "      <td>FDN15</td>\n",
       "      <td>17.50</td>\n",
       "      <td>Low Fat</td>\n",
       "      <td>0.129461</td>\n",
       "      <td>Meat</td>\n",
       "      <td>141.6180</td>\n",
       "      <td>OUT049</td>\n",
       "      <td>1999</td>\n",
       "      <td>Medium</td>\n",
       "      <td>Tier 1</td>\n",
       "      <td>Supermarket Type1</td>\n",
       "      <td>45.795961</td>\n",
       "      <td>Food</td>\n",
       "      <td>23</td>\n",
       "    </tr>\n",
       "    <tr>\n",
       "      <th>3</th>\n",
       "      <td>FDX07</td>\n",
       "      <td>19.20</td>\n",
       "      <td>Regular</td>\n",
       "      <td>0.257161</td>\n",
       "      <td>Fruits and Vegetables</td>\n",
       "      <td>182.0950</td>\n",
       "      <td>OUT010</td>\n",
       "      <td>1998</td>\n",
       "      <td>Medium</td>\n",
       "      <td>Tier 3</td>\n",
       "      <td>Grocery Store</td>\n",
       "      <td>27.062520</td>\n",
       "      <td>Food</td>\n",
       "      <td>24</td>\n",
       "    </tr>\n",
       "    <tr>\n",
       "      <th>4</th>\n",
       "      <td>NCD19</td>\n",
       "      <td>8.93</td>\n",
       "      <td>Low Fat</td>\n",
       "      <td>0.257161</td>\n",
       "      <td>Household</td>\n",
       "      <td>53.8614</td>\n",
       "      <td>OUT013</td>\n",
       "      <td>1987</td>\n",
       "      <td>High</td>\n",
       "      <td>Tier 3</td>\n",
       "      <td>Supermarket Type1</td>\n",
       "      <td>31.538947</td>\n",
       "      <td>Non-Consumable</td>\n",
       "      <td>35</td>\n",
       "    </tr>\n",
       "  </tbody>\n",
       "</table>\n",
       "</div>"
      ],
      "text/plain": [
       "  Item_Identifier  Item_Weight Item_Fat_Content  Item_Visibility  \\\n",
       "0           FDA15         9.30          Low Fat         0.126678   \n",
       "1           DRC01         5.92          Regular         0.138846   \n",
       "2           FDN15        17.50          Low Fat         0.129461   \n",
       "3           FDX07        19.20          Regular         0.257161   \n",
       "4           NCD19         8.93          Low Fat         0.257161   \n",
       "\n",
       "               Item_Type  Item_MRP Outlet_Identifier  \\\n",
       "0                  Dairy  249.8092            OUT049   \n",
       "1            Soft Drinks   48.2692            OUT018   \n",
       "2                   Meat  141.6180            OUT049   \n",
       "3  Fruits and Vegetables  182.0950            OUT010   \n",
       "4              Household   53.8614            OUT013   \n",
       "\n",
       "   Outlet_Establishment_Year Outlet_Size Outlet_Location_Type  \\\n",
       "0                       1999      Medium               Tier 1   \n",
       "1                       2009      Medium               Tier 3   \n",
       "2                       1999      Medium               Tier 1   \n",
       "3                       1998      Medium               Tier 3   \n",
       "4                       1987        High               Tier 3   \n",
       "\n",
       "         Outlet_Type  Item_Outlet_Sales   new_item_type  Outlet_year  \n",
       "0  Supermarket Type1          61.115775            Food           23  \n",
       "1  Supermarket Type2          21.057607          Drinks           13  \n",
       "2  Supermarket Type1          45.795961            Food           23  \n",
       "3      Grocery Store          27.062520            Food           24  \n",
       "4  Supermarket Type1          31.538947  Non-Consumable           35  "
      ]
     },
     "execution_count": 69,
     "metadata": {},
     "output_type": "execute_result"
    }
   ],
   "source": [
    "df.head()"
   ]
  },
  {
   "cell_type": "markdown",
   "id": "0d99dfac",
   "metadata": {},
   "source": [
    "# Feature Engineering"
   ]
  },
  {
   "cell_type": "code",
   "execution_count": 70,
   "id": "0e5365c8",
   "metadata": {},
   "outputs": [],
   "source": [
    "from sklearn.preprocessing import LabelEncoder"
   ]
  },
  {
   "cell_type": "code",
   "execution_count": 71,
   "id": "886f473a",
   "metadata": {},
   "outputs": [],
   "source": [
    "#le=LabelEncoder()\n",
    "#df['Outlet'] = le.fit_transform(df['Outlet_Identifier'])\n",
    "#cat_col = ['Item_Fat_Content', 'Item_Type', 'Outlet_Size', 'Outlet_Location_Type', 'Outlet_Type', 'new_item_type']\n",
    "#for col in cat_col:\n",
    "  #  df[col] = le.fit_transform(df[col])"
   ]
  },
  {
   "cell_type": "code",
   "execution_count": 72,
   "id": "c3e55e6e",
   "metadata": {
    "scrolled": false
   },
   "outputs": [],
   "source": [
    "#df = pd.get_dummies(df, columns=['Item_Fat_Content', 'Outlet_Size', 'Outlet_Location_Type', 'Outlet_Type', 'new_item_type'])\n",
    "#df.head()"
   ]
  },
  {
   "cell_type": "code",
   "execution_count": 73,
   "id": "078ff62a",
   "metadata": {},
   "outputs": [
    {
     "data": {
      "text/plain": [
       "Index(['Item_Identifier', 'Item_Fat_Content', 'Item_Type', 'Outlet_Identifier',\n",
       "       'Outlet_Size', 'Outlet_Location_Type', 'Outlet_Type', 'new_item_type'],\n",
       "      dtype='object')"
      ]
     },
     "execution_count": 73,
     "metadata": {},
     "output_type": "execute_result"
    }
   ],
   "source": [
    "le=LabelEncoder()\n",
    "#df['Outlet'] = le.fit_transform(df['Outlet_Identifier'])\n",
    "#cat_col = ['Item_Fat_Content', 'Item_Type', 'Outlet_Size', 'Outlet_Location_Type', 'Outlet_Type', 'new_item_type']\n",
    "data_encoding=df.select_dtypes(include='object').columns\n",
    "data_encoding"
   ]
  },
  {
   "cell_type": "code",
   "execution_count": 74,
   "id": "afec33b5",
   "metadata": {},
   "outputs": [
    {
     "data": {
      "text/html": [
       "<div>\n",
       "<style scoped>\n",
       "    .dataframe tbody tr th:only-of-type {\n",
       "        vertical-align: middle;\n",
       "    }\n",
       "\n",
       "    .dataframe tbody tr th {\n",
       "        vertical-align: top;\n",
       "    }\n",
       "\n",
       "    .dataframe thead th {\n",
       "        text-align: right;\n",
       "    }\n",
       "</style>\n",
       "<table border=\"1\" class=\"dataframe\">\n",
       "  <thead>\n",
       "    <tr style=\"text-align: right;\">\n",
       "      <th></th>\n",
       "      <th>Item_Identifier</th>\n",
       "      <th>Item_Weight</th>\n",
       "      <th>Item_Fat_Content</th>\n",
       "      <th>Item_Visibility</th>\n",
       "      <th>Item_Type</th>\n",
       "      <th>Item_MRP</th>\n",
       "      <th>Outlet_Identifier</th>\n",
       "      <th>Outlet_Establishment_Year</th>\n",
       "      <th>Outlet_Size</th>\n",
       "      <th>Outlet_Location_Type</th>\n",
       "      <th>Outlet_Type</th>\n",
       "      <th>Item_Outlet_Sales</th>\n",
       "      <th>new_item_type</th>\n",
       "      <th>Outlet_year</th>\n",
       "    </tr>\n",
       "  </thead>\n",
       "  <tbody>\n",
       "    <tr>\n",
       "      <th>0</th>\n",
       "      <td>156</td>\n",
       "      <td>9.30</td>\n",
       "      <td>0</td>\n",
       "      <td>0.126678</td>\n",
       "      <td>4</td>\n",
       "      <td>249.8092</td>\n",
       "      <td>9</td>\n",
       "      <td>1999</td>\n",
       "      <td>1</td>\n",
       "      <td>0</td>\n",
       "      <td>1</td>\n",
       "      <td>61.115775</td>\n",
       "      <td>1</td>\n",
       "      <td>23</td>\n",
       "    </tr>\n",
       "    <tr>\n",
       "      <th>1</th>\n",
       "      <td>8</td>\n",
       "      <td>5.92</td>\n",
       "      <td>1</td>\n",
       "      <td>0.138846</td>\n",
       "      <td>14</td>\n",
       "      <td>48.2692</td>\n",
       "      <td>3</td>\n",
       "      <td>2009</td>\n",
       "      <td>1</td>\n",
       "      <td>2</td>\n",
       "      <td>2</td>\n",
       "      <td>21.057607</td>\n",
       "      <td>0</td>\n",
       "      <td>13</td>\n",
       "    </tr>\n",
       "    <tr>\n",
       "      <th>2</th>\n",
       "      <td>662</td>\n",
       "      <td>17.50</td>\n",
       "      <td>0</td>\n",
       "      <td>0.129461</td>\n",
       "      <td>10</td>\n",
       "      <td>141.6180</td>\n",
       "      <td>9</td>\n",
       "      <td>1999</td>\n",
       "      <td>1</td>\n",
       "      <td>0</td>\n",
       "      <td>1</td>\n",
       "      <td>45.795961</td>\n",
       "      <td>1</td>\n",
       "      <td>23</td>\n",
       "    </tr>\n",
       "    <tr>\n",
       "      <th>3</th>\n",
       "      <td>1121</td>\n",
       "      <td>19.20</td>\n",
       "      <td>1</td>\n",
       "      <td>0.257161</td>\n",
       "      <td>6</td>\n",
       "      <td>182.0950</td>\n",
       "      <td>0</td>\n",
       "      <td>1998</td>\n",
       "      <td>1</td>\n",
       "      <td>2</td>\n",
       "      <td>0</td>\n",
       "      <td>27.062520</td>\n",
       "      <td>1</td>\n",
       "      <td>24</td>\n",
       "    </tr>\n",
       "    <tr>\n",
       "      <th>4</th>\n",
       "      <td>1297</td>\n",
       "      <td>8.93</td>\n",
       "      <td>0</td>\n",
       "      <td>0.257161</td>\n",
       "      <td>9</td>\n",
       "      <td>53.8614</td>\n",
       "      <td>1</td>\n",
       "      <td>1987</td>\n",
       "      <td>0</td>\n",
       "      <td>2</td>\n",
       "      <td>1</td>\n",
       "      <td>31.538947</td>\n",
       "      <td>2</td>\n",
       "      <td>35</td>\n",
       "    </tr>\n",
       "  </tbody>\n",
       "</table>\n",
       "</div>"
      ],
      "text/plain": [
       "   Item_Identifier  Item_Weight  Item_Fat_Content  Item_Visibility  Item_Type  \\\n",
       "0              156         9.30                 0         0.126678          4   \n",
       "1                8         5.92                 1         0.138846         14   \n",
       "2              662        17.50                 0         0.129461         10   \n",
       "3             1121        19.20                 1         0.257161          6   \n",
       "4             1297         8.93                 0         0.257161          9   \n",
       "\n",
       "   Item_MRP  Outlet_Identifier  Outlet_Establishment_Year  Outlet_Size  \\\n",
       "0  249.8092                  9                       1999            1   \n",
       "1   48.2692                  3                       2009            1   \n",
       "2  141.6180                  9                       1999            1   \n",
       "3  182.0950                  0                       1998            1   \n",
       "4   53.8614                  1                       1987            0   \n",
       "\n",
       "   Outlet_Location_Type  Outlet_Type  Item_Outlet_Sales  new_item_type  \\\n",
       "0                     0            1          61.115775              1   \n",
       "1                     2            2          21.057607              0   \n",
       "2                     0            1          45.795961              1   \n",
       "3                     2            0          27.062520              1   \n",
       "4                     2            1          31.538947              2   \n",
       "\n",
       "   Outlet_year  \n",
       "0           23  \n",
       "1           13  \n",
       "2           23  \n",
       "3           24  \n",
       "4           35  "
      ]
     },
     "execution_count": 74,
     "metadata": {},
     "output_type": "execute_result"
    }
   ],
   "source": [
    "for i in data_encoding:\n",
    "    df[i]=le.fit_transform(df[i])\n",
    "df.head()"
   ]
  },
  {
   "cell_type": "code",
   "execution_count": 75,
   "id": "39b7bb51",
   "metadata": {},
   "outputs": [],
   "source": [
    "from sklearn.preprocessing import MinMaxScaler"
   ]
  },
  {
   "cell_type": "code",
   "execution_count": 76,
   "id": "fd9cee50",
   "metadata": {},
   "outputs": [
    {
     "data": {
      "text/html": [
       "<div>\n",
       "<style scoped>\n",
       "    .dataframe tbody tr th:only-of-type {\n",
       "        vertical-align: middle;\n",
       "    }\n",
       "\n",
       "    .dataframe tbody tr th {\n",
       "        vertical-align: top;\n",
       "    }\n",
       "\n",
       "    .dataframe thead th {\n",
       "        text-align: right;\n",
       "    }\n",
       "</style>\n",
       "<table border=\"1\" class=\"dataframe\">\n",
       "  <thead>\n",
       "    <tr style=\"text-align: right;\">\n",
       "      <th></th>\n",
       "      <th>Item_Identifier</th>\n",
       "      <th>Item_Weight</th>\n",
       "      <th>Item_Fat_Content</th>\n",
       "      <th>Item_Visibility</th>\n",
       "      <th>Item_Type</th>\n",
       "      <th>Item_MRP</th>\n",
       "      <th>Outlet_Identifier</th>\n",
       "      <th>Outlet_Establishment_Year</th>\n",
       "      <th>Outlet_Size</th>\n",
       "      <th>Outlet_Location_Type</th>\n",
       "      <th>Outlet_Type</th>\n",
       "      <th>new_item_type</th>\n",
       "      <th>Outlet_year</th>\n",
       "    </tr>\n",
       "  </thead>\n",
       "  <tbody>\n",
       "    <tr>\n",
       "      <th>0</th>\n",
       "      <td>0.100128</td>\n",
       "      <td>0.282525</td>\n",
       "      <td>0.0</td>\n",
       "      <td>0.130321</td>\n",
       "      <td>0.266667</td>\n",
       "      <td>0.927507</td>\n",
       "      <td>1.000000</td>\n",
       "      <td>0.583333</td>\n",
       "      <td>0.5</td>\n",
       "      <td>0.0</td>\n",
       "      <td>0.333333</td>\n",
       "      <td>0.5</td>\n",
       "      <td>0.416667</td>\n",
       "    </tr>\n",
       "    <tr>\n",
       "      <th>1</th>\n",
       "      <td>0.005135</td>\n",
       "      <td>0.081274</td>\n",
       "      <td>1.0</td>\n",
       "      <td>0.154028</td>\n",
       "      <td>0.933333</td>\n",
       "      <td>0.072068</td>\n",
       "      <td>0.333333</td>\n",
       "      <td>1.000000</td>\n",
       "      <td>0.5</td>\n",
       "      <td>1.0</td>\n",
       "      <td>0.666667</td>\n",
       "      <td>0.0</td>\n",
       "      <td>0.000000</td>\n",
       "    </tr>\n",
       "    <tr>\n",
       "      <th>2</th>\n",
       "      <td>0.424904</td>\n",
       "      <td>0.770765</td>\n",
       "      <td>0.0</td>\n",
       "      <td>0.135743</td>\n",
       "      <td>0.666667</td>\n",
       "      <td>0.468288</td>\n",
       "      <td>1.000000</td>\n",
       "      <td>0.583333</td>\n",
       "      <td>0.5</td>\n",
       "      <td>0.0</td>\n",
       "      <td>0.333333</td>\n",
       "      <td>0.5</td>\n",
       "      <td>0.416667</td>\n",
       "    </tr>\n",
       "    <tr>\n",
       "      <th>3</th>\n",
       "      <td>0.719512</td>\n",
       "      <td>0.871986</td>\n",
       "      <td>1.0</td>\n",
       "      <td>0.384543</td>\n",
       "      <td>0.400000</td>\n",
       "      <td>0.640093</td>\n",
       "      <td>0.000000</td>\n",
       "      <td>0.541667</td>\n",
       "      <td>0.5</td>\n",
       "      <td>1.0</td>\n",
       "      <td>0.000000</td>\n",
       "      <td>0.5</td>\n",
       "      <td>0.458333</td>\n",
       "    </tr>\n",
       "    <tr>\n",
       "      <th>4</th>\n",
       "      <td>0.832478</td>\n",
       "      <td>0.260494</td>\n",
       "      <td>0.0</td>\n",
       "      <td>0.384543</td>\n",
       "      <td>0.600000</td>\n",
       "      <td>0.095805</td>\n",
       "      <td>0.111111</td>\n",
       "      <td>0.083333</td>\n",
       "      <td>0.0</td>\n",
       "      <td>1.0</td>\n",
       "      <td>0.333333</td>\n",
       "      <td>1.0</td>\n",
       "      <td>0.916667</td>\n",
       "    </tr>\n",
       "  </tbody>\n",
       "</table>\n",
       "</div>"
      ],
      "text/plain": [
       "   Item_Identifier  Item_Weight  Item_Fat_Content  Item_Visibility  Item_Type  \\\n",
       "0         0.100128     0.282525               0.0         0.130321   0.266667   \n",
       "1         0.005135     0.081274               1.0         0.154028   0.933333   \n",
       "2         0.424904     0.770765               0.0         0.135743   0.666667   \n",
       "3         0.719512     0.871986               1.0         0.384543   0.400000   \n",
       "4         0.832478     0.260494               0.0         0.384543   0.600000   \n",
       "\n",
       "   Item_MRP  Outlet_Identifier  Outlet_Establishment_Year  Outlet_Size  \\\n",
       "0  0.927507           1.000000                   0.583333          0.5   \n",
       "1  0.072068           0.333333                   1.000000          0.5   \n",
       "2  0.468288           1.000000                   0.583333          0.5   \n",
       "3  0.640093           0.000000                   0.541667          0.5   \n",
       "4  0.095805           0.111111                   0.083333          0.0   \n",
       "\n",
       "   Outlet_Location_Type  Outlet_Type  new_item_type  Outlet_year  \n",
       "0                   0.0     0.333333            0.5     0.416667  \n",
       "1                   1.0     0.666667            0.0     0.000000  \n",
       "2                   0.0     0.333333            0.5     0.416667  \n",
       "3                   1.0     0.000000            0.5     0.458333  \n",
       "4                   1.0     0.333333            1.0     0.916667  "
      ]
     },
     "execution_count": 76,
     "metadata": {},
     "output_type": "execute_result"
    }
   ],
   "source": [
    "col=['Item_Identifier','Item_Weight', 'Item_Fat_Content','Item_Visibility', 'Item_Type','Item_MRP', 'Outlet_Identifier','Outlet_Establishment_Year',\n",
    "       'Outlet_Size', 'Outlet_Location_Type', 'Outlet_Type', 'new_item_type','Outlet_year']\n",
    "df2=df[col]\n",
    "scaler=MinMaxScaler()\n",
    "df2[:]=scaler.fit_transform(df2[:])\n",
    "df2.head()"
   ]
  },
  {
   "cell_type": "code",
   "execution_count": null,
   "id": "8c542c1e",
   "metadata": {},
   "outputs": [],
   "source": []
  },
  {
   "cell_type": "markdown",
   "id": "f28b7451",
   "metadata": {},
   "source": [
    "# spliting the data into training and testing"
   ]
  },
  {
   "cell_type": "code",
   "execution_count": 77,
   "id": "8e8405b1",
   "metadata": {},
   "outputs": [],
   "source": [
    "x = df.drop(columns=['Outlet_Establishment_Year', 'Item_Identifier', 'Outlet_Identifier', 'Item_Outlet_Sales'])\n",
    "y = df['Item_Outlet_Sales']"
   ]
  },
  {
   "cell_type": "markdown",
   "id": "6157bda9",
   "metadata": {},
   "source": [
    "# logistic regression "
   ]
  },
  {
   "cell_type": "code",
   "execution_count": 78,
   "id": "3a1318be",
   "metadata": {},
   "outputs": [],
   "source": [
    "from sklearn.model_selection import train_test_split\n",
    "x_train,x_test,y_train,y_test=train_test_split(x,y,test_size=0.40,random_state=10)"
   ]
  },
  {
   "cell_type": "code",
   "execution_count": 79,
   "id": "3730816e",
   "metadata": {},
   "outputs": [
    {
     "name": "stdout",
     "output_type": "stream",
     "text": [
      "x_train shape: (4964, 10)\n",
      "y_train shape: (4964,)\n",
      "x_test shape: (3310, 10)\n",
      "y_test shape: (3310,)\n"
     ]
    }
   ],
   "source": [
    "print('x_train shape:',x_train.shape)\n",
    "print('y_train shape:',y_train.shape)\n",
    "print('x_test shape:',x_test.shape)\n",
    "print('y_test shape:',y_test.shape)"
   ]
  },
  {
   "cell_type": "code",
   "execution_count": 80,
   "id": "393978bf",
   "metadata": {},
   "outputs": [],
   "source": [
    "from sklearn.linear_model import LinearRegression\n",
    "lr_model = LinearRegression(fit_intercept=True)"
   ]
  },
  {
   "cell_type": "code",
   "execution_count": 81,
   "id": "b9cddbeb",
   "metadata": {},
   "outputs": [
    {
     "name": "stdout",
     "output_type": "stream",
     "text": [
      "Wall time: 0 ns\n"
     ]
    },
    {
     "data": {
      "text/plain": [
       "LinearRegression()"
      ]
     },
     "execution_count": 81,
     "metadata": {},
     "output_type": "execute_result"
    }
   ],
   "source": [
    "%time\n",
    "lr_model.fit(x_train,y_train)"
   ]
  },
  {
   "cell_type": "code",
   "execution_count": 82,
   "id": "e03be390",
   "metadata": {
    "scrolled": true
   },
   "outputs": [
    {
     "name": "stdout",
     "output_type": "stream",
     "text": [
      "Intersept :  29.386960682344466\n",
      "Coeffiescents :  [ -0.03272224   0.61807572 -11.4532219   -0.02691976   0.15026505\n",
      "  -6.06698578  -6.68695424  11.97041485   0.62898076  -0.23046004]\n"
     ]
    }
   ],
   "source": [
    "print('Intersept : ',lr_model.intercept_)\n",
    "print('Coeffiescents : ',lr_model.coef_)"
   ]
  },
  {
   "cell_type": "code",
   "execution_count": 83,
   "id": "518b29ea",
   "metadata": {},
   "outputs": [
    {
     "data": {
      "text/plain": [
       "Index(['Item_Weight', 'Item_Fat_Content', 'Item_Visibility', 'Item_Type',\n",
       "       'Item_MRP', 'Outlet_Size', 'Outlet_Location_Type', 'Outlet_Type',\n",
       "       'new_item_type', 'Outlet_year'],\n",
       "      dtype='object')"
      ]
     },
     "execution_count": 83,
     "metadata": {},
     "output_type": "execute_result"
    }
   ],
   "source": [
    "x_train.columns"
   ]
  },
  {
   "cell_type": "code",
   "execution_count": 84,
   "id": "bcddbe0c",
   "metadata": {
    "scrolled": true
   },
   "outputs": [
    {
     "data": {
      "text/html": [
       "<div>\n",
       "<style scoped>\n",
       "    .dataframe tbody tr th:only-of-type {\n",
       "        vertical-align: middle;\n",
       "    }\n",
       "\n",
       "    .dataframe tbody tr th {\n",
       "        vertical-align: top;\n",
       "    }\n",
       "\n",
       "    .dataframe thead th {\n",
       "        text-align: right;\n",
       "    }\n",
       "</style>\n",
       "<table border=\"1\" class=\"dataframe\">\n",
       "  <thead>\n",
       "    <tr style=\"text-align: right;\">\n",
       "      <th></th>\n",
       "      <th>Co-efficents</th>\n",
       "    </tr>\n",
       "  </thead>\n",
       "  <tbody>\n",
       "    <tr>\n",
       "      <th>Item_Weight</th>\n",
       "      <td>-0.032722</td>\n",
       "    </tr>\n",
       "    <tr>\n",
       "      <th>Item_Fat_Content</th>\n",
       "      <td>0.618076</td>\n",
       "    </tr>\n",
       "    <tr>\n",
       "      <th>Item_Visibility</th>\n",
       "      <td>-11.453222</td>\n",
       "    </tr>\n",
       "    <tr>\n",
       "      <th>Item_Type</th>\n",
       "      <td>-0.026920</td>\n",
       "    </tr>\n",
       "    <tr>\n",
       "      <th>Item_MRP</th>\n",
       "      <td>0.150265</td>\n",
       "    </tr>\n",
       "    <tr>\n",
       "      <th>Outlet_Size</th>\n",
       "      <td>-6.066986</td>\n",
       "    </tr>\n",
       "    <tr>\n",
       "      <th>Outlet_Location_Type</th>\n",
       "      <td>-6.686954</td>\n",
       "    </tr>\n",
       "    <tr>\n",
       "      <th>Outlet_Type</th>\n",
       "      <td>11.970415</td>\n",
       "    </tr>\n",
       "    <tr>\n",
       "      <th>new_item_type</th>\n",
       "      <td>0.628981</td>\n",
       "    </tr>\n",
       "    <tr>\n",
       "      <th>Outlet_year</th>\n",
       "      <td>-0.230460</td>\n",
       "    </tr>\n",
       "  </tbody>\n",
       "</table>\n",
       "</div>"
      ],
      "text/plain": [
       "                      Co-efficents\n",
       "Item_Weight              -0.032722\n",
       "Item_Fat_Content          0.618076\n",
       "Item_Visibility         -11.453222\n",
       "Item_Type                -0.026920\n",
       "Item_MRP                  0.150265\n",
       "Outlet_Size              -6.066986\n",
       "Outlet_Location_Type     -6.686954\n",
       "Outlet_Type              11.970415\n",
       "new_item_type             0.628981\n",
       "Outlet_year              -0.230460"
      ]
     },
     "execution_count": 84,
     "metadata": {},
     "output_type": "execute_result"
    }
   ],
   "source": [
    "pd.DataFrame((lr_model.coef_).T,index=[x_train.columns],columns=['Co-efficents'])"
   ]
  },
  {
   "cell_type": "code",
   "execution_count": 85,
   "id": "b8ec2ec0",
   "metadata": {},
   "outputs": [],
   "source": [
    "y_train_predictions = lr_model.predict(x_train)"
   ]
  },
  {
   "cell_type": "code",
   "execution_count": 86,
   "id": "de8f1620",
   "metadata": {},
   "outputs": [
    {
     "data": {
      "text/plain": [
       "array([31.62053423, 32.09448973, 38.63547475, 67.10319519, 56.30703985])"
      ]
     },
     "execution_count": 86,
     "metadata": {},
     "output_type": "execute_result"
    }
   ],
   "source": [
    " y_train_predictions[0:5]"
   ]
  },
  {
   "cell_type": "code",
   "execution_count": 87,
   "id": "0fde8599",
   "metadata": {
    "scrolled": true
   },
   "outputs": [
    {
     "data": {
      "text/plain": [
       "array([34.85461937, 35.29825524, 25.14026179, ..., 34.84279614,\n",
       "       35.69356958, 50.64964736])"
      ]
     },
     "execution_count": 87,
     "metadata": {},
     "output_type": "execute_result"
    }
   ],
   "source": [
    "y_test_predictions = lr_model.predict(x_test)  \n",
    "y_test_predictions   # predict value"
   ]
  },
  {
   "cell_type": "code",
   "execution_count": 88,
   "id": "eef5dde0",
   "metadata": {
    "scrolled": false
   },
   "outputs": [
    {
     "name": "stdout",
     "output_type": "stream",
     "text": [
      "Prediction value: [34.85461937 35.29825524 25.14026179 62.79453032 46.39201789]\n",
      "Actual value: 3839    26.515746\n",
      "7351    24.356268\n",
      "6828    21.418128\n",
      "2896    68.541118\n",
      "3754    53.723766\n",
      "Name: Item_Outlet_Sales, dtype: float64\n"
     ]
    }
   ],
   "source": [
    "#compare actual and prediction\n",
    "print ('Prediction value:',y_test_predictions[0:5])\n",
    "print ('Actual value:',y_test[0:5])\n"
   ]
  },
  {
   "cell_type": "code",
   "execution_count": 89,
   "id": "ca078073",
   "metadata": {},
   "outputs": [],
   "source": [
    "from sklearn import metrics"
   ]
  },
  {
   "cell_type": "code",
   "execution_count": 90,
   "id": "0a2396b3",
   "metadata": {},
   "outputs": [],
   "source": [
    "MAE_Train = metrics.mean_absolute_error(y_train,y_train_predictions)\n",
    "MAE_test = metrics.mean_absolute_error(y_test,y_test_predictions)"
   ]
  },
  {
   "cell_type": "code",
   "execution_count": 91,
   "id": "af7b489f",
   "metadata": {},
   "outputs": [
    {
     "data": {
      "text/plain": [
       "9.101614624658648"
      ]
     },
     "execution_count": 91,
     "metadata": {},
     "output_type": "execute_result"
    }
   ],
   "source": [
    "MAE_test"
   ]
  },
  {
   "cell_type": "code",
   "execution_count": 92,
   "id": "d8b30744",
   "metadata": {},
   "outputs": [
    {
     "data": {
      "text/plain": [
       "9.319346657893277"
      ]
     },
     "execution_count": 92,
     "metadata": {},
     "output_type": "execute_result"
    }
   ],
   "source": [
    "MAE_Train"
   ]
  },
  {
   "cell_type": "code",
   "execution_count": 93,
   "id": "ead85980",
   "metadata": {},
   "outputs": [
    {
     "data": {
      "text/plain": [
       "135.46679174392662"
      ]
     },
     "execution_count": 93,
     "metadata": {},
     "output_type": "execute_result"
    }
   ],
   "source": [
    "metrics.mean_squared_error(y_train,y_train_predictions)"
   ]
  },
  {
   "cell_type": "code",
   "execution_count": 94,
   "id": "fe33f552",
   "metadata": {},
   "outputs": [
    {
     "data": {
      "text/plain": [
       "130.39345033424001"
      ]
     },
     "execution_count": 94,
     "metadata": {},
     "output_type": "execute_result"
    }
   ],
   "source": [
    "metrics.mean_squared_error(y_test,y_test_predictions)"
   ]
  },
  {
   "cell_type": "code",
   "execution_count": 95,
   "id": "4d1a9bc7",
   "metadata": {},
   "outputs": [
    {
     "data": {
      "text/plain": [
       "11.639020222678823"
      ]
     },
     "execution_count": 95,
     "metadata": {},
     "output_type": "execute_result"
    }
   ],
   "source": [
    "np.sqrt(metrics.mean_squared_error(y_train,y_train_predictions))"
   ]
  },
  {
   "cell_type": "code",
   "execution_count": 96,
   "id": "623c9d65",
   "metadata": {},
   "outputs": [
    {
     "data": {
      "text/plain": [
       "11.418995154313711"
      ]
     },
     "execution_count": 96,
     "metadata": {},
     "output_type": "execute_result"
    }
   ],
   "source": [
    "np.sqrt(metrics.mean_squared_error(y_test,y_test_predictions))"
   ]
  },
  {
   "cell_type": "code",
   "execution_count": 97,
   "id": "2dac0f4f",
   "metadata": {},
   "outputs": [
    {
     "data": {
      "text/plain": [
       "54"
      ]
     },
     "execution_count": 97,
     "metadata": {},
     "output_type": "execute_result"
    }
   ],
   "source": [
    "linear_reg_accuracy_train = round(lr_model.score(x_train,y_train)*100)\n",
    "linear_reg_accuracy_train"
   ]
  },
  {
   "cell_type": "code",
   "execution_count": 98,
   "id": "16c14c9f",
   "metadata": {},
   "outputs": [
    {
     "data": {
      "text/plain": [
       "55"
      ]
     },
     "execution_count": 98,
     "metadata": {},
     "output_type": "execute_result"
    }
   ],
   "source": [
    "linear_reg_accuracy_test = round(lr_model.score(x_test,y_test)*100)\n",
    "linear_reg_accuracy_test"
   ]
  },
  {
   "cell_type": "markdown",
   "id": "6255c236",
   "metadata": {},
   "source": [
    "# Decision Tree "
   ]
  },
  {
   "cell_type": "code",
   "execution_count": 99,
   "id": "905fa208",
   "metadata": {},
   "outputs": [],
   "source": [
    "from sklearn.metrics import mean_squared_error\n",
    "from sklearn.model_selection import cross_val_score\n"
   ]
  },
  {
   "cell_type": "code",
   "execution_count": 100,
   "id": "58ed26b6",
   "metadata": {},
   "outputs": [],
   "source": [
    "from sklearn.model_selection import train_test_split\n",
    "x_train,x_test,y_train,y_test=train_test_split(x,y,test_size=0.40,random_state=15)"
   ]
  },
  {
   "cell_type": "code",
   "execution_count": 101,
   "id": "420a48c0",
   "metadata": {},
   "outputs": [],
   "source": [
    "from sklearn.tree import DecisionTreeRegressor"
   ]
  },
  {
   "cell_type": "code",
   "execution_count": 102,
   "id": "3c77dd8c",
   "metadata": {},
   "outputs": [
    {
     "data": {
      "text/plain": [
       "DecisionTreeRegressor(max_depth=50, random_state=15)"
      ]
     },
     "execution_count": 102,
     "metadata": {},
     "output_type": "execute_result"
    }
   ],
   "source": [
    "decision_tree=DecisionTreeRegressor(max_depth=50,random_state=15,criterion='mse')\n",
    "decision_tree"
   ]
  },
  {
   "cell_type": "code",
   "execution_count": 103,
   "id": "28499176",
   "metadata": {},
   "outputs": [
    {
     "data": {
      "text/plain": [
       "DecisionTreeRegressor(max_depth=50, random_state=15)"
      ]
     },
     "execution_count": 103,
     "metadata": {},
     "output_type": "execute_result"
    }
   ],
   "source": [
    "decision_tree.fit(x_train,y_train)"
   ]
  },
  {
   "cell_type": "code",
   "execution_count": 104,
   "id": "45b657f1",
   "metadata": {},
   "outputs": [
    {
     "data": {
      "text/plain": [
       "array([13.75089815, 43.21537921, 63.5825259 , ..., 12.95305369,\n",
       "       59.86096892, 10.97769557])"
      ]
     },
     "execution_count": 104,
     "metadata": {},
     "output_type": "execute_result"
    }
   ],
   "source": [
    "pred=decision_tree.predict(x_test)\n",
    "pred"
   ]
  },
  {
   "cell_type": "code",
   "execution_count": 105,
   "id": "3fd4d34e",
   "metadata": {
    "scrolled": true
   },
   "outputs": [
    {
     "name": "stdout",
     "output_type": "stream",
     "text": [
      "[13.75089815 43.21537921 63.5825259  48.95794113 60.25452182]\n",
      "2586    11.824466\n",
      "4849    57.018430\n",
      "7455    54.094279\n",
      "3112    29.779953\n",
      "2618    45.846817\n",
      "Name: Item_Outlet_Sales, dtype: float64\n"
     ]
    }
   ],
   "source": [
    "print (pred [0:5])\n",
    "print (y_test [0:5])"
   ]
  },
  {
   "cell_type": "code",
   "execution_count": 106,
   "id": "494d8cab",
   "metadata": {},
   "outputs": [
    {
     "name": "stdout",
     "output_type": "stream",
     "text": [
      "DecisionTrees's Accuracy:  201.95689458315957\n"
     ]
    }
   ],
   "source": [
    "\n",
    "print(\"DecisionTrees's Accuracy: \", mean_squared_error(y_test,pred))"
   ]
  },
  {
   "cell_type": "code",
   "execution_count": 107,
   "id": "461a7668",
   "metadata": {},
   "outputs": [
    {
     "data": {
      "text/plain": [
       "100"
      ]
     },
     "execution_count": 107,
     "metadata": {},
     "output_type": "execute_result"
    }
   ],
   "source": [
    "tree_accuracy_train = round(decision_tree.score(x_train,y_train)*100)\n",
    "tree_accuracy_train"
   ]
  },
  {
   "cell_type": "code",
   "execution_count": 108,
   "id": "9ae1e389",
   "metadata": {},
   "outputs": [
    {
     "data": {
      "text/plain": [
       "29"
      ]
     },
     "execution_count": 108,
     "metadata": {},
     "output_type": "execute_result"
    }
   ],
   "source": [
    "tree_accuracy_test = round(decision_tree.score(x_test,y_test)*100)\n",
    "tree_accuracy_test"
   ]
  },
  {
   "cell_type": "markdown",
   "id": "4ad16dad",
   "metadata": {},
   "source": [
    "# Graph betweeen prediction & Mean Squared Error"
   ]
  },
  {
   "cell_type": "code",
   "execution_count": 109,
   "id": "578ea09c",
   "metadata": {},
   "outputs": [
    {
     "data": {
      "image/png": "[encoded data removed]",
      "text/plain": [
       "<Figure size 432x288 with 1 Axes>"
      ]
     },
     "metadata": {
      "needs_background": "light"
     },
     "output_type": "display_data"
    }
   ],
   "source": [
    "x=pred[0:5]\n",
    "error=y_test - pred\n",
    "y=error[0:5]\n",
    "#plt.plot(x,y)\n",
    "plt.xlabel('Predicted Value')\n",
    "plt.ylabel('Mean Squared Error')\n",
    "plt.plot(x,y)\n",
    "for i,j in zip(x,y):\n",
    "    plt.text(i,j,\"({},{})\".format(i,j))\n",
    "plt.show()"
   ]
  },
  {
   "cell_type": "markdown",
   "id": "da393cfd",
   "metadata": {},
   "source": [
    "# Random Forest Regressor"
   ]
  },
  {
   "cell_type": "code",
   "execution_count": 110,
   "id": "9173c064",
   "metadata": {},
   "outputs": [],
   "source": [
    "from sklearn.ensemble import RandomForestRegressor"
   ]
  },
  {
   "cell_type": "code",
   "execution_count": 111,
   "id": "05367142",
   "metadata": {},
   "outputs": [
    {
     "data": {
      "text/plain": [
       "RandomForestRegressor(max_depth=6, min_samples_leaf=100, n_estimators=400,\n",
       "                      random_state=10)"
      ]
     },
     "execution_count": 111,
     "metadata": {},
     "output_type": "execute_result"
    }
   ],
   "source": [
    "random_forest=RandomForestRegressor(n_estimators=400,max_depth=6,min_samples_leaf=100,random_state=10)\n",
    "random_forest"
   ]
  },
  {
   "cell_type": "code",
   "execution_count": 112,
   "id": "afd09f80",
   "metadata": {},
   "outputs": [
    {
     "data": {
      "text/plain": [
       "RandomForestRegressor(max_depth=6, min_samples_leaf=100, n_estimators=400,\n",
       "                      random_state=10)"
      ]
     },
     "execution_count": 112,
     "metadata": {},
     "output_type": "execute_result"
    }
   ],
   "source": [
    "random_forest.fit(x_train,y_train)\n"
   ]
  },
  {
   "cell_type": "code",
   "execution_count": 113,
   "id": "e1a6f683",
   "metadata": {},
   "outputs": [
    {
     "data": {
      "text/plain": [
       "array([12.07446142, 52.00656541, 55.69931702, ..., 12.07446142,\n",
       "       48.64791026, 15.56989136])"
      ]
     },
     "execution_count": 113,
     "metadata": {},
     "output_type": "execute_result"
    }
   ],
   "source": [
    "rf_pred=random_forest.predict(x_test)\n",
    "rf_pred"
   ]
  },
  {
   "cell_type": "code",
   "execution_count": 114,
   "id": "f65d678f",
   "metadata": {
    "scrolled": false
   },
   "outputs": [
    {
     "name": "stdout",
     "output_type": "stream",
     "text": [
      "[12.07446142 52.00656541 55.69931702 38.78235228 53.99251945 17.08227783\n",
      " 12.07446142 58.87525974 29.92120867 61.69941739]\n",
      "2586    11.824466\n",
      "4849    57.018430\n",
      "7455    54.094279\n",
      "3112    29.779953\n",
      "2618    45.846817\n",
      "1268    12.157615\n",
      "6644     7.113424\n",
      "639     75.739902\n",
      "7954    37.204814\n",
      "2838    77.615452\n",
      "Name: Item_Outlet_Sales, dtype: float64\n"
     ]
    }
   ],
   "source": [
    "print(rf_pred[0:10])\n",
    "print(y_test[0:10])"
   ]
  },
  {
   "cell_type": "code",
   "execution_count": 115,
   "id": "675423fc",
   "metadata": {},
   "outputs": [
    {
     "name": "stdout",
     "output_type": "stream",
     "text": [
      "Random Forest Accuracy:  100.19565127807621\n"
     ]
    }
   ],
   "source": [
    "MSE=mean_squared_error(y_test,rf_pred)\n",
    "print(\"Random Forest Accuracy: \", MSE)"
   ]
  },
  {
   "cell_type": "code",
   "execution_count": 116,
   "id": "ca4df07a",
   "metadata": {},
   "outputs": [
    {
     "data": {
      "text/plain": [
       "67"
      ]
     },
     "execution_count": 116,
     "metadata": {},
     "output_type": "execute_result"
    }
   ],
   "source": [
    "rf_accuracy_train = round(random_forest.score(x_train,y_train)*100)\n",
    "rf_accuracy_train"
   ]
  },
  {
   "cell_type": "code",
   "execution_count": 117,
   "id": "621bc0ff",
   "metadata": {
    "scrolled": true
   },
   "outputs": [
    {
     "data": {
      "text/plain": [
       "65"
      ]
     },
     "execution_count": 117,
     "metadata": {},
     "output_type": "execute_result"
    }
   ],
   "source": [
    "rf_accuracy_test = round(random_forest.score(x_test,y_test)*100)\n",
    "rf_accuracy_test"
   ]
  },
  {
   "cell_type": "markdown",
   "id": "b54c8eeb",
   "metadata": {},
   "source": [
    "# Graph betweeen prediction & Mean Squared Error"
   ]
  },
  {
   "cell_type": "code",
   "execution_count": 118,
   "id": "d6ac827d",
   "metadata": {},
   "outputs": [
    {
     "data": {
      "image/png": "[encoded data removed]",
      "text/plain": [
       "<Figure size 432x288 with 1 Axes>"
      ]
     },
     "metadata": {
      "needs_background": "light"
     },
     "output_type": "display_data"
    }
   ],
   "source": [
    "x=rf_pred[0:5]\n",
    "error=y_test - rf_pred\n",
    "y=error[0:5]\n",
    "#plt.plot(x,y)\n",
    "plt.xlabel('Predicted Value')\n",
    "plt.ylabel('Mean Squared Error')\n",
    "plt.plot(x,y)\n",
    "for i,j in zip(x,y):\n",
    "    plt.text(i,j,\"({},{})\".format(i,j))\n",
    "plt.show()\n",
    "\n"
   ]
  },
  {
   "cell_type": "markdown",
   "id": "76a9195a",
   "metadata": {},
   "source": [
    "# Boosting Algorithm"
   ]
  },
  {
   "cell_type": "code",
   "execution_count": 119,
   "id": "dc7aee8c",
   "metadata": {},
   "outputs": [],
   "source": [
    "from xgboost import XGBRegressor"
   ]
  },
  {
   "cell_type": "code",
   "execution_count": 120,
   "id": "acadf90e",
   "metadata": {},
   "outputs": [
    {
     "data": {
      "text/plain": [
       "XGBRegressor(base_score=0.5, booster='gbtree', callbacks=None,\n",
       "             colsample_bylevel=1, colsample_bynode=1, colsample_bytree=1,\n",
       "             early_stopping_rounds=None, enable_categorical=False,\n",
       "             eval_metric=None, gamma=0, gpu_id=-1, grow_policy='depthwise',\n",
       "             importance_type=None, interaction_constraints='',\n",
       "             learning_rate=0.05, max_bin=256, max_cat_to_onehot=4,\n",
       "             max_delta_step=0, max_depth=50, max_leaves=0, min_child_weight=1,\n",
       "             missing=nan, monotone_constraints='()', n_estimators=100, n_jobs=0,\n",
       "             num_parallel_tree=1, predictor='auto', random_state=0, reg_alpha=0,\n",
       "             reg_lambda=1, ...)"
      ]
     },
     "execution_count": 120,
     "metadata": {},
     "output_type": "execute_result"
    }
   ],
   "source": [
    "xgb_reg=XGBRegressor(n_estimators=100,max_depth=50,learning_rate=0.05)\n",
    "xgb_reg.fit(x_train,y_train)\n"
   ]
  },
  {
   "cell_type": "code",
   "execution_count": 121,
   "id": "829dd60b",
   "metadata": {},
   "outputs": [
    {
     "data": {
      "text/plain": [
       "array([ 9.899748, 48.640945, 58.700405, ..., 15.422053, 49.897125,\n",
       "       17.581985], dtype=float32)"
      ]
     },
     "execution_count": 121,
     "metadata": {},
     "output_type": "execute_result"
    }
   ],
   "source": [
    "pred=xgb_reg.predict(x_test)\n",
    "pred"
   ]
  },
  {
   "cell_type": "code",
   "execution_count": 122,
   "id": "18c30389",
   "metadata": {},
   "outputs": [
    {
     "name": "stdout",
     "output_type": "stream",
     "text": [
      "[ 9.899748 48.640945 58.700405 42.747585 59.039013 17.89542   9.041263\n",
      " 53.100376 28.593185 72.39008 ]\n",
      "2586    11.824466\n",
      "4849    57.018430\n",
      "7455    54.094279\n",
      "3112    29.779953\n",
      "2618    45.846817\n",
      "1268    12.157615\n",
      "6644     7.113424\n",
      "639     75.739902\n",
      "7954    37.204814\n",
      "2838    77.615452\n",
      "Name: Item_Outlet_Sales, dtype: float64\n"
     ]
    }
   ],
   "source": [
    "print(pred[0:10])\n",
    "print(y_test[0:10])"
   ]
  },
  {
   "cell_type": "code",
   "execution_count": 123,
   "id": "6e02c774",
   "metadata": {},
   "outputs": [
    {
     "name": "stdout",
     "output_type": "stream",
     "text": [
      "Accuracy of XGB boosting :  122.64688601510501\n"
     ]
    }
   ],
   "source": [
    "MSE=mean_squared_error(y_test,pred)\n",
    "print(\"Accuracy of XGB boosting : \", MSE)"
   ]
  },
  {
   "cell_type": "code",
   "execution_count": 124,
   "id": "c13935b5",
   "metadata": {},
   "outputs": [
    {
     "data": {
      "text/plain": [
       "67"
      ]
     },
     "execution_count": 124,
     "metadata": {},
     "output_type": "execute_result"
    }
   ],
   "source": [
    "xgb_accuracy_train = round(random_forest.score(x_train,y_train)*100)\n",
    "xgb_accuracy_train"
   ]
  },
  {
   "cell_type": "code",
   "execution_count": null,
   "id": "b8c55254",
   "metadata": {},
   "outputs": [],
   "source": []
  }
 ],
 "metadata": {
  "kernelspec": {
   "display_name": "Python 3",
   "language": "python",
   "name": "python3"
  },
  "language_info": {
   "codemirror_mode": {
    "name": "ipython",
    "version": 3
   },
   "file_extension": ".py",
   "mimetype": "text/x-python",
   "name": "python",
   "nbconvert_exporter": "python",
   "pygments_lexer": "ipython3",
   "version": "3.8.8"
  }
 },
 "nbformat": 4,
 "nbformat_minor": 5
}
