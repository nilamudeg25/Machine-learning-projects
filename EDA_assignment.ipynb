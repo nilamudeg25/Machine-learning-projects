{
 "cells": [
  {
   "cell_type": "code",
   "execution_count": 28,
   "id": "58daddff",
   "metadata": {},
   "outputs": [],
   "source": [
    "import pandas as pd"
   ]
  },
  {
   "cell_type": "code",
   "execution_count": 29,
   "id": "32550d1f",
   "metadata": {},
   "outputs": [],
   "source": [
    "import numpy as np\n",
    "import matplotlib.pyplot as plt\n"
   ]
  },
  {
   "cell_type": "code",
   "execution_count": 30,
   "id": "d05eed41",
   "metadata": {},
   "outputs": [
    {
     "data": {
      "text/html": [
       "<div>\n",
       "<style scoped>\n",
       "    .dataframe tbody tr th:only-of-type {\n",
       "        vertical-align: middle;\n",
       "    }\n",
       "\n",
       "    .dataframe tbody tr th {\n",
       "        vertical-align: top;\n",
       "    }\n",
       "\n",
       "    .dataframe thead th {\n",
       "        text-align: right;\n",
       "    }\n",
       "</style>\n",
       "<table border=\"1\" class=\"dataframe\">\n",
       "  <thead>\n",
       "    <tr style=\"text-align: right;\">\n",
       "      <th></th>\n",
       "      <th>symboling</th>\n",
       "      <th>normalized-losses</th>\n",
       "      <th>make</th>\n",
       "      <th>fuel-type</th>\n",
       "      <th>body-style</th>\n",
       "      <th>drive-wheels</th>\n",
       "      <th>engine-location</th>\n",
       "      <th>width</th>\n",
       "      <th>height</th>\n",
       "      <th>engine-type</th>\n",
       "      <th>engine-size</th>\n",
       "      <th>horsepower</th>\n",
       "      <th>city-mpg</th>\n",
       "      <th>highway-mpg</th>\n",
       "      <th>price</th>\n",
       "    </tr>\n",
       "  </thead>\n",
       "  <tbody>\n",
       "    <tr>\n",
       "      <th>0</th>\n",
       "      <td>3</td>\n",
       "      <td>?</td>\n",
       "      <td>alfa-romero</td>\n",
       "      <td>gas</td>\n",
       "      <td>convertible</td>\n",
       "      <td>rwd</td>\n",
       "      <td>front</td>\n",
       "      <td>64.1</td>\n",
       "      <td>48.8</td>\n",
       "      <td>dohc</td>\n",
       "      <td>130</td>\n",
       "      <td>111</td>\n",
       "      <td>21</td>\n",
       "      <td>27</td>\n",
       "      <td>13495</td>\n",
       "    </tr>\n",
       "    <tr>\n",
       "      <th>1</th>\n",
       "      <td>3</td>\n",
       "      <td>?</td>\n",
       "      <td>alfa-romero</td>\n",
       "      <td>gas</td>\n",
       "      <td>convertible</td>\n",
       "      <td>rwd</td>\n",
       "      <td>front</td>\n",
       "      <td>64.1</td>\n",
       "      <td>48.8</td>\n",
       "      <td>dohc</td>\n",
       "      <td>130</td>\n",
       "      <td>111</td>\n",
       "      <td>21</td>\n",
       "      <td>27</td>\n",
       "      <td>16500</td>\n",
       "    </tr>\n",
       "    <tr>\n",
       "      <th>2</th>\n",
       "      <td>1</td>\n",
       "      <td>?</td>\n",
       "      <td>alfa-romero</td>\n",
       "      <td>gas</td>\n",
       "      <td>hatchback</td>\n",
       "      <td>rwd</td>\n",
       "      <td>front</td>\n",
       "      <td>65.5</td>\n",
       "      <td>52.4</td>\n",
       "      <td>ohcv</td>\n",
       "      <td>152</td>\n",
       "      <td>154</td>\n",
       "      <td>19</td>\n",
       "      <td>26</td>\n",
       "      <td>16500</td>\n",
       "    </tr>\n",
       "    <tr>\n",
       "      <th>3</th>\n",
       "      <td>2</td>\n",
       "      <td>164</td>\n",
       "      <td>audi</td>\n",
       "      <td>gas</td>\n",
       "      <td>sedan</td>\n",
       "      <td>fwd</td>\n",
       "      <td>front</td>\n",
       "      <td>66.2</td>\n",
       "      <td>54.3</td>\n",
       "      <td>ohc</td>\n",
       "      <td>109</td>\n",
       "      <td>102</td>\n",
       "      <td>24</td>\n",
       "      <td>30</td>\n",
       "      <td>13950</td>\n",
       "    </tr>\n",
       "    <tr>\n",
       "      <th>4</th>\n",
       "      <td>2</td>\n",
       "      <td>164</td>\n",
       "      <td>audi</td>\n",
       "      <td>gas</td>\n",
       "      <td>sedan</td>\n",
       "      <td>4wd</td>\n",
       "      <td>front</td>\n",
       "      <td>66.4</td>\n",
       "      <td>54.3</td>\n",
       "      <td>ohc</td>\n",
       "      <td>136</td>\n",
       "      <td>115</td>\n",
       "      <td>18</td>\n",
       "      <td>22</td>\n",
       "      <td>17450</td>\n",
       "    </tr>\n",
       "    <tr>\n",
       "      <th>5</th>\n",
       "      <td>2</td>\n",
       "      <td>?</td>\n",
       "      <td>audi</td>\n",
       "      <td>gas</td>\n",
       "      <td>sedan</td>\n",
       "      <td>fwd</td>\n",
       "      <td>front</td>\n",
       "      <td>66.3</td>\n",
       "      <td>53.1</td>\n",
       "      <td>ohc</td>\n",
       "      <td>136</td>\n",
       "      <td>110</td>\n",
       "      <td>19</td>\n",
       "      <td>25</td>\n",
       "      <td>15250</td>\n",
       "    </tr>\n",
       "    <tr>\n",
       "      <th>6</th>\n",
       "      <td>1</td>\n",
       "      <td>158</td>\n",
       "      <td>audi</td>\n",
       "      <td>gas</td>\n",
       "      <td>sedan</td>\n",
       "      <td>fwd</td>\n",
       "      <td>front</td>\n",
       "      <td>71.4</td>\n",
       "      <td>55.7</td>\n",
       "      <td>ohc</td>\n",
       "      <td>136</td>\n",
       "      <td>110</td>\n",
       "      <td>19</td>\n",
       "      <td>25</td>\n",
       "      <td>17710</td>\n",
       "    </tr>\n",
       "    <tr>\n",
       "      <th>7</th>\n",
       "      <td>1</td>\n",
       "      <td>?</td>\n",
       "      <td>audi</td>\n",
       "      <td>gas</td>\n",
       "      <td>wagon</td>\n",
       "      <td>fwd</td>\n",
       "      <td>front</td>\n",
       "      <td>71.4</td>\n",
       "      <td>55.7</td>\n",
       "      <td>ohc</td>\n",
       "      <td>136</td>\n",
       "      <td>110</td>\n",
       "      <td>19</td>\n",
       "      <td>25</td>\n",
       "      <td>18920</td>\n",
       "    </tr>\n",
       "    <tr>\n",
       "      <th>8</th>\n",
       "      <td>1</td>\n",
       "      <td>158</td>\n",
       "      <td>audi</td>\n",
       "      <td>gas</td>\n",
       "      <td>sedan</td>\n",
       "      <td>fwd</td>\n",
       "      <td>front</td>\n",
       "      <td>71.4</td>\n",
       "      <td>55.9</td>\n",
       "      <td>ohc</td>\n",
       "      <td>131</td>\n",
       "      <td>140</td>\n",
       "      <td>17</td>\n",
       "      <td>20</td>\n",
       "      <td>23875</td>\n",
       "    </tr>\n",
       "    <tr>\n",
       "      <th>9</th>\n",
       "      <td>0</td>\n",
       "      <td>?</td>\n",
       "      <td>audi</td>\n",
       "      <td>gas</td>\n",
       "      <td>hatchback</td>\n",
       "      <td>4wd</td>\n",
       "      <td>front</td>\n",
       "      <td>67.9</td>\n",
       "      <td>52.0</td>\n",
       "      <td>ohc</td>\n",
       "      <td>131</td>\n",
       "      <td>160</td>\n",
       "      <td>16</td>\n",
       "      <td>22</td>\n",
       "      <td>12000</td>\n",
       "    </tr>\n",
       "  </tbody>\n",
       "</table>\n",
       "</div>"
      ],
      "text/plain": [
       "   symboling normalized-losses         make fuel-type   body-style  \\\n",
       "0          3                 ?  alfa-romero       gas  convertible   \n",
       "1          3                 ?  alfa-romero       gas  convertible   \n",
       "2          1                 ?  alfa-romero       gas    hatchback   \n",
       "3          2               164         audi       gas        sedan   \n",
       "4          2               164         audi       gas        sedan   \n",
       "5          2                 ?         audi       gas        sedan   \n",
       "6          1               158         audi       gas        sedan   \n",
       "7          1                 ?         audi       gas        wagon   \n",
       "8          1               158         audi       gas        sedan   \n",
       "9          0                 ?         audi       gas    hatchback   \n",
       "\n",
       "  drive-wheels engine-location  width  height engine-type  engine-size  \\\n",
       "0          rwd           front   64.1    48.8        dohc          130   \n",
       "1          rwd           front   64.1    48.8        dohc          130   \n",
       "2          rwd           front   65.5    52.4        ohcv          152   \n",
       "3          fwd           front   66.2    54.3         ohc          109   \n",
       "4          4wd           front   66.4    54.3         ohc          136   \n",
       "5          fwd           front   66.3    53.1         ohc          136   \n",
       "6          fwd           front   71.4    55.7         ohc          136   \n",
       "7          fwd           front   71.4    55.7         ohc          136   \n",
       "8          fwd           front   71.4    55.9         ohc          131   \n",
       "9          4wd           front   67.9    52.0         ohc          131   \n",
       "\n",
       "  horsepower  city-mpg  highway-mpg  price  \n",
       "0        111        21           27  13495  \n",
       "1        111        21           27  16500  \n",
       "2        154        19           26  16500  \n",
       "3        102        24           30  13950  \n",
       "4        115        18           22  17450  \n",
       "5        110        19           25  15250  \n",
       "6        110        19           25  17710  \n",
       "7        110        19           25  18920  \n",
       "8        140        17           20  23875  \n",
       "9        160        16           22  12000  "
      ]
     },
     "execution_count": 30,
     "metadata": {},
     "output_type": "execute_result"
    }
   ],
   "source": [
    "df1=pd.read_csv('Cars.csv')\n",
    "df1.head(10)"
   ]
  },
  {
   "cell_type": "code",
   "execution_count": 31,
   "id": "68216111",
   "metadata": {},
   "outputs": [
    {
     "name": "stdout",
     "output_type": "stream",
     "text": [
      "<class 'pandas.core.frame.DataFrame'>\n",
      "RangeIndex: 205 entries, 0 to 204\n",
      "Data columns (total 15 columns):\n",
      " #   Column             Non-Null Count  Dtype  \n",
      "---  ------             --------------  -----  \n",
      " 0   symboling          205 non-null    int64  \n",
      " 1   normalized-losses  205 non-null    object \n",
      " 2   make               205 non-null    object \n",
      " 3   fuel-type          205 non-null    object \n",
      " 4   body-style         205 non-null    object \n",
      " 5   drive-wheels       205 non-null    object \n",
      " 6   engine-location    205 non-null    object \n",
      " 7   width              205 non-null    float64\n",
      " 8   height             205 non-null    float64\n",
      " 9   engine-type        205 non-null    object \n",
      " 10  engine-size        205 non-null    int64  \n",
      " 11  horsepower         205 non-null    object \n",
      " 12  city-mpg           205 non-null    int64  \n",
      " 13  highway-mpg        205 non-null    int64  \n",
      " 14  price              205 non-null    int64  \n",
      "dtypes: float64(2), int64(5), object(8)\n",
      "memory usage: 24.1+ KB\n"
     ]
    }
   ],
   "source": [
    "df1.info()"
   ]
  },
  {
   "cell_type": "code",
   "execution_count": 32,
   "id": "f5bc0bc2",
   "metadata": {},
   "outputs": [
    {
     "data": {
      "text/html": [
       "<div>\n",
       "<style scoped>\n",
       "    .dataframe tbody tr th:only-of-type {\n",
       "        vertical-align: middle;\n",
       "    }\n",
       "\n",
       "    .dataframe tbody tr th {\n",
       "        vertical-align: top;\n",
       "    }\n",
       "\n",
       "    .dataframe thead th {\n",
       "        text-align: right;\n",
       "    }\n",
       "</style>\n",
       "<table border=\"1\" class=\"dataframe\">\n",
       "  <thead>\n",
       "    <tr style=\"text-align: right;\">\n",
       "      <th></th>\n",
       "      <th>symboling</th>\n",
       "      <th>width</th>\n",
       "      <th>height</th>\n",
       "      <th>engine-size</th>\n",
       "      <th>city-mpg</th>\n",
       "      <th>highway-mpg</th>\n",
       "      <th>price</th>\n",
       "    </tr>\n",
       "  </thead>\n",
       "  <tbody>\n",
       "    <tr>\n",
       "      <th>count</th>\n",
       "      <td>205.000000</td>\n",
       "      <td>205.000000</td>\n",
       "      <td>205.000000</td>\n",
       "      <td>205.000000</td>\n",
       "      <td>205.000000</td>\n",
       "      <td>205.000000</td>\n",
       "      <td>205.000000</td>\n",
       "    </tr>\n",
       "    <tr>\n",
       "      <th>mean</th>\n",
       "      <td>0.834146</td>\n",
       "      <td>65.907805</td>\n",
       "      <td>53.724878</td>\n",
       "      <td>126.907317</td>\n",
       "      <td>25.219512</td>\n",
       "      <td>30.751220</td>\n",
       "      <td>13218.487805</td>\n",
       "    </tr>\n",
       "    <tr>\n",
       "      <th>std</th>\n",
       "      <td>1.245307</td>\n",
       "      <td>2.145204</td>\n",
       "      <td>2.443522</td>\n",
       "      <td>41.642693</td>\n",
       "      <td>6.542142</td>\n",
       "      <td>6.886443</td>\n",
       "      <td>7909.986606</td>\n",
       "    </tr>\n",
       "    <tr>\n",
       "      <th>min</th>\n",
       "      <td>-2.000000</td>\n",
       "      <td>60.300000</td>\n",
       "      <td>47.800000</td>\n",
       "      <td>61.000000</td>\n",
       "      <td>13.000000</td>\n",
       "      <td>16.000000</td>\n",
       "      <td>5118.000000</td>\n",
       "    </tr>\n",
       "    <tr>\n",
       "      <th>25%</th>\n",
       "      <td>0.000000</td>\n",
       "      <td>64.100000</td>\n",
       "      <td>52.000000</td>\n",
       "      <td>97.000000</td>\n",
       "      <td>19.000000</td>\n",
       "      <td>25.000000</td>\n",
       "      <td>7788.000000</td>\n",
       "    </tr>\n",
       "    <tr>\n",
       "      <th>50%</th>\n",
       "      <td>1.000000</td>\n",
       "      <td>65.500000</td>\n",
       "      <td>54.100000</td>\n",
       "      <td>120.000000</td>\n",
       "      <td>24.000000</td>\n",
       "      <td>30.000000</td>\n",
       "      <td>10345.000000</td>\n",
       "    </tr>\n",
       "    <tr>\n",
       "      <th>75%</th>\n",
       "      <td>2.000000</td>\n",
       "      <td>66.900000</td>\n",
       "      <td>55.500000</td>\n",
       "      <td>141.000000</td>\n",
       "      <td>30.000000</td>\n",
       "      <td>34.000000</td>\n",
       "      <td>16500.000000</td>\n",
       "    </tr>\n",
       "    <tr>\n",
       "      <th>max</th>\n",
       "      <td>3.000000</td>\n",
       "      <td>72.300000</td>\n",
       "      <td>59.800000</td>\n",
       "      <td>326.000000</td>\n",
       "      <td>49.000000</td>\n",
       "      <td>54.000000</td>\n",
       "      <td>45400.000000</td>\n",
       "    </tr>\n",
       "  </tbody>\n",
       "</table>\n",
       "</div>"
      ],
      "text/plain": [
       "        symboling       width      height  engine-size    city-mpg  \\\n",
       "count  205.000000  205.000000  205.000000   205.000000  205.000000   \n",
       "mean     0.834146   65.907805   53.724878   126.907317   25.219512   \n",
       "std      1.245307    2.145204    2.443522    41.642693    6.542142   \n",
       "min     -2.000000   60.300000   47.800000    61.000000   13.000000   \n",
       "25%      0.000000   64.100000   52.000000    97.000000   19.000000   \n",
       "50%      1.000000   65.500000   54.100000   120.000000   24.000000   \n",
       "75%      2.000000   66.900000   55.500000   141.000000   30.000000   \n",
       "max      3.000000   72.300000   59.800000   326.000000   49.000000   \n",
       "\n",
       "       highway-mpg         price  \n",
       "count   205.000000    205.000000  \n",
       "mean     30.751220  13218.487805  \n",
       "std       6.886443   7909.986606  \n",
       "min      16.000000   5118.000000  \n",
       "25%      25.000000   7788.000000  \n",
       "50%      30.000000  10345.000000  \n",
       "75%      34.000000  16500.000000  \n",
       "max      54.000000  45400.000000  "
      ]
     },
     "execution_count": 32,
     "metadata": {},
     "output_type": "execute_result"
    }
   ],
   "source": [
    "df1.describe()"
   ]
  },
  {
   "cell_type": "code",
   "execution_count": 33,
   "id": "d0ffdb08",
   "metadata": {},
   "outputs": [
    {
     "data": {
      "text/plain": [
       "1"
      ]
     },
     "execution_count": 33,
     "metadata": {},
     "output_type": "execute_result"
    }
   ],
   "source": [
    "df1.duplicated().sum()\n"
   ]
  },
  {
   "cell_type": "code",
   "execution_count": 34,
   "id": "541f5697",
   "metadata": {},
   "outputs": [
    {
     "data": {
      "text/html": [
       "<div>\n",
       "<style scoped>\n",
       "    .dataframe tbody tr th:only-of-type {\n",
       "        vertical-align: middle;\n",
       "    }\n",
       "\n",
       "    .dataframe tbody tr th {\n",
       "        vertical-align: top;\n",
       "    }\n",
       "\n",
       "    .dataframe thead th {\n",
       "        text-align: right;\n",
       "    }\n",
       "</style>\n",
       "<table border=\"1\" class=\"dataframe\">\n",
       "  <thead>\n",
       "    <tr style=\"text-align: right;\">\n",
       "      <th></th>\n",
       "      <th>symboling</th>\n",
       "      <th>normalized-losses</th>\n",
       "      <th>make</th>\n",
       "      <th>fuel-type</th>\n",
       "      <th>body-style</th>\n",
       "      <th>drive-wheels</th>\n",
       "      <th>engine-location</th>\n",
       "      <th>width</th>\n",
       "      <th>height</th>\n",
       "      <th>engine-type</th>\n",
       "      <th>engine-size</th>\n",
       "      <th>horsepower</th>\n",
       "      <th>city-mpg</th>\n",
       "      <th>highway-mpg</th>\n",
       "      <th>price</th>\n",
       "    </tr>\n",
       "  </thead>\n",
       "  <tbody>\n",
       "    <tr>\n",
       "      <th>26</th>\n",
       "      <td>1</td>\n",
       "      <td>148</td>\n",
       "      <td>dodge</td>\n",
       "      <td>gas</td>\n",
       "      <td>sedan</td>\n",
       "      <td>fwd</td>\n",
       "      <td>front</td>\n",
       "      <td>63.8</td>\n",
       "      <td>50.6</td>\n",
       "      <td>ohc</td>\n",
       "      <td>90</td>\n",
       "      <td>68</td>\n",
       "      <td>31</td>\n",
       "      <td>38</td>\n",
       "      <td>6229</td>\n",
       "    </tr>\n",
       "  </tbody>\n",
       "</table>\n",
       "</div>"
      ],
      "text/plain": [
       "    symboling normalized-losses   make fuel-type body-style drive-wheels  \\\n",
       "26          1               148  dodge       gas      sedan          fwd   \n",
       "\n",
       "   engine-location  width  height engine-type  engine-size horsepower  \\\n",
       "26           front   63.8    50.6         ohc           90         68   \n",
       "\n",
       "    city-mpg  highway-mpg  price  \n",
       "26        31           38   6229  "
      ]
     },
     "execution_count": 34,
     "metadata": {},
     "output_type": "execute_result"
    }
   ],
   "source": [
    "df1.loc[df1.duplicated(),:]"
   ]
  },
  {
   "cell_type": "code",
   "execution_count": 35,
   "id": "862e78af",
   "metadata": {},
   "outputs": [],
   "source": [
    "df1.drop(26,inplace=True)"
   ]
  },
  {
   "cell_type": "markdown",
   "id": "e5d356fe",
   "metadata": {},
   "source": [
    "## HANDLING MISSING VALUES"
   ]
  },
  {
   "cell_type": "code",
   "execution_count": 36,
   "id": "bc0f0396",
   "metadata": {},
   "outputs": [],
   "source": [
    "df1.replace('?',np.NaN,inplace=True)"
   ]
  },
  {
   "cell_type": "code",
   "execution_count": 37,
   "id": "1706e4f1",
   "metadata": {},
   "outputs": [
    {
     "data": {
      "text/html": [
       "<div>\n",
       "<style scoped>\n",
       "    .dataframe tbody tr th:only-of-type {\n",
       "        vertical-align: middle;\n",
       "    }\n",
       "\n",
       "    .dataframe tbody tr th {\n",
       "        vertical-align: top;\n",
       "    }\n",
       "\n",
       "    .dataframe thead th {\n",
       "        text-align: right;\n",
       "    }\n",
       "</style>\n",
       "<table border=\"1\" class=\"dataframe\">\n",
       "  <thead>\n",
       "    <tr style=\"text-align: right;\">\n",
       "      <th></th>\n",
       "      <th>symboling</th>\n",
       "      <th>normalized-losses</th>\n",
       "      <th>make</th>\n",
       "      <th>fuel-type</th>\n",
       "      <th>body-style</th>\n",
       "      <th>drive-wheels</th>\n",
       "      <th>engine-location</th>\n",
       "      <th>width</th>\n",
       "      <th>height</th>\n",
       "      <th>engine-type</th>\n",
       "      <th>engine-size</th>\n",
       "      <th>horsepower</th>\n",
       "      <th>city-mpg</th>\n",
       "      <th>highway-mpg</th>\n",
       "      <th>price</th>\n",
       "    </tr>\n",
       "  </thead>\n",
       "  <tbody>\n",
       "    <tr>\n",
       "      <th>0</th>\n",
       "      <td>3</td>\n",
       "      <td>NaN</td>\n",
       "      <td>alfa-romero</td>\n",
       "      <td>gas</td>\n",
       "      <td>convertible</td>\n",
       "      <td>rwd</td>\n",
       "      <td>front</td>\n",
       "      <td>64.1</td>\n",
       "      <td>48.8</td>\n",
       "      <td>dohc</td>\n",
       "      <td>130</td>\n",
       "      <td>111</td>\n",
       "      <td>21</td>\n",
       "      <td>27</td>\n",
       "      <td>13495</td>\n",
       "    </tr>\n",
       "    <tr>\n",
       "      <th>1</th>\n",
       "      <td>3</td>\n",
       "      <td>NaN</td>\n",
       "      <td>alfa-romero</td>\n",
       "      <td>gas</td>\n",
       "      <td>convertible</td>\n",
       "      <td>rwd</td>\n",
       "      <td>front</td>\n",
       "      <td>64.1</td>\n",
       "      <td>48.8</td>\n",
       "      <td>dohc</td>\n",
       "      <td>130</td>\n",
       "      <td>111</td>\n",
       "      <td>21</td>\n",
       "      <td>27</td>\n",
       "      <td>16500</td>\n",
       "    </tr>\n",
       "    <tr>\n",
       "      <th>2</th>\n",
       "      <td>1</td>\n",
       "      <td>NaN</td>\n",
       "      <td>alfa-romero</td>\n",
       "      <td>gas</td>\n",
       "      <td>hatchback</td>\n",
       "      <td>rwd</td>\n",
       "      <td>front</td>\n",
       "      <td>65.5</td>\n",
       "      <td>52.4</td>\n",
       "      <td>ohcv</td>\n",
       "      <td>152</td>\n",
       "      <td>154</td>\n",
       "      <td>19</td>\n",
       "      <td>26</td>\n",
       "      <td>16500</td>\n",
       "    </tr>\n",
       "    <tr>\n",
       "      <th>3</th>\n",
       "      <td>2</td>\n",
       "      <td>164</td>\n",
       "      <td>audi</td>\n",
       "      <td>gas</td>\n",
       "      <td>sedan</td>\n",
       "      <td>fwd</td>\n",
       "      <td>front</td>\n",
       "      <td>66.2</td>\n",
       "      <td>54.3</td>\n",
       "      <td>ohc</td>\n",
       "      <td>109</td>\n",
       "      <td>102</td>\n",
       "      <td>24</td>\n",
       "      <td>30</td>\n",
       "      <td>13950</td>\n",
       "    </tr>\n",
       "    <tr>\n",
       "      <th>4</th>\n",
       "      <td>2</td>\n",
       "      <td>164</td>\n",
       "      <td>audi</td>\n",
       "      <td>gas</td>\n",
       "      <td>sedan</td>\n",
       "      <td>4wd</td>\n",
       "      <td>front</td>\n",
       "      <td>66.4</td>\n",
       "      <td>54.3</td>\n",
       "      <td>ohc</td>\n",
       "      <td>136</td>\n",
       "      <td>115</td>\n",
       "      <td>18</td>\n",
       "      <td>22</td>\n",
       "      <td>17450</td>\n",
       "    </tr>\n",
       "    <tr>\n",
       "      <th>5</th>\n",
       "      <td>2</td>\n",
       "      <td>NaN</td>\n",
       "      <td>audi</td>\n",
       "      <td>gas</td>\n",
       "      <td>sedan</td>\n",
       "      <td>fwd</td>\n",
       "      <td>front</td>\n",
       "      <td>66.3</td>\n",
       "      <td>53.1</td>\n",
       "      <td>ohc</td>\n",
       "      <td>136</td>\n",
       "      <td>110</td>\n",
       "      <td>19</td>\n",
       "      <td>25</td>\n",
       "      <td>15250</td>\n",
       "    </tr>\n",
       "    <tr>\n",
       "      <th>6</th>\n",
       "      <td>1</td>\n",
       "      <td>158</td>\n",
       "      <td>audi</td>\n",
       "      <td>gas</td>\n",
       "      <td>sedan</td>\n",
       "      <td>fwd</td>\n",
       "      <td>front</td>\n",
       "      <td>71.4</td>\n",
       "      <td>55.7</td>\n",
       "      <td>ohc</td>\n",
       "      <td>136</td>\n",
       "      <td>110</td>\n",
       "      <td>19</td>\n",
       "      <td>25</td>\n",
       "      <td>17710</td>\n",
       "    </tr>\n",
       "    <tr>\n",
       "      <th>7</th>\n",
       "      <td>1</td>\n",
       "      <td>NaN</td>\n",
       "      <td>audi</td>\n",
       "      <td>gas</td>\n",
       "      <td>wagon</td>\n",
       "      <td>fwd</td>\n",
       "      <td>front</td>\n",
       "      <td>71.4</td>\n",
       "      <td>55.7</td>\n",
       "      <td>ohc</td>\n",
       "      <td>136</td>\n",
       "      <td>110</td>\n",
       "      <td>19</td>\n",
       "      <td>25</td>\n",
       "      <td>18920</td>\n",
       "    </tr>\n",
       "    <tr>\n",
       "      <th>8</th>\n",
       "      <td>1</td>\n",
       "      <td>158</td>\n",
       "      <td>audi</td>\n",
       "      <td>gas</td>\n",
       "      <td>sedan</td>\n",
       "      <td>fwd</td>\n",
       "      <td>front</td>\n",
       "      <td>71.4</td>\n",
       "      <td>55.9</td>\n",
       "      <td>ohc</td>\n",
       "      <td>131</td>\n",
       "      <td>140</td>\n",
       "      <td>17</td>\n",
       "      <td>20</td>\n",
       "      <td>23875</td>\n",
       "    </tr>\n",
       "    <tr>\n",
       "      <th>9</th>\n",
       "      <td>0</td>\n",
       "      <td>NaN</td>\n",
       "      <td>audi</td>\n",
       "      <td>gas</td>\n",
       "      <td>hatchback</td>\n",
       "      <td>4wd</td>\n",
       "      <td>front</td>\n",
       "      <td>67.9</td>\n",
       "      <td>52.0</td>\n",
       "      <td>ohc</td>\n",
       "      <td>131</td>\n",
       "      <td>160</td>\n",
       "      <td>16</td>\n",
       "      <td>22</td>\n",
       "      <td>12000</td>\n",
       "    </tr>\n",
       "  </tbody>\n",
       "</table>\n",
       "</div>"
      ],
      "text/plain": [
       "   symboling normalized-losses         make fuel-type   body-style  \\\n",
       "0          3               NaN  alfa-romero       gas  convertible   \n",
       "1          3               NaN  alfa-romero       gas  convertible   \n",
       "2          1               NaN  alfa-romero       gas    hatchback   \n",
       "3          2               164         audi       gas        sedan   \n",
       "4          2               164         audi       gas        sedan   \n",
       "5          2               NaN         audi       gas        sedan   \n",
       "6          1               158         audi       gas        sedan   \n",
       "7          1               NaN         audi       gas        wagon   \n",
       "8          1               158         audi       gas        sedan   \n",
       "9          0               NaN         audi       gas    hatchback   \n",
       "\n",
       "  drive-wheels engine-location  width  height engine-type  engine-size  \\\n",
       "0          rwd           front   64.1    48.8        dohc          130   \n",
       "1          rwd           front   64.1    48.8        dohc          130   \n",
       "2          rwd           front   65.5    52.4        ohcv          152   \n",
       "3          fwd           front   66.2    54.3         ohc          109   \n",
       "4          4wd           front   66.4    54.3         ohc          136   \n",
       "5          fwd           front   66.3    53.1         ohc          136   \n",
       "6          fwd           front   71.4    55.7         ohc          136   \n",
       "7          fwd           front   71.4    55.7         ohc          136   \n",
       "8          fwd           front   71.4    55.9         ohc          131   \n",
       "9          4wd           front   67.9    52.0         ohc          131   \n",
       "\n",
       "  horsepower  city-mpg  highway-mpg  price  \n",
       "0        111        21           27  13495  \n",
       "1        111        21           27  16500  \n",
       "2        154        19           26  16500  \n",
       "3        102        24           30  13950  \n",
       "4        115        18           22  17450  \n",
       "5        110        19           25  15250  \n",
       "6        110        19           25  17710  \n",
       "7        110        19           25  18920  \n",
       "8        140        17           20  23875  \n",
       "9        160        16           22  12000  "
      ]
     },
     "execution_count": 37,
     "metadata": {},
     "output_type": "execute_result"
    }
   ],
   "source": [
    "df1.head(10)"
   ]
  },
  {
   "cell_type": "code",
   "execution_count": 38,
   "id": "b93b0fbb",
   "metadata": {
    "scrolled": true
   },
   "outputs": [
    {
     "data": {
      "text/plain": [
       "array(['111', '154', '102', '115', '110', '140', '160', '101', '121',\n",
       "       '182', '48', '70', '68', '88', '145', '58', '76', '60', '86',\n",
       "       '100', '78', '90', '176', '262', '135', '84', '64', '120', '72',\n",
       "       '123', '155', '184', '175', '116', '69', '55', '97', '152', '200',\n",
       "       '95', '142', '143', '207', '288', nan, '73', '82', '94', '62',\n",
       "       '56', '112', '92', '161', '156', '52', '85', '114', '162', '134',\n",
       "       '106'], dtype=object)"
      ]
     },
     "execution_count": 38,
     "metadata": {},
     "output_type": "execute_result"
    }
   ],
   "source": [
    "df1['horsepower'].unique()"
   ]
  },
  {
   "cell_type": "code",
   "execution_count": 39,
   "id": "18e0ebbb",
   "metadata": {},
   "outputs": [],
   "source": [
    "df1['horsepower']=df1['horsepower'].astype('float')\n",
    "df1['normalized-losses']=df1['normalized-losses'].astype('float')"
   ]
  },
  {
   "cell_type": "code",
   "execution_count": 40,
   "id": "034ff737",
   "metadata": {},
   "outputs": [],
   "source": [
    "mean_hp=df1['horsepower'].mean()\n",
    "df1['horsepower'].fillna(mean_hp,inplace=True)\n"
   ]
  },
  {
   "cell_type": "code",
   "execution_count": 41,
   "id": "c93ccdda",
   "metadata": {},
   "outputs": [
    {
     "data": {
      "text/plain": [
       "array([111.        , 154.        , 102.        , 115.        ,\n",
       "       110.        , 140.        , 160.        , 101.        ,\n",
       "       121.        , 182.        ,  48.        ,  70.        ,\n",
       "        68.        ,  88.        , 145.        ,  58.        ,\n",
       "        76.        ,  60.        ,  86.        , 100.        ,\n",
       "        78.        ,  90.        , 176.        , 262.        ,\n",
       "       135.        ,  84.        ,  64.        , 120.        ,\n",
       "        72.        , 123.        , 155.        , 184.        ,\n",
       "       175.        , 116.        ,  69.        ,  55.        ,\n",
       "        97.        , 152.        , 200.        ,  95.        ,\n",
       "       142.        , 143.        , 207.        , 288.        ,\n",
       "       104.43564356,  73.        ,  82.        ,  94.        ,\n",
       "        62.        ,  56.        , 112.        ,  92.        ,\n",
       "       161.        , 156.        ,  52.        ,  85.        ,\n",
       "       114.        , 162.        , 134.        , 106.        ])"
      ]
     },
     "execution_count": 41,
     "metadata": {},
     "output_type": "execute_result"
    }
   ],
   "source": [
    "df1['horsepower'].unique()"
   ]
  },
  {
   "cell_type": "code",
   "execution_count": 42,
   "id": "678eee9b",
   "metadata": {},
   "outputs": [],
   "source": [
    "mean_NL=df1['normalized-losses'].mean()\n",
    "df1['normalized-losses'].fillna(mean_NL,inplace=True)"
   ]
  },
  {
   "cell_type": "code",
   "execution_count": 43,
   "id": "e89b71ce",
   "metadata": {},
   "outputs": [
    {
     "data": {
      "text/plain": [
       "array([121.8404908, 164.       , 158.       , 192.       , 188.       ,\n",
       "       121.       ,  98.       ,  81.       , 118.       , 148.       ,\n",
       "       110.       , 145.       , 137.       , 101.       ,  78.       ,\n",
       "       106.       ,  85.       , 107.       , 104.       , 113.       ,\n",
       "       150.       , 129.       , 115.       ,  93.       , 142.       ,\n",
       "       161.       , 153.       , 125.       , 128.       , 122.       ,\n",
       "       103.       , 168.       , 108.       , 194.       , 231.       ,\n",
       "       119.       , 154.       ,  74.       , 186.       ,  83.       ,\n",
       "       102.       ,  89.       ,  87.       ,  77.       ,  91.       ,\n",
       "       134.       ,  65.       , 197.       ,  90.       ,  94.       ,\n",
       "       256.       ,  95.       ])"
      ]
     },
     "execution_count": 43,
     "metadata": {},
     "output_type": "execute_result"
    }
   ],
   "source": [
    "df1['normalized-losses'].unique()"
   ]
  },
  {
   "cell_type": "code",
   "execution_count": 44,
   "id": "39991f8a",
   "metadata": {},
   "outputs": [
    {
     "data": {
      "text/plain": [
       "fwd    119\n",
       "rwd     76\n",
       "4wd      9\n",
       "Name: drive-wheels, dtype: int64"
      ]
     },
     "execution_count": 44,
     "metadata": {},
     "output_type": "execute_result"
    }
   ],
   "source": [
    "\n",
    "df1['drive-wheels'].value_counts()"
   ]
  },
  {
   "cell_type": "code",
   "execution_count": 45,
   "id": "a35d46b7",
   "metadata": {},
   "outputs": [
    {
     "data": {
      "text/plain": [
       "fwd    128\n",
       "rwd     76\n",
       "Name: drive-wheels, dtype: int64"
      ]
     },
     "execution_count": 45,
     "metadata": {},
     "output_type": "execute_result"
    }
   ],
   "source": [
    "df1['drive-wheels'].replace('4wd','fwd',inplace=True)\n",
    "df1['drive-wheels'].value_counts()"
   ]
  },
  {
   "cell_type": "markdown",
   "id": "f17c2f6d",
   "metadata": {},
   "source": [
    "# # REMOVE OUTLIERS"
   ]
  },
  {
   "cell_type": "code",
   "execution_count": 46,
   "id": "baeeb7bb",
   "metadata": {},
   "outputs": [],
   "source": [
    "import seaborn as sns"
   ]
  },
  {
   "cell_type": "code",
   "execution_count": 47,
   "id": "1d034ea0",
   "metadata": {},
   "outputs": [
    {
     "name": "stderr",
     "output_type": "stream",
     "text": [
      "C:\\Users\\ashis\\anaconda3\\lib\\site-packages\\seaborn\\_decorators.py:36: FutureWarning: Pass the following variable as a keyword arg: x. From version 0.12, the only valid positional argument will be `data`, and passing other arguments without an explicit keyword will result in an error or misinterpretation.\n",
      "  warnings.warn(\n"
     ]
    },
    {
     "data": {
      "text/plain": [
       "<AxesSubplot:xlabel='price'>"
      ]
     },
     "execution_count": 47,
     "metadata": {},
     "output_type": "execute_result"
    },
    {
     "data": {
      "image/png": "[encoded data removed]",
      "text/plain": [
       "<Figure size 432x288 with 1 Axes>"
      ]
     },
     "metadata": {
      "needs_background": "light"
     },
     "output_type": "display_data"
    }
   ],
   "source": [
    "sns.boxplot(df1['price'])"
   ]
  },
  {
   "cell_type": "code",
   "execution_count": 48,
   "id": "5db5afd8",
   "metadata": {},
   "outputs": [
    {
     "data": {
      "image/png": "[encoded data removed]",
      "text/plain": [
       "<Figure size 648x576 with 1 Axes>"
      ]
     },
     "metadata": {
      "needs_background": "light"
     },
     "output_type": "display_data"
    }
   ],
   "source": [
    "plt.figure(figsize=(9,8))\n",
    "sns.boxplot(data=df1,x='price',y='make')\n",
    "plt.show()"
   ]
  },
  {
   "cell_type": "code",
   "execution_count": 51,
   "id": "53eae32b",
   "metadata": {},
   "outputs": [
    {
     "data": {
      "text/html": [
       "<div>\n",
       "<style scoped>\n",
       "    .dataframe tbody tr th:only-of-type {\n",
       "        vertical-align: middle;\n",
       "    }\n",
       "\n",
       "    .dataframe tbody tr th {\n",
       "        vertical-align: top;\n",
       "    }\n",
       "\n",
       "    .dataframe thead th {\n",
       "        text-align: right;\n",
       "    }\n",
       "</style>\n",
       "<table border=\"1\" class=\"dataframe\">\n",
       "  <thead>\n",
       "    <tr style=\"text-align: right;\">\n",
       "      <th></th>\n",
       "      <th>symboling</th>\n",
       "      <th>normalized-losses</th>\n",
       "      <th>make</th>\n",
       "      <th>fuel-type</th>\n",
       "      <th>body-style</th>\n",
       "      <th>drive-wheels</th>\n",
       "      <th>engine-location</th>\n",
       "      <th>width</th>\n",
       "      <th>height</th>\n",
       "      <th>engine-type</th>\n",
       "      <th>engine-size</th>\n",
       "      <th>horsepower</th>\n",
       "      <th>city-mpg</th>\n",
       "      <th>highway-mpg</th>\n",
       "      <th>price</th>\n",
       "    </tr>\n",
       "  </thead>\n",
       "  <tbody>\n",
       "    <tr>\n",
       "      <th>172</th>\n",
       "      <td>2</td>\n",
       "      <td>134.000000</td>\n",
       "      <td>toyota</td>\n",
       "      <td>gas</td>\n",
       "      <td>convertible</td>\n",
       "      <td>rwd</td>\n",
       "      <td>front</td>\n",
       "      <td>65.6</td>\n",
       "      <td>53.0</td>\n",
       "      <td>ohc</td>\n",
       "      <td>146</td>\n",
       "      <td>116.0</td>\n",
       "      <td>24</td>\n",
       "      <td>30</td>\n",
       "      <td>17669</td>\n",
       "    </tr>\n",
       "    <tr>\n",
       "      <th>178</th>\n",
       "      <td>3</td>\n",
       "      <td>197.000000</td>\n",
       "      <td>toyota</td>\n",
       "      <td>gas</td>\n",
       "      <td>hatchback</td>\n",
       "      <td>rwd</td>\n",
       "      <td>front</td>\n",
       "      <td>67.7</td>\n",
       "      <td>52.0</td>\n",
       "      <td>dohc</td>\n",
       "      <td>171</td>\n",
       "      <td>161.0</td>\n",
       "      <td>20</td>\n",
       "      <td>24</td>\n",
       "      <td>16558</td>\n",
       "    </tr>\n",
       "    <tr>\n",
       "      <th>179</th>\n",
       "      <td>3</td>\n",
       "      <td>197.000000</td>\n",
       "      <td>toyota</td>\n",
       "      <td>gas</td>\n",
       "      <td>hatchback</td>\n",
       "      <td>rwd</td>\n",
       "      <td>front</td>\n",
       "      <td>67.7</td>\n",
       "      <td>52.0</td>\n",
       "      <td>dohc</td>\n",
       "      <td>171</td>\n",
       "      <td>161.0</td>\n",
       "      <td>19</td>\n",
       "      <td>24</td>\n",
       "      <td>15998</td>\n",
       "    </tr>\n",
       "    <tr>\n",
       "      <th>180</th>\n",
       "      <td>-1</td>\n",
       "      <td>90.000000</td>\n",
       "      <td>toyota</td>\n",
       "      <td>gas</td>\n",
       "      <td>sedan</td>\n",
       "      <td>rwd</td>\n",
       "      <td>front</td>\n",
       "      <td>66.5</td>\n",
       "      <td>54.1</td>\n",
       "      <td>dohc</td>\n",
       "      <td>171</td>\n",
       "      <td>156.0</td>\n",
       "      <td>20</td>\n",
       "      <td>24</td>\n",
       "      <td>15690</td>\n",
       "    </tr>\n",
       "    <tr>\n",
       "      <th>181</th>\n",
       "      <td>-1</td>\n",
       "      <td>121.840491</td>\n",
       "      <td>toyota</td>\n",
       "      <td>gas</td>\n",
       "      <td>wagon</td>\n",
       "      <td>rwd</td>\n",
       "      <td>front</td>\n",
       "      <td>66.5</td>\n",
       "      <td>54.1</td>\n",
       "      <td>dohc</td>\n",
       "      <td>161</td>\n",
       "      <td>156.0</td>\n",
       "      <td>19</td>\n",
       "      <td>24</td>\n",
       "      <td>15750</td>\n",
       "    </tr>\n",
       "  </tbody>\n",
       "</table>\n",
       "</div>"
      ],
      "text/plain": [
       "     symboling  normalized-losses    make fuel-type   body-style drive-wheels  \\\n",
       "172          2         134.000000  toyota       gas  convertible          rwd   \n",
       "178          3         197.000000  toyota       gas    hatchback          rwd   \n",
       "179          3         197.000000  toyota       gas    hatchback          rwd   \n",
       "180         -1          90.000000  toyota       gas        sedan          rwd   \n",
       "181         -1         121.840491  toyota       gas        wagon          rwd   \n",
       "\n",
       "    engine-location  width  height engine-type  engine-size  horsepower  \\\n",
       "172           front   65.6    53.0         ohc          146       116.0   \n",
       "178           front   67.7    52.0        dohc          171       161.0   \n",
       "179           front   67.7    52.0        dohc          171       161.0   \n",
       "180           front   66.5    54.1        dohc          171       156.0   \n",
       "181           front   66.5    54.1        dohc          161       156.0   \n",
       "\n",
       "     city-mpg  highway-mpg  price  \n",
       "172        24           30  17669  \n",
       "178        20           24  16558  \n",
       "179        19           24  15998  \n",
       "180        20           24  15690  \n",
       "181        19           24  15750  "
      ]
     },
     "execution_count": 51,
     "metadata": {},
     "output_type": "execute_result"
    }
   ],
   "source": [
    "df1[(df1['make']=='toyota') & (df1['price']>15000)]"
   ]
  },
  {
   "cell_type": "code",
   "execution_count": 53,
   "id": "cfb2b0d6",
   "metadata": {},
   "outputs": [],
   "source": [
    "df1.drop([172,178,179,180,181],inplace=True)"
   ]
  },
  {
   "cell_type": "code",
   "execution_count": 54,
   "id": "39ff6793",
   "metadata": {},
   "outputs": [
    {
     "data": {
      "text/html": [
       "<div>\n",
       "<style scoped>\n",
       "    .dataframe tbody tr th:only-of-type {\n",
       "        vertical-align: middle;\n",
       "    }\n",
       "\n",
       "    .dataframe tbody tr th {\n",
       "        vertical-align: top;\n",
       "    }\n",
       "\n",
       "    .dataframe thead th {\n",
       "        text-align: right;\n",
       "    }\n",
       "</style>\n",
       "<table border=\"1\" class=\"dataframe\">\n",
       "  <thead>\n",
       "    <tr style=\"text-align: right;\">\n",
       "      <th></th>\n",
       "      <th>symboling</th>\n",
       "      <th>normalized-losses</th>\n",
       "      <th>make</th>\n",
       "      <th>fuel-type</th>\n",
       "      <th>body-style</th>\n",
       "      <th>drive-wheels</th>\n",
       "      <th>engine-location</th>\n",
       "      <th>width</th>\n",
       "      <th>height</th>\n",
       "      <th>engine-type</th>\n",
       "      <th>engine-size</th>\n",
       "      <th>horsepower</th>\n",
       "      <th>city-mpg</th>\n",
       "      <th>highway-mpg</th>\n",
       "      <th>price</th>\n",
       "    </tr>\n",
       "  </thead>\n",
       "  <tbody>\n",
       "    <tr>\n",
       "      <th>124</th>\n",
       "      <td>3</td>\n",
       "      <td>121.840491</td>\n",
       "      <td>plymouth</td>\n",
       "      <td>gas</td>\n",
       "      <td>hatchback</td>\n",
       "      <td>rwd</td>\n",
       "      <td>front</td>\n",
       "      <td>66.3</td>\n",
       "      <td>50.2</td>\n",
       "      <td>ohc</td>\n",
       "      <td>156</td>\n",
       "      <td>145.0</td>\n",
       "      <td>19</td>\n",
       "      <td>24</td>\n",
       "      <td>12764</td>\n",
       "    </tr>\n",
       "  </tbody>\n",
       "</table>\n",
       "</div>"
      ],
      "text/plain": [
       "     symboling  normalized-losses      make fuel-type body-style drive-wheels  \\\n",
       "124          3         121.840491  plymouth       gas  hatchback          rwd   \n",
       "\n",
       "    engine-location  width  height engine-type  engine-size  horsepower  \\\n",
       "124           front   66.3    50.2         ohc          156       145.0   \n",
       "\n",
       "     city-mpg  highway-mpg  price  \n",
       "124        19           24  12764  "
      ]
     },
     "execution_count": 54,
     "metadata": {},
     "output_type": "execute_result"
    }
   ],
   "source": [
    "df1[(df1['make']=='plymouth') & (df1['price']>10000)]"
   ]
  },
  {
   "cell_type": "code",
   "execution_count": 55,
   "id": "f1dd08c6",
   "metadata": {},
   "outputs": [],
   "source": [
    "df1.drop(124,inplace=True)"
   ]
  },
  {
   "cell_type": "code",
   "execution_count": 58,
   "id": "b2683e5a",
   "metadata": {},
   "outputs": [
    {
     "data": {
      "text/html": [
       "<div>\n",
       "<style scoped>\n",
       "    .dataframe tbody tr th:only-of-type {\n",
       "        vertical-align: middle;\n",
       "    }\n",
       "\n",
       "    .dataframe tbody tr th {\n",
       "        vertical-align: top;\n",
       "    }\n",
       "\n",
       "    .dataframe thead th {\n",
       "        text-align: right;\n",
       "    }\n",
       "</style>\n",
       "<table border=\"1\" class=\"dataframe\">\n",
       "  <thead>\n",
       "    <tr style=\"text-align: right;\">\n",
       "      <th></th>\n",
       "      <th>symboling</th>\n",
       "      <th>normalized-losses</th>\n",
       "      <th>make</th>\n",
       "      <th>fuel-type</th>\n",
       "      <th>body-style</th>\n",
       "      <th>drive-wheels</th>\n",
       "      <th>engine-location</th>\n",
       "      <th>width</th>\n",
       "      <th>height</th>\n",
       "      <th>engine-type</th>\n",
       "      <th>engine-size</th>\n",
       "      <th>horsepower</th>\n",
       "      <th>city-mpg</th>\n",
       "      <th>highway-mpg</th>\n",
       "      <th>price</th>\n",
       "    </tr>\n",
       "  </thead>\n",
       "  <tbody>\n",
       "    <tr>\n",
       "      <th>82</th>\n",
       "      <td>3</td>\n",
       "      <td>121.840491</td>\n",
       "      <td>mitsubishi</td>\n",
       "      <td>gas</td>\n",
       "      <td>hatchback</td>\n",
       "      <td>fwd</td>\n",
       "      <td>front</td>\n",
       "      <td>66.3</td>\n",
       "      <td>50.2</td>\n",
       "      <td>ohc</td>\n",
       "      <td>156</td>\n",
       "      <td>145.0</td>\n",
       "      <td>19</td>\n",
       "      <td>24</td>\n",
       "      <td>12629</td>\n",
       "    </tr>\n",
       "    <tr>\n",
       "      <th>83</th>\n",
       "      <td>3</td>\n",
       "      <td>121.840491</td>\n",
       "      <td>mitsubishi</td>\n",
       "      <td>gas</td>\n",
       "      <td>hatchback</td>\n",
       "      <td>fwd</td>\n",
       "      <td>front</td>\n",
       "      <td>66.3</td>\n",
       "      <td>50.2</td>\n",
       "      <td>ohc</td>\n",
       "      <td>156</td>\n",
       "      <td>145.0</td>\n",
       "      <td>19</td>\n",
       "      <td>24</td>\n",
       "      <td>14869</td>\n",
       "    </tr>\n",
       "    <tr>\n",
       "      <th>84</th>\n",
       "      <td>3</td>\n",
       "      <td>121.840491</td>\n",
       "      <td>mitsubishi</td>\n",
       "      <td>gas</td>\n",
       "      <td>hatchback</td>\n",
       "      <td>fwd</td>\n",
       "      <td>front</td>\n",
       "      <td>66.3</td>\n",
       "      <td>50.2</td>\n",
       "      <td>ohc</td>\n",
       "      <td>156</td>\n",
       "      <td>145.0</td>\n",
       "      <td>19</td>\n",
       "      <td>24</td>\n",
       "      <td>14489</td>\n",
       "    </tr>\n",
       "  </tbody>\n",
       "</table>\n",
       "</div>"
      ],
      "text/plain": [
       "    symboling  normalized-losses        make fuel-type body-style  \\\n",
       "82          3         121.840491  mitsubishi       gas  hatchback   \n",
       "83          3         121.840491  mitsubishi       gas  hatchback   \n",
       "84          3         121.840491  mitsubishi       gas  hatchback   \n",
       "\n",
       "   drive-wheels engine-location  width  height engine-type  engine-size  \\\n",
       "82          fwd           front   66.3    50.2         ohc          156   \n",
       "83          fwd           front   66.3    50.2         ohc          156   \n",
       "84          fwd           front   66.3    50.2         ohc          156   \n",
       "\n",
       "    horsepower  city-mpg  highway-mpg  price  \n",
       "82       145.0        19           24  12629  \n",
       "83       145.0        19           24  14869  \n",
       "84       145.0        19           24  14489  "
      ]
     },
     "execution_count": 58,
     "metadata": {},
     "output_type": "execute_result"
    }
   ],
   "source": [
    "df1[(df1['make']=='mitsubishi') & (df1['price']>10000)]"
   ]
  },
  {
   "cell_type": "code",
   "execution_count": 59,
   "id": "83f73b2f",
   "metadata": {},
   "outputs": [],
   "source": [
    "df1.drop([82,83,84],inplace=True)"
   ]
  },
  {
   "cell_type": "code",
   "execution_count": 60,
   "id": "75ee65cf",
   "metadata": {},
   "outputs": [
    {
     "data": {
      "text/html": [
       "<div>\n",
       "<style scoped>\n",
       "    .dataframe tbody tr th:only-of-type {\n",
       "        vertical-align: middle;\n",
       "    }\n",
       "\n",
       "    .dataframe tbody tr th {\n",
       "        vertical-align: top;\n",
       "    }\n",
       "\n",
       "    .dataframe thead th {\n",
       "        text-align: right;\n",
       "    }\n",
       "</style>\n",
       "<table border=\"1\" class=\"dataframe\">\n",
       "  <thead>\n",
       "    <tr style=\"text-align: right;\">\n",
       "      <th></th>\n",
       "      <th>symboling</th>\n",
       "      <th>normalized-losses</th>\n",
       "      <th>make</th>\n",
       "      <th>fuel-type</th>\n",
       "      <th>body-style</th>\n",
       "      <th>drive-wheels</th>\n",
       "      <th>engine-location</th>\n",
       "      <th>width</th>\n",
       "      <th>height</th>\n",
       "      <th>engine-type</th>\n",
       "      <th>engine-size</th>\n",
       "      <th>horsepower</th>\n",
       "      <th>city-mpg</th>\n",
       "      <th>highway-mpg</th>\n",
       "      <th>price</th>\n",
       "    </tr>\n",
       "  </thead>\n",
       "  <tbody>\n",
       "    <tr>\n",
       "      <th>45</th>\n",
       "      <td>0</td>\n",
       "      <td>121.840491</td>\n",
       "      <td>isuzu</td>\n",
       "      <td>gas</td>\n",
       "      <td>sedan</td>\n",
       "      <td>fwd</td>\n",
       "      <td>front</td>\n",
       "      <td>63.6</td>\n",
       "      <td>52.0</td>\n",
       "      <td>ohc</td>\n",
       "      <td>90</td>\n",
       "      <td>70.0</td>\n",
       "      <td>38</td>\n",
       "      <td>43</td>\n",
       "      <td>23000</td>\n",
       "    </tr>\n",
       "  </tbody>\n",
       "</table>\n",
       "</div>"
      ],
      "text/plain": [
       "    symboling  normalized-losses   make fuel-type body-style drive-wheels  \\\n",
       "45          0         121.840491  isuzu       gas      sedan          fwd   \n",
       "\n",
       "   engine-location  width  height engine-type  engine-size  horsepower  \\\n",
       "45           front   63.6    52.0         ohc           90        70.0   \n",
       "\n",
       "    city-mpg  highway-mpg  price  \n",
       "45        38           43  23000  "
      ]
     },
     "execution_count": 60,
     "metadata": {},
     "output_type": "execute_result"
    }
   ],
   "source": [
    "df1[(df1['make']=='isuzu') & (df1['price']>20000)]"
   ]
  },
  {
   "cell_type": "code",
   "execution_count": 61,
   "id": "0f1b4e20",
   "metadata": {},
   "outputs": [],
   "source": [
    "df1.drop(45,inplace=True)"
   ]
  },
  {
   "cell_type": "code",
   "execution_count": 62,
   "id": "4e2c7843",
   "metadata": {},
   "outputs": [
    {
     "data": {
      "text/html": [
       "<div>\n",
       "<style scoped>\n",
       "    .dataframe tbody tr th:only-of-type {\n",
       "        vertical-align: middle;\n",
       "    }\n",
       "\n",
       "    .dataframe tbody tr th {\n",
       "        vertical-align: top;\n",
       "    }\n",
       "\n",
       "    .dataframe thead th {\n",
       "        text-align: right;\n",
       "    }\n",
       "</style>\n",
       "<table border=\"1\" class=\"dataframe\">\n",
       "  <thead>\n",
       "    <tr style=\"text-align: right;\">\n",
       "      <th></th>\n",
       "      <th>symboling</th>\n",
       "      <th>normalized-losses</th>\n",
       "      <th>make</th>\n",
       "      <th>fuel-type</th>\n",
       "      <th>body-style</th>\n",
       "      <th>drive-wheels</th>\n",
       "      <th>engine-location</th>\n",
       "      <th>width</th>\n",
       "      <th>height</th>\n",
       "      <th>engine-type</th>\n",
       "      <th>engine-size</th>\n",
       "      <th>horsepower</th>\n",
       "      <th>city-mpg</th>\n",
       "      <th>highway-mpg</th>\n",
       "      <th>price</th>\n",
       "    </tr>\n",
       "  </thead>\n",
       "  <tbody>\n",
       "    <tr>\n",
       "      <th>40</th>\n",
       "      <td>0</td>\n",
       "      <td>85.0</td>\n",
       "      <td>honda</td>\n",
       "      <td>gas</td>\n",
       "      <td>sedan</td>\n",
       "      <td>fwd</td>\n",
       "      <td>front</td>\n",
       "      <td>62.5</td>\n",
       "      <td>54.1</td>\n",
       "      <td>ohc</td>\n",
       "      <td>110</td>\n",
       "      <td>86.0</td>\n",
       "      <td>27</td>\n",
       "      <td>33</td>\n",
       "      <td>10295</td>\n",
       "    </tr>\n",
       "    <tr>\n",
       "      <th>41</th>\n",
       "      <td>0</td>\n",
       "      <td>85.0</td>\n",
       "      <td>honda</td>\n",
       "      <td>gas</td>\n",
       "      <td>sedan</td>\n",
       "      <td>fwd</td>\n",
       "      <td>front</td>\n",
       "      <td>65.2</td>\n",
       "      <td>54.1</td>\n",
       "      <td>ohc</td>\n",
       "      <td>110</td>\n",
       "      <td>101.0</td>\n",
       "      <td>24</td>\n",
       "      <td>28</td>\n",
       "      <td>12945</td>\n",
       "    </tr>\n",
       "    <tr>\n",
       "      <th>42</th>\n",
       "      <td>1</td>\n",
       "      <td>107.0</td>\n",
       "      <td>honda</td>\n",
       "      <td>gas</td>\n",
       "      <td>sedan</td>\n",
       "      <td>fwd</td>\n",
       "      <td>front</td>\n",
       "      <td>66.0</td>\n",
       "      <td>51.0</td>\n",
       "      <td>ohc</td>\n",
       "      <td>110</td>\n",
       "      <td>100.0</td>\n",
       "      <td>25</td>\n",
       "      <td>31</td>\n",
       "      <td>10345</td>\n",
       "    </tr>\n",
       "  </tbody>\n",
       "</table>\n",
       "</div>"
      ],
      "text/plain": [
       "    symboling  normalized-losses   make fuel-type body-style drive-wheels  \\\n",
       "40          0               85.0  honda       gas      sedan          fwd   \n",
       "41          0               85.0  honda       gas      sedan          fwd   \n",
       "42          1              107.0  honda       gas      sedan          fwd   \n",
       "\n",
       "   engine-location  width  height engine-type  engine-size  horsepower  \\\n",
       "40           front   62.5    54.1         ohc          110        86.0   \n",
       "41           front   65.2    54.1         ohc          110       101.0   \n",
       "42           front   66.0    51.0         ohc          110       100.0   \n",
       "\n",
       "    city-mpg  highway-mpg  price  \n",
       "40        27           33  10295  \n",
       "41        24           28  12945  \n",
       "42        25           31  10345  "
      ]
     },
     "execution_count": 62,
     "metadata": {},
     "output_type": "execute_result"
    }
   ],
   "source": [
    "df1[(df1['make']=='honda') & (df1['price']>10000)]"
   ]
  },
  {
   "cell_type": "code",
   "execution_count": 63,
   "id": "8df3be14",
   "metadata": {},
   "outputs": [],
   "source": [
    "df1.drop([40,41,42],inplace =True)"
   ]
  },
  {
   "cell_type": "code",
   "execution_count": 64,
   "id": "fe7d8c8a",
   "metadata": {},
   "outputs": [
    {
     "data": {
      "text/html": [
       "<div>\n",
       "<style scoped>\n",
       "    .dataframe tbody tr th:only-of-type {\n",
       "        vertical-align: middle;\n",
       "    }\n",
       "\n",
       "    .dataframe tbody tr th {\n",
       "        vertical-align: top;\n",
       "    }\n",
       "\n",
       "    .dataframe thead th {\n",
       "        text-align: right;\n",
       "    }\n",
       "</style>\n",
       "<table border=\"1\" class=\"dataframe\">\n",
       "  <thead>\n",
       "    <tr style=\"text-align: right;\">\n",
       "      <th></th>\n",
       "      <th>symboling</th>\n",
       "      <th>normalized-losses</th>\n",
       "      <th>make</th>\n",
       "      <th>fuel-type</th>\n",
       "      <th>body-style</th>\n",
       "      <th>drive-wheels</th>\n",
       "      <th>engine-location</th>\n",
       "      <th>width</th>\n",
       "      <th>height</th>\n",
       "      <th>engine-type</th>\n",
       "      <th>engine-size</th>\n",
       "      <th>horsepower</th>\n",
       "      <th>city-mpg</th>\n",
       "      <th>highway-mpg</th>\n",
       "      <th>price</th>\n",
       "    </tr>\n",
       "  </thead>\n",
       "  <tbody>\n",
       "    <tr>\n",
       "      <th>29</th>\n",
       "      <td>3</td>\n",
       "      <td>145.0</td>\n",
       "      <td>dodge</td>\n",
       "      <td>gas</td>\n",
       "      <td>hatchback</td>\n",
       "      <td>fwd</td>\n",
       "      <td>front</td>\n",
       "      <td>66.3</td>\n",
       "      <td>50.2</td>\n",
       "      <td>ohc</td>\n",
       "      <td>156</td>\n",
       "      <td>145.0</td>\n",
       "      <td>19</td>\n",
       "      <td>24</td>\n",
       "      <td>12964</td>\n",
       "    </tr>\n",
       "  </tbody>\n",
       "</table>\n",
       "</div>"
      ],
      "text/plain": [
       "    symboling  normalized-losses   make fuel-type body-style drive-wheels  \\\n",
       "29          3              145.0  dodge       gas  hatchback          fwd   \n",
       "\n",
       "   engine-location  width  height engine-type  engine-size  horsepower  \\\n",
       "29           front   66.3    50.2         ohc          156       145.0   \n",
       "\n",
       "    city-mpg  highway-mpg  price  \n",
       "29        19           24  12964  "
      ]
     },
     "execution_count": 64,
     "metadata": {},
     "output_type": "execute_result"
    }
   ],
   "source": [
    "df1[(df1['make']=='dodge') & (df1['price']>10000)]"
   ]
  },
  {
   "cell_type": "code",
   "execution_count": 65,
   "id": "f8c135b4",
   "metadata": {},
   "outputs": [],
   "source": [
    "df1.drop(29,inplace=True)"
   ]
  },
  {
   "cell_type": "code",
   "execution_count": 67,
   "id": "1e9fef5a",
   "metadata": {},
   "outputs": [
    {
     "data": {
      "image/png": "[encoded data removed]",
      "text/plain": [
       "<Figure size 720x576 with 1 Axes>"
      ]
     },
     "metadata": {
      "needs_background": "light"
     },
     "output_type": "display_data"
    }
   ],
   "source": [
    "plt.figure(figsize=(10,8))\n",
    "sns.boxplot(data=df1,x='price',y='make')\n",
    "plt.show()"
   ]
  },
  {
   "cell_type": "markdown",
   "id": "2be26d00",
   "metadata": {},
   "source": [
    "# feature engineering"
   ]
  },
  {
   "cell_type": "code",
   "execution_count": 68,
   "id": "1b06164d",
   "metadata": {},
   "outputs": [],
   "source": [
    "df1.drop(['width','height'],inplace=True,axis=1)"
   ]
  },
  {
   "cell_type": "code",
   "execution_count": 69,
   "id": "7a89f3e2",
   "metadata": {},
   "outputs": [
    {
     "name": "stdout",
     "output_type": "stream",
     "text": [
      "<class 'pandas.core.frame.DataFrame'>\n",
      "Int64Index: 190 entries, 0 to 204\n",
      "Data columns (total 13 columns):\n",
      " #   Column             Non-Null Count  Dtype  \n",
      "---  ------             --------------  -----  \n",
      " 0   symboling          190 non-null    int64  \n",
      " 1   normalized-losses  190 non-null    float64\n",
      " 2   make               190 non-null    object \n",
      " 3   fuel-type          190 non-null    object \n",
      " 4   body-style         190 non-null    object \n",
      " 5   drive-wheels       190 non-null    object \n",
      " 6   engine-location    190 non-null    object \n",
      " 7   engine-type        190 non-null    object \n",
      " 8   engine-size        190 non-null    int64  \n",
      " 9   horsepower         190 non-null    float64\n",
      " 10  city-mpg           190 non-null    int64  \n",
      " 11  highway-mpg        190 non-null    int64  \n",
      " 12  price              190 non-null    int64  \n",
      "dtypes: float64(2), int64(5), object(6)\n",
      "memory usage: 24.9+ KB\n"
     ]
    }
   ],
   "source": [
    "df1.info()"
   ]
  },
  {
   "cell_type": "markdown",
   "id": "68e96349",
   "metadata": {},
   "source": [
    "# label encoding"
   ]
  },
  {
   "cell_type": "code",
   "execution_count": 70,
   "id": "67c254c1",
   "metadata": {},
   "outputs": [],
   "source": [
    "from sklearn.preprocessing import LabelEncoder"
   ]
  },
  {
   "cell_type": "code",
   "execution_count": 71,
   "id": "c9dd17b6",
   "metadata": {},
   "outputs": [],
   "source": [
    "le=LabelEncoder()\n",
    "for col in df1.columns:\n",
    "  if df1[col].dtype == 'object':\n",
    "    df1[col] = le.fit_transform(df1[col].astype(str))"
   ]
  },
  {
   "cell_type": "code",
   "execution_count": 72,
   "id": "e7469a61",
   "metadata": {},
   "outputs": [
    {
     "data": {
      "text/html": [
       "<div>\n",
       "<style scoped>\n",
       "    .dataframe tbody tr th:only-of-type {\n",
       "        vertical-align: middle;\n",
       "    }\n",
       "\n",
       "    .dataframe tbody tr th {\n",
       "        vertical-align: top;\n",
       "    }\n",
       "\n",
       "    .dataframe thead th {\n",
       "        text-align: right;\n",
       "    }\n",
       "</style>\n",
       "<table border=\"1\" class=\"dataframe\">\n",
       "  <thead>\n",
       "    <tr style=\"text-align: right;\">\n",
       "      <th></th>\n",
       "      <th>symboling</th>\n",
       "      <th>normalized-losses</th>\n",
       "      <th>make</th>\n",
       "      <th>fuel-type</th>\n",
       "      <th>body-style</th>\n",
       "      <th>drive-wheels</th>\n",
       "      <th>engine-location</th>\n",
       "      <th>engine-type</th>\n",
       "      <th>engine-size</th>\n",
       "      <th>horsepower</th>\n",
       "      <th>city-mpg</th>\n",
       "      <th>highway-mpg</th>\n",
       "      <th>price</th>\n",
       "    </tr>\n",
       "  </thead>\n",
       "  <tbody>\n",
       "    <tr>\n",
       "      <th>0</th>\n",
       "      <td>3</td>\n",
       "      <td>121.840491</td>\n",
       "      <td>0</td>\n",
       "      <td>1</td>\n",
       "      <td>0</td>\n",
       "      <td>1</td>\n",
       "      <td>0</td>\n",
       "      <td>0</td>\n",
       "      <td>130</td>\n",
       "      <td>111.0</td>\n",
       "      <td>21</td>\n",
       "      <td>27</td>\n",
       "      <td>13495</td>\n",
       "    </tr>\n",
       "    <tr>\n",
       "      <th>1</th>\n",
       "      <td>3</td>\n",
       "      <td>121.840491</td>\n",
       "      <td>0</td>\n",
       "      <td>1</td>\n",
       "      <td>0</td>\n",
       "      <td>1</td>\n",
       "      <td>0</td>\n",
       "      <td>0</td>\n",
       "      <td>130</td>\n",
       "      <td>111.0</td>\n",
       "      <td>21</td>\n",
       "      <td>27</td>\n",
       "      <td>16500</td>\n",
       "    </tr>\n",
       "    <tr>\n",
       "      <th>2</th>\n",
       "      <td>1</td>\n",
       "      <td>121.840491</td>\n",
       "      <td>0</td>\n",
       "      <td>1</td>\n",
       "      <td>2</td>\n",
       "      <td>1</td>\n",
       "      <td>0</td>\n",
       "      <td>5</td>\n",
       "      <td>152</td>\n",
       "      <td>154.0</td>\n",
       "      <td>19</td>\n",
       "      <td>26</td>\n",
       "      <td>16500</td>\n",
       "    </tr>\n",
       "    <tr>\n",
       "      <th>3</th>\n",
       "      <td>2</td>\n",
       "      <td>164.000000</td>\n",
       "      <td>1</td>\n",
       "      <td>1</td>\n",
       "      <td>3</td>\n",
       "      <td>0</td>\n",
       "      <td>0</td>\n",
       "      <td>3</td>\n",
       "      <td>109</td>\n",
       "      <td>102.0</td>\n",
       "      <td>24</td>\n",
       "      <td>30</td>\n",
       "      <td>13950</td>\n",
       "    </tr>\n",
       "    <tr>\n",
       "      <th>4</th>\n",
       "      <td>2</td>\n",
       "      <td>164.000000</td>\n",
       "      <td>1</td>\n",
       "      <td>1</td>\n",
       "      <td>3</td>\n",
       "      <td>0</td>\n",
       "      <td>0</td>\n",
       "      <td>3</td>\n",
       "      <td>136</td>\n",
       "      <td>115.0</td>\n",
       "      <td>18</td>\n",
       "      <td>22</td>\n",
       "      <td>17450</td>\n",
       "    </tr>\n",
       "    <tr>\n",
       "      <th>...</th>\n",
       "      <td>...</td>\n",
       "      <td>...</td>\n",
       "      <td>...</td>\n",
       "      <td>...</td>\n",
       "      <td>...</td>\n",
       "      <td>...</td>\n",
       "      <td>...</td>\n",
       "      <td>...</td>\n",
       "      <td>...</td>\n",
       "      <td>...</td>\n",
       "      <td>...</td>\n",
       "      <td>...</td>\n",
       "      <td>...</td>\n",
       "    </tr>\n",
       "    <tr>\n",
       "      <th>200</th>\n",
       "      <td>-1</td>\n",
       "      <td>95.000000</td>\n",
       "      <td>21</td>\n",
       "      <td>1</td>\n",
       "      <td>3</td>\n",
       "      <td>1</td>\n",
       "      <td>0</td>\n",
       "      <td>3</td>\n",
       "      <td>141</td>\n",
       "      <td>114.0</td>\n",
       "      <td>23</td>\n",
       "      <td>28</td>\n",
       "      <td>16845</td>\n",
       "    </tr>\n",
       "    <tr>\n",
       "      <th>201</th>\n",
       "      <td>-1</td>\n",
       "      <td>95.000000</td>\n",
       "      <td>21</td>\n",
       "      <td>1</td>\n",
       "      <td>3</td>\n",
       "      <td>1</td>\n",
       "      <td>0</td>\n",
       "      <td>3</td>\n",
       "      <td>141</td>\n",
       "      <td>160.0</td>\n",
       "      <td>19</td>\n",
       "      <td>25</td>\n",
       "      <td>19045</td>\n",
       "    </tr>\n",
       "    <tr>\n",
       "      <th>202</th>\n",
       "      <td>-1</td>\n",
       "      <td>95.000000</td>\n",
       "      <td>21</td>\n",
       "      <td>1</td>\n",
       "      <td>3</td>\n",
       "      <td>1</td>\n",
       "      <td>0</td>\n",
       "      <td>5</td>\n",
       "      <td>173</td>\n",
       "      <td>134.0</td>\n",
       "      <td>18</td>\n",
       "      <td>23</td>\n",
       "      <td>21485</td>\n",
       "    </tr>\n",
       "    <tr>\n",
       "      <th>203</th>\n",
       "      <td>-1</td>\n",
       "      <td>95.000000</td>\n",
       "      <td>21</td>\n",
       "      <td>0</td>\n",
       "      <td>3</td>\n",
       "      <td>1</td>\n",
       "      <td>0</td>\n",
       "      <td>3</td>\n",
       "      <td>145</td>\n",
       "      <td>106.0</td>\n",
       "      <td>26</td>\n",
       "      <td>27</td>\n",
       "      <td>22470</td>\n",
       "    </tr>\n",
       "    <tr>\n",
       "      <th>204</th>\n",
       "      <td>-1</td>\n",
       "      <td>95.000000</td>\n",
       "      <td>21</td>\n",
       "      <td>1</td>\n",
       "      <td>3</td>\n",
       "      <td>1</td>\n",
       "      <td>0</td>\n",
       "      <td>3</td>\n",
       "      <td>141</td>\n",
       "      <td>114.0</td>\n",
       "      <td>19</td>\n",
       "      <td>25</td>\n",
       "      <td>22625</td>\n",
       "    </tr>\n",
       "  </tbody>\n",
       "</table>\n",
       "<p>190 rows × 13 columns</p>\n",
       "</div>"
      ],
      "text/plain": [
       "     symboling  normalized-losses  make  fuel-type  body-style  drive-wheels  \\\n",
       "0            3         121.840491     0          1           0             1   \n",
       "1            3         121.840491     0          1           0             1   \n",
       "2            1         121.840491     0          1           2             1   \n",
       "3            2         164.000000     1          1           3             0   \n",
       "4            2         164.000000     1          1           3             0   \n",
       "..         ...                ...   ...        ...         ...           ...   \n",
       "200         -1          95.000000    21          1           3             1   \n",
       "201         -1          95.000000    21          1           3             1   \n",
       "202         -1          95.000000    21          1           3             1   \n",
       "203         -1          95.000000    21          0           3             1   \n",
       "204         -1          95.000000    21          1           3             1   \n",
       "\n",
       "     engine-location  engine-type  engine-size  horsepower  city-mpg  \\\n",
       "0                  0            0          130       111.0        21   \n",
       "1                  0            0          130       111.0        21   \n",
       "2                  0            5          152       154.0        19   \n",
       "3                  0            3          109       102.0        24   \n",
       "4                  0            3          136       115.0        18   \n",
       "..               ...          ...          ...         ...       ...   \n",
       "200                0            3          141       114.0        23   \n",
       "201                0            3          141       160.0        19   \n",
       "202                0            5          173       134.0        18   \n",
       "203                0            3          145       106.0        26   \n",
       "204                0            3          141       114.0        19   \n",
       "\n",
       "     highway-mpg  price  \n",
       "0             27  13495  \n",
       "1             27  16500  \n",
       "2             26  16500  \n",
       "3             30  13950  \n",
       "4             22  17450  \n",
       "..           ...    ...  \n",
       "200           28  16845  \n",
       "201           25  19045  \n",
       "202           23  21485  \n",
       "203           27  22470  \n",
       "204           25  22625  \n",
       "\n",
       "[190 rows x 13 columns]"
      ]
     },
     "execution_count": 72,
     "metadata": {},
     "output_type": "execute_result"
    }
   ],
   "source": [
    "df1"
   ]
  },
  {
   "cell_type": "markdown",
   "id": "b7239710",
   "metadata": {},
   "source": [
    "# skewness"
   ]
  },
  {
   "cell_type": "code",
   "execution_count": 74,
   "id": "3acaada6",
   "metadata": {},
   "outputs": [],
   "source": [
    "from scipy.stats import skew\n"
   ]
  },
  {
   "cell_type": "code",
   "execution_count": 78,
   "id": "ff23fd25",
   "metadata": {},
   "outputs": [
    {
     "data": {
      "text/html": [
       "<div>\n",
       "<style scoped>\n",
       "    .dataframe tbody tr th:only-of-type {\n",
       "        vertical-align: middle;\n",
       "    }\n",
       "\n",
       "    .dataframe tbody tr th {\n",
       "        vertical-align: top;\n",
       "    }\n",
       "\n",
       "    .dataframe thead th {\n",
       "        text-align: right;\n",
       "    }\n",
       "</style>\n",
       "<table border=\"1\" class=\"dataframe\">\n",
       "  <thead>\n",
       "    <tr style=\"text-align: right;\">\n",
       "      <th></th>\n",
       "      <th>normalized-losses</th>\n",
       "      <th>make</th>\n",
       "      <th>fuel-type</th>\n",
       "      <th>body-style</th>\n",
       "      <th>drive-wheels</th>\n",
       "      <th>engine-location</th>\n",
       "      <th>engine-type</th>\n",
       "      <th>horsepower</th>\n",
       "    </tr>\n",
       "  </thead>\n",
       "  <tbody>\n",
       "    <tr>\n",
       "      <th>0</th>\n",
       "      <td>121.840491</td>\n",
       "      <td>0</td>\n",
       "      <td>1</td>\n",
       "      <td>0</td>\n",
       "      <td>1</td>\n",
       "      <td>0</td>\n",
       "      <td>0</td>\n",
       "      <td>111.0</td>\n",
       "    </tr>\n",
       "    <tr>\n",
       "      <th>1</th>\n",
       "      <td>121.840491</td>\n",
       "      <td>0</td>\n",
       "      <td>1</td>\n",
       "      <td>0</td>\n",
       "      <td>1</td>\n",
       "      <td>0</td>\n",
       "      <td>0</td>\n",
       "      <td>111.0</td>\n",
       "    </tr>\n",
       "    <tr>\n",
       "      <th>2</th>\n",
       "      <td>121.840491</td>\n",
       "      <td>0</td>\n",
       "      <td>1</td>\n",
       "      <td>2</td>\n",
       "      <td>1</td>\n",
       "      <td>0</td>\n",
       "      <td>5</td>\n",
       "      <td>154.0</td>\n",
       "    </tr>\n",
       "    <tr>\n",
       "      <th>3</th>\n",
       "      <td>164.000000</td>\n",
       "      <td>1</td>\n",
       "      <td>1</td>\n",
       "      <td>3</td>\n",
       "      <td>0</td>\n",
       "      <td>0</td>\n",
       "      <td>3</td>\n",
       "      <td>102.0</td>\n",
       "    </tr>\n",
       "    <tr>\n",
       "      <th>4</th>\n",
       "      <td>164.000000</td>\n",
       "      <td>1</td>\n",
       "      <td>1</td>\n",
       "      <td>3</td>\n",
       "      <td>0</td>\n",
       "      <td>0</td>\n",
       "      <td>3</td>\n",
       "      <td>115.0</td>\n",
       "    </tr>\n",
       "    <tr>\n",
       "      <th>...</th>\n",
       "      <td>...</td>\n",
       "      <td>...</td>\n",
       "      <td>...</td>\n",
       "      <td>...</td>\n",
       "      <td>...</td>\n",
       "      <td>...</td>\n",
       "      <td>...</td>\n",
       "      <td>...</td>\n",
       "    </tr>\n",
       "    <tr>\n",
       "      <th>200</th>\n",
       "      <td>95.000000</td>\n",
       "      <td>21</td>\n",
       "      <td>1</td>\n",
       "      <td>3</td>\n",
       "      <td>1</td>\n",
       "      <td>0</td>\n",
       "      <td>3</td>\n",
       "      <td>114.0</td>\n",
       "    </tr>\n",
       "    <tr>\n",
       "      <th>201</th>\n",
       "      <td>95.000000</td>\n",
       "      <td>21</td>\n",
       "      <td>1</td>\n",
       "      <td>3</td>\n",
       "      <td>1</td>\n",
       "      <td>0</td>\n",
       "      <td>3</td>\n",
       "      <td>160.0</td>\n",
       "    </tr>\n",
       "    <tr>\n",
       "      <th>202</th>\n",
       "      <td>95.000000</td>\n",
       "      <td>21</td>\n",
       "      <td>1</td>\n",
       "      <td>3</td>\n",
       "      <td>1</td>\n",
       "      <td>0</td>\n",
       "      <td>5</td>\n",
       "      <td>134.0</td>\n",
       "    </tr>\n",
       "    <tr>\n",
       "      <th>203</th>\n",
       "      <td>95.000000</td>\n",
       "      <td>21</td>\n",
       "      <td>0</td>\n",
       "      <td>3</td>\n",
       "      <td>1</td>\n",
       "      <td>0</td>\n",
       "      <td>3</td>\n",
       "      <td>106.0</td>\n",
       "    </tr>\n",
       "    <tr>\n",
       "      <th>204</th>\n",
       "      <td>95.000000</td>\n",
       "      <td>21</td>\n",
       "      <td>1</td>\n",
       "      <td>3</td>\n",
       "      <td>1</td>\n",
       "      <td>0</td>\n",
       "      <td>3</td>\n",
       "      <td>114.0</td>\n",
       "    </tr>\n",
       "  </tbody>\n",
       "</table>\n",
       "<p>190 rows × 8 columns</p>\n",
       "</div>"
      ],
      "text/plain": [
       "     normalized-losses  make  fuel-type  body-style  drive-wheels  \\\n",
       "0           121.840491     0          1           0             1   \n",
       "1           121.840491     0          1           0             1   \n",
       "2           121.840491     0          1           2             1   \n",
       "3           164.000000     1          1           3             0   \n",
       "4           164.000000     1          1           3             0   \n",
       "..                 ...   ...        ...         ...           ...   \n",
       "200          95.000000    21          1           3             1   \n",
       "201          95.000000    21          1           3             1   \n",
       "202          95.000000    21          1           3             1   \n",
       "203          95.000000    21          0           3             1   \n",
       "204          95.000000    21          1           3             1   \n",
       "\n",
       "     engine-location  engine-type  horsepower  \n",
       "0                  0            0       111.0  \n",
       "1                  0            0       111.0  \n",
       "2                  0            5       154.0  \n",
       "3                  0            3       102.0  \n",
       "4                  0            3       115.0  \n",
       "..               ...          ...         ...  \n",
       "200                0            3       114.0  \n",
       "201                0            3       160.0  \n",
       "202                0            5       134.0  \n",
       "203                0            3       106.0  \n",
       "204                0            3       114.0  \n",
       "\n",
       "[190 rows x 8 columns]"
      ]
     },
     "execution_count": 78,
     "metadata": {},
     "output_type": "execute_result"
    }
   ],
   "source": [
    "df1_num = df1.select_dtypes(['int','float64'])\n",
    "df1_num"
   ]
  },
  {
   "cell_type": "code",
   "execution_count": 79,
   "id": "a2120412",
   "metadata": {},
   "outputs": [
    {
     "name": "stdout",
     "output_type": "stream",
     "text": [
      "normalized-losses\n",
      "0.8509350534072317\n"
     ]
    },
    {
     "name": "stderr",
     "output_type": "stream",
     "text": [
      "C:\\Users\\ashis\\anaconda3\\lib\\site-packages\\seaborn\\distributions.py:2557: FutureWarning: `distplot` is a deprecated function and will be removed in a future version. Please adapt your code to use either `displot` (a figure-level function with similar flexibility) or `histplot` (an axes-level function for histograms).\n",
      "  warnings.warn(msg, FutureWarning)\n"
     ]
    },
    {
     "data": {
      "image/png": "[encoded data removed]",
      "text/plain": [
       "<Figure size 432x288 with 1 Axes>"
      ]
     },
     "metadata": {
      "needs_background": "light"
     },
     "output_type": "display_data"
    },
    {
     "name": "stdout",
     "output_type": "stream",
     "text": [
      "make\n",
      "-0.272248616505376\n"
     ]
    },
    {
     "name": "stderr",
     "output_type": "stream",
     "text": [
      "C:\\Users\\ashis\\anaconda3\\lib\\site-packages\\seaborn\\distributions.py:2557: FutureWarning: `distplot` is a deprecated function and will be removed in a future version. Please adapt your code to use either `displot` (a figure-level function with similar flexibility) or `histplot` (an axes-level function for histograms).\n",
      "  warnings.warn(msg, FutureWarning)\n"
     ]
    },
    {
     "data": {
      "image/png": "[encoded data removed]",
      "text/plain": [
       "<Figure size 432x288 with 1 Axes>"
      ]
     },
     "metadata": {
      "needs_background": "light"
     },
     "output_type": "display_data"
    },
    {
     "name": "stderr",
     "output_type": "stream",
     "text": [
      "C:\\Users\\ashis\\anaconda3\\lib\\site-packages\\seaborn\\distributions.py:2557: FutureWarning: `distplot` is a deprecated function and will be removed in a future version. Please adapt your code to use either `displot` (a figure-level function with similar flexibility) or `histplot` (an axes-level function for histograms).\n",
      "  warnings.warn(msg, FutureWarning)\n"
     ]
    },
    {
     "name": "stdout",
     "output_type": "stream",
     "text": [
      "fuel-type\n",
      "-2.5724787771376327\n"
     ]
    },
    {
     "data": {
      "image/png": "[encoded data removed]",
      "text/plain": [
       "<Figure size 432x288 with 1 Axes>"
      ]
     },
     "metadata": {
      "needs_background": "light"
     },
     "output_type": "display_data"
    },
    {
     "name": "stderr",
     "output_type": "stream",
     "text": [
      "C:\\Users\\ashis\\anaconda3\\lib\\site-packages\\seaborn\\distributions.py:2557: FutureWarning: `distplot` is a deprecated function and will be removed in a future version. Please adapt your code to use either `displot` (a figure-level function with similar flexibility) or `histplot` (an axes-level function for histograms).\n",
      "  warnings.warn(msg, FutureWarning)\n"
     ]
    },
    {
     "name": "stdout",
     "output_type": "stream",
     "text": [
      "body-style\n",
      "-0.642522286724667\n"
     ]
    },
    {
     "data": {
      "image/png": "[encoded data removed]",
      "text/plain": [
       "<Figure size 432x288 with 1 Axes>"
      ]
     },
     "metadata": {
      "needs_background": "light"
     },
     "output_type": "display_data"
    },
    {
     "name": "stderr",
     "output_type": "stream",
     "text": [
      "C:\\Users\\ashis\\anaconda3\\lib\\site-packages\\seaborn\\distributions.py:2557: FutureWarning: `distplot` is a deprecated function and will be removed in a future version. Please adapt your code to use either `displot` (a figure-level function with similar flexibility) or `histplot` (an axes-level function for histograms).\n",
      "  warnings.warn(msg, FutureWarning)\n"
     ]
    },
    {
     "name": "stdout",
     "output_type": "stream",
     "text": [
      "drive-wheels\n",
      "0.545544725589981\n"
     ]
    },
    {
     "data": {
      "image/png": "[encoded data removed]",
      "text/plain": [
       "<Figure size 432x288 with 1 Axes>"
      ]
     },
     "metadata": {
      "needs_background": "light"
     },
     "output_type": "display_data"
    },
    {
     "name": "stdout",
     "output_type": "stream",
     "text": [
      "engine-location\n",
      "7.768486088941781\n"
     ]
    },
    {
     "name": "stderr",
     "output_type": "stream",
     "text": [
      "C:\\Users\\ashis\\anaconda3\\lib\\site-packages\\seaborn\\distributions.py:2557: FutureWarning: `distplot` is a deprecated function and will be removed in a future version. Please adapt your code to use either `displot` (a figure-level function with similar flexibility) or `histplot` (an axes-level function for histograms).\n",
      "  warnings.warn(msg, FutureWarning)\n"
     ]
    },
    {
     "data": {
      "image/png": "[encoded data removed]",
      "text/plain": [
       "<Figure size 432x288 with 1 Axes>"
      ]
     },
     "metadata": {
      "needs_background": "light"
     },
     "output_type": "display_data"
    },
    {
     "name": "stderr",
     "output_type": "stream",
     "text": [
      "C:\\Users\\ashis\\anaconda3\\lib\\site-packages\\seaborn\\distributions.py:2557: FutureWarning: `distplot` is a deprecated function and will be removed in a future version. Please adapt your code to use either `displot` (a figure-level function with similar flexibility) or `histplot` (an axes-level function for histograms).\n",
      "  warnings.warn(msg, FutureWarning)\n"
     ]
    },
    {
     "name": "stdout",
     "output_type": "stream",
     "text": [
      "engine-type\n",
      "-0.2848871643918615\n"
     ]
    },
    {
     "data": {
      "image/png": "[encoded data removed]",
      "text/plain": [
       "<Figure size 432x288 with 1 Axes>"
      ]
     },
     "metadata": {
      "needs_background": "light"
     },
     "output_type": "display_data"
    },
    {
     "name": "stderr",
     "output_type": "stream",
     "text": [
      "C:\\Users\\ashis\\anaconda3\\lib\\site-packages\\seaborn\\distributions.py:2557: FutureWarning: `distplot` is a deprecated function and will be removed in a future version. Please adapt your code to use either `displot` (a figure-level function with similar flexibility) or `histplot` (an axes-level function for histograms).\n",
      "  warnings.warn(msg, FutureWarning)\n"
     ]
    },
    {
     "name": "stdout",
     "output_type": "stream",
     "text": [
      "horsepower\n",
      "1.5580497160716629\n"
     ]
    },
    {
     "data": {
      "image/png": "[encoded data removed]",
      "text/plain": [
       "<Figure size 432x288 with 1 Axes>"
      ]
     },
     "metadata": {
      "needs_background": "light"
     },
     "output_type": "display_data"
    }
   ],
   "source": [
    "for col in df1_num:\n",
    "  print(col)\n",
    "  print(skew(df1_num[col]))\n",
    "  \n",
    "  plt.figure()\n",
    "  sns.distplot(df1_num[col])\n",
    "  plt.show()"
   ]
  },
  {
   "cell_type": "code",
   "execution_count": 80,
   "id": "ec04f424",
   "metadata": {},
   "outputs": [
    {
     "data": {
      "image/png": "[encoded data removed]",
      "text/plain": [
       "<Figure size 864x576 with 2 Axes>"
      ]
     },
     "metadata": {
      "needs_background": "light"
     },
     "output_type": "display_data"
    }
   ],
   "source": [
    "plt.figure(figsize=(12,8))\n",
    "sns.heatmap(df1_num.corr(),annot=True);\n",
    "plt.show()"
   ]
  },
  {
   "cell_type": "code",
   "execution_count": 81,
   "id": "3a1e8677",
   "metadata": {},
   "outputs": [
    {
     "name": "stderr",
     "output_type": "stream",
     "text": [
      "<ipython-input-81-53b8ae048a49>:1: SettingWithCopyWarning: \n",
      "A value is trying to be set on a copy of a slice from a DataFrame.\n",
      "Try using .loc[row_indexer,col_indexer] = value instead\n",
      "\n",
      "See the caveats in the documentation: https://pandas.pydata.org/pandas-docs/stable/user_guide/indexing.html#returning-a-view-versus-a-copy\n",
      "  df1_num['normalized-losses'] = np.sqrt(df1_num['normalized-losses'])\n"
     ]
    },
    {
     "data": {
      "text/plain": [
       "0.41602320439768264"
      ]
     },
     "execution_count": 81,
     "metadata": {},
     "output_type": "execute_result"
    }
   ],
   "source": [
    "df1_num['normalized-losses'] = np.sqrt(df1_num['normalized-losses'])\n",
    "skew(df1_num['normalized-losses'])"
   ]
  },
  {
   "cell_type": "code",
   "execution_count": 84,
   "id": "3d1f232b",
   "metadata": {},
   "outputs": [],
   "source": [
    "df1.to_csv('new_cars.csv',index=False)   #after cleaning if we want to download this dataframe then used this code"
   ]
  },
  {
   "cell_type": "code",
   "execution_count": null,
   "id": "03cebc45",
   "metadata": {},
   "outputs": [],
   "source": []
  }
 ],
 "metadata": {
  "kernelspec": {
   "display_name": "Python 3",
   "language": "python",
   "name": "python3"
  },
  "language_info": {
   "codemirror_mode": {
    "name": "ipython",
    "version": 3
   },
   "file_extension": ".py",
   "mimetype": "text/x-python",
   "name": "python",
   "nbconvert_exporter": "python",
   "pygments_lexer": "ipython3",
   "version": "3.8.8"
  }
 },
 "nbformat": 4,
 "nbformat_minor": 5
}
